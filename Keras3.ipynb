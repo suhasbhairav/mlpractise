{
  "nbformat": 4,
  "nbformat_minor": 0,
  "metadata": {
    "colab": {
      "name": "Keras3.ipynb",
      "provenance": [],
      "authorship_tag": "ABX9TyOcPypRXrduVdTWqJaAjoC1"
    },
    "kernelspec": {
      "name": "python3",
      "display_name": "Python 3"
    },
    "language_info": {
      "name": "python"
    }
  },
  "cells": [
    {
      "cell_type": "code",
      "metadata": {
        "id": "dBsq2CbjxLNq"
      },
      "source": [
        "from keras.layers import Dense\n",
        "from keras.models import Sequential\n",
        "from keras.datasets import boston_housing\n",
        "from keras.wrappers.scikit_learn import KerasRegressor\n",
        "from sklearn.model_selection import cross_val_score\n",
        "from sklearn.model_selection import KFold\n",
        "import numpy as np"
      ],
      "execution_count": 1,
      "outputs": []
    },
    {
      "cell_type": "code",
      "metadata": {
        "id": "GABt3xo8xPSq"
      },
      "source": [
        "from sklearn.datasets import load_diabetes"
      ],
      "execution_count": 2,
      "outputs": []
    },
    {
      "cell_type": "code",
      "metadata": {
        "id": "stp0qzAOxY8k"
      },
      "source": [
        "dataset = load_diabetes()"
      ],
      "execution_count": 3,
      "outputs": []
    },
    {
      "cell_type": "code",
      "metadata": {
        "id": "_PgJ5biGxbOT"
      },
      "source": [
        "X = dataset.data"
      ],
      "execution_count": 4,
      "outputs": []
    },
    {
      "cell_type": "code",
      "metadata": {
        "id": "2ii3zfdfxf9c"
      },
      "source": [
        "y = dataset.target"
      ],
      "execution_count": 5,
      "outputs": []
    },
    {
      "cell_type": "code",
      "metadata": {
        "colab": {
          "base_uri": "https://localhost:8080/"
        },
        "id": "-wWpTTc5xiG4",
        "outputId": "81a44e4c-c38f-462e-d6f5-d79e85808d7e"
      },
      "source": [
        "n_cols = X.shape[1]\n",
        "n_cols\n",
        "X.shape"
      ],
      "execution_count": 10,
      "outputs": [
        {
          "output_type": "execute_result",
          "data": {
            "text/plain": [
              "(442, 10)"
            ]
          },
          "metadata": {},
          "execution_count": 10
        }
      ]
    },
    {
      "cell_type": "code",
      "metadata": {
        "id": "k6EceWyOxnBW"
      },
      "source": [
        "model = Sequential()"
      ],
      "execution_count": 7,
      "outputs": []
    },
    {
      "cell_type": "code",
      "metadata": {
        "id": "qKalzhWTxo0y"
      },
      "source": [
        "model.add(Dense(15, activation='relu', kernel_initializer='normal'))\n",
        "model.add(Dense(1, kernel_initializer='normal'))"
      ],
      "execution_count": 8,
      "outputs": []
    },
    {
      "cell_type": "code",
      "metadata": {
        "id": "ztFMXAzMx52K"
      },
      "source": [
        "model.compile(optimizer='adam', loss='mean_squared_error')"
      ],
      "execution_count": 11,
      "outputs": []
    },
    {
      "cell_type": "code",
      "metadata": {
        "colab": {
          "base_uri": "https://localhost:8080/"
        },
        "id": "n9SLNr6RyKom",
        "outputId": "5e215194-fdb6-4c8d-8ee8-c272e9540989"
      },
      "source": [
        "history = model.fit(X[:350], y[:350], epochs=100)"
      ],
      "execution_count": 15,
      "outputs": [
        {
          "output_type": "stream",
          "name": "stdout",
          "text": [
            "Epoch 1/100\n",
            "11/11 [==============================] - 0s 2ms/step - loss: 20098.3730\n",
            "Epoch 2/100\n",
            "11/11 [==============================] - 0s 2ms/step - loss: 19960.6250\n",
            "Epoch 3/100\n",
            "11/11 [==============================] - 0s 2ms/step - loss: 19826.2793\n",
            "Epoch 4/100\n",
            "11/11 [==============================] - 0s 2ms/step - loss: 19688.1348\n",
            "Epoch 5/100\n",
            "11/11 [==============================] - 0s 2ms/step - loss: 19552.3770\n",
            "Epoch 6/100\n",
            "11/11 [==============================] - 0s 2ms/step - loss: 19414.0879\n",
            "Epoch 7/100\n",
            "11/11 [==============================] - 0s 2ms/step - loss: 19280.8730\n",
            "Epoch 8/100\n",
            "11/11 [==============================] - 0s 2ms/step - loss: 19142.3359\n",
            "Epoch 9/100\n",
            "11/11 [==============================] - 0s 2ms/step - loss: 19003.6895\n",
            "Epoch 10/100\n",
            "11/11 [==============================] - 0s 2ms/step - loss: 18868.5137\n",
            "Epoch 11/100\n",
            "11/11 [==============================] - 0s 2ms/step - loss: 18729.4492\n",
            "Epoch 12/100\n",
            "11/11 [==============================] - 0s 2ms/step - loss: 18593.1289\n",
            "Epoch 13/100\n",
            "11/11 [==============================] - 0s 2ms/step - loss: 18456.6191\n",
            "Epoch 14/100\n",
            "11/11 [==============================] - 0s 2ms/step - loss: 18318.9277\n",
            "Epoch 15/100\n",
            "11/11 [==============================] - 0s 2ms/step - loss: 18180.6387\n",
            "Epoch 16/100\n",
            "11/11 [==============================] - 0s 2ms/step - loss: 18045.1191\n",
            "Epoch 17/100\n",
            "11/11 [==============================] - 0s 2ms/step - loss: 17909.0234\n",
            "Epoch 18/100\n",
            "11/11 [==============================] - 0s 2ms/step - loss: 17768.8887\n",
            "Epoch 19/100\n",
            "11/11 [==============================] - 0s 2ms/step - loss: 17634.9512\n",
            "Epoch 20/100\n",
            "11/11 [==============================] - 0s 2ms/step - loss: 17497.9277\n",
            "Epoch 21/100\n",
            "11/11 [==============================] - 0s 2ms/step - loss: 17359.7832\n",
            "Epoch 22/100\n",
            "11/11 [==============================] - 0s 2ms/step - loss: 17223.0391\n",
            "Epoch 23/100\n",
            "11/11 [==============================] - 0s 3ms/step - loss: 17088.3477\n",
            "Epoch 24/100\n",
            "11/11 [==============================] - 0s 2ms/step - loss: 16953.7773\n",
            "Epoch 25/100\n",
            "11/11 [==============================] - 0s 2ms/step - loss: 16816.0684\n",
            "Epoch 26/100\n",
            "11/11 [==============================] - 0s 2ms/step - loss: 16680.0098\n",
            "Epoch 27/100\n",
            "11/11 [==============================] - 0s 2ms/step - loss: 16544.2051\n",
            "Epoch 28/100\n",
            "11/11 [==============================] - 0s 2ms/step - loss: 16410.2637\n",
            "Epoch 29/100\n",
            "11/11 [==============================] - 0s 2ms/step - loss: 16276.8262\n",
            "Epoch 30/100\n",
            "11/11 [==============================] - 0s 2ms/step - loss: 16144.3271\n",
            "Epoch 31/100\n",
            "11/11 [==============================] - 0s 2ms/step - loss: 16004.8281\n",
            "Epoch 32/100\n",
            "11/11 [==============================] - 0s 2ms/step - loss: 15872.7490\n",
            "Epoch 33/100\n",
            "11/11 [==============================] - 0s 2ms/step - loss: 15739.5586\n",
            "Epoch 34/100\n",
            "11/11 [==============================] - 0s 2ms/step - loss: 15609.2227\n",
            "Epoch 35/100\n",
            "11/11 [==============================] - 0s 2ms/step - loss: 15473.3896\n",
            "Epoch 36/100\n",
            "11/11 [==============================] - 0s 2ms/step - loss: 15343.9502\n",
            "Epoch 37/100\n",
            "11/11 [==============================] - 0s 2ms/step - loss: 15210.5039\n",
            "Epoch 38/100\n",
            "11/11 [==============================] - 0s 2ms/step - loss: 15078.7695\n",
            "Epoch 39/100\n",
            "11/11 [==============================] - 0s 2ms/step - loss: 14949.8867\n",
            "Epoch 40/100\n",
            "11/11 [==============================] - 0s 2ms/step - loss: 14818.9199\n",
            "Epoch 41/100\n",
            "11/11 [==============================] - 0s 2ms/step - loss: 14686.2959\n",
            "Epoch 42/100\n",
            "11/11 [==============================] - 0s 2ms/step - loss: 14558.7871\n",
            "Epoch 43/100\n",
            "11/11 [==============================] - 0s 3ms/step - loss: 14429.3467\n",
            "Epoch 44/100\n",
            "11/11 [==============================] - 0s 2ms/step - loss: 14302.7432\n",
            "Epoch 45/100\n",
            "11/11 [==============================] - 0s 2ms/step - loss: 14173.1475\n",
            "Epoch 46/100\n",
            "11/11 [==============================] - 0s 2ms/step - loss: 14048.4131\n",
            "Epoch 47/100\n",
            "11/11 [==============================] - 0s 2ms/step - loss: 13917.7715\n",
            "Epoch 48/100\n",
            "11/11 [==============================] - 0s 2ms/step - loss: 13792.8447\n",
            "Epoch 49/100\n",
            "11/11 [==============================] - 0s 2ms/step - loss: 13668.7617\n",
            "Epoch 50/100\n",
            "11/11 [==============================] - 0s 2ms/step - loss: 13540.8672\n",
            "Epoch 51/100\n",
            "11/11 [==============================] - 0s 2ms/step - loss: 13419.7158\n",
            "Epoch 52/100\n",
            "11/11 [==============================] - 0s 2ms/step - loss: 13295.8018\n",
            "Epoch 53/100\n",
            "11/11 [==============================] - 0s 2ms/step - loss: 13172.9717\n",
            "Epoch 54/100\n",
            "11/11 [==============================] - 0s 2ms/step - loss: 13048.2002\n",
            "Epoch 55/100\n",
            "11/11 [==============================] - 0s 2ms/step - loss: 12925.8916\n",
            "Epoch 56/100\n",
            "11/11 [==============================] - 0s 2ms/step - loss: 12805.0811\n",
            "Epoch 57/100\n",
            "11/11 [==============================] - 0s 2ms/step - loss: 12687.9570\n",
            "Epoch 58/100\n",
            "11/11 [==============================] - 0s 2ms/step - loss: 12566.4600\n",
            "Epoch 59/100\n",
            "11/11 [==============================] - 0s 2ms/step - loss: 12446.4102\n",
            "Epoch 60/100\n",
            "11/11 [==============================] - 0s 2ms/step - loss: 12328.1172\n",
            "Epoch 61/100\n",
            "11/11 [==============================] - 0s 2ms/step - loss: 12210.6943\n",
            "Epoch 62/100\n",
            "11/11 [==============================] - 0s 2ms/step - loss: 12092.7324\n",
            "Epoch 63/100\n",
            "11/11 [==============================] - 0s 2ms/step - loss: 11979.0107\n",
            "Epoch 64/100\n",
            "11/11 [==============================] - 0s 2ms/step - loss: 11861.4834\n",
            "Epoch 65/100\n",
            "11/11 [==============================] - 0s 2ms/step - loss: 11747.9131\n",
            "Epoch 66/100\n",
            "11/11 [==============================] - 0s 2ms/step - loss: 11632.6182\n",
            "Epoch 67/100\n",
            "11/11 [==============================] - 0s 2ms/step - loss: 11518.5693\n",
            "Epoch 68/100\n",
            "11/11 [==============================] - 0s 2ms/step - loss: 11407.3945\n",
            "Epoch 69/100\n",
            "11/11 [==============================] - 0s 2ms/step - loss: 11295.9297\n",
            "Epoch 70/100\n",
            "11/11 [==============================] - 0s 2ms/step - loss: 11185.8662\n",
            "Epoch 71/100\n",
            "11/11 [==============================] - 0s 2ms/step - loss: 11074.8760\n",
            "Epoch 72/100\n",
            "11/11 [==============================] - 0s 2ms/step - loss: 10968.3760\n",
            "Epoch 73/100\n",
            "11/11 [==============================] - 0s 2ms/step - loss: 10856.2441\n",
            "Epoch 74/100\n",
            "11/11 [==============================] - 0s 2ms/step - loss: 10749.2100\n",
            "Epoch 75/100\n",
            "11/11 [==============================] - 0s 2ms/step - loss: 10643.7539\n",
            "Epoch 76/100\n",
            "11/11 [==============================] - 0s 2ms/step - loss: 10536.3262\n",
            "Epoch 77/100\n",
            "11/11 [==============================] - 0s 2ms/step - loss: 10434.1826\n",
            "Epoch 78/100\n",
            "11/11 [==============================] - 0s 2ms/step - loss: 10329.0967\n",
            "Epoch 79/100\n",
            "11/11 [==============================] - 0s 2ms/step - loss: 10222.9805\n",
            "Epoch 80/100\n",
            "11/11 [==============================] - 0s 2ms/step - loss: 10120.6055\n",
            "Epoch 81/100\n",
            "11/11 [==============================] - 0s 2ms/step - loss: 10023.6787\n",
            "Epoch 82/100\n",
            "11/11 [==============================] - 0s 2ms/step - loss: 9920.3857\n",
            "Epoch 83/100\n",
            "11/11 [==============================] - 0s 2ms/step - loss: 9821.5947\n",
            "Epoch 84/100\n",
            "11/11 [==============================] - 0s 2ms/step - loss: 9721.9551\n",
            "Epoch 85/100\n",
            "11/11 [==============================] - 0s 2ms/step - loss: 9622.5186\n",
            "Epoch 86/100\n",
            "11/11 [==============================] - 0s 2ms/step - loss: 9527.7734\n",
            "Epoch 87/100\n",
            "11/11 [==============================] - 0s 2ms/step - loss: 9430.3750\n",
            "Epoch 88/100\n",
            "11/11 [==============================] - 0s 2ms/step - loss: 9336.5703\n",
            "Epoch 89/100\n",
            "11/11 [==============================] - 0s 2ms/step - loss: 9242.5605\n",
            "Epoch 90/100\n",
            "11/11 [==============================] - 0s 2ms/step - loss: 9147.8389\n",
            "Epoch 91/100\n",
            "11/11 [==============================] - 0s 2ms/step - loss: 9055.4619\n",
            "Epoch 92/100\n",
            "11/11 [==============================] - 0s 2ms/step - loss: 8963.6914\n",
            "Epoch 93/100\n",
            "11/11 [==============================] - 0s 2ms/step - loss: 8873.9160\n",
            "Epoch 94/100\n",
            "11/11 [==============================] - 0s 2ms/step - loss: 8785.1855\n",
            "Epoch 95/100\n",
            "11/11 [==============================] - 0s 2ms/step - loss: 8694.8359\n",
            "Epoch 96/100\n",
            "11/11 [==============================] - 0s 2ms/step - loss: 8609.4004\n",
            "Epoch 97/100\n",
            "11/11 [==============================] - 0s 2ms/step - loss: 8520.0146\n",
            "Epoch 98/100\n",
            "11/11 [==============================] - 0s 2ms/step - loss: 8435.5312\n",
            "Epoch 99/100\n",
            "11/11 [==============================] - 0s 2ms/step - loss: 8349.9512\n",
            "Epoch 100/100\n",
            "11/11 [==============================] - 0s 2ms/step - loss: 8267.1855\n"
          ]
        }
      ]
    },
    {
      "cell_type": "code",
      "metadata": {
        "colab": {
          "base_uri": "https://localhost:8080/"
        },
        "id": "iJyRB4a-yQHS",
        "outputId": "b7ae39ff-1524-48b1-8e0e-05441ee6f45d"
      },
      "source": [
        "score = model.evaluate(X[350:], y[350:])"
      ],
      "execution_count": 16,
      "outputs": [
        {
          "output_type": "stream",
          "name": "stdout",
          "text": [
            "3/3 [==============================] - 0s 5ms/step - loss: 8959.3438\n"
          ]
        }
      ]
    },
    {
      "cell_type": "code",
      "metadata": {
        "id": "OI3BHNWpycOa"
      },
      "source": [
        ""
      ],
      "execution_count": null,
      "outputs": []
    }
  ]
}