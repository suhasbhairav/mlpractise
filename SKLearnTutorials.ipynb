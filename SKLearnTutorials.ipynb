{
  "nbformat": 4,
  "nbformat_minor": 0,
  "metadata": {
    "colab": {
      "name": "SKLearnTutorials.ipynb",
      "provenance": [],
      "authorship_tag": "ABX9TyOUGiGGhRefj/di6NT1RJCl"
    },
    "kernelspec": {
      "name": "python3",
      "display_name": "Python 3"
    },
    "language_info": {
      "name": "python"
    }
  },
  "cells": [
    {
      "cell_type": "code",
      "metadata": {
        "id": "zNb7YqlbltyX"
      },
      "source": [
        "import sklearn"
      ],
      "execution_count": 1,
      "outputs": []
    },
    {
      "cell_type": "code",
      "metadata": {
        "id": "4q6MjosLoa6s"
      },
      "source": [
        "from sklearn.datasets import make_blobs"
      ],
      "execution_count": 2,
      "outputs": []
    },
    {
      "cell_type": "code",
      "metadata": {
        "id": "Hpa0lFDUogYn"
      },
      "source": [
        "X, y = make_blobs(n_samples=1000, centers=20, random_state=123)"
      ],
      "execution_count": 3,
      "outputs": []
    },
    {
      "cell_type": "code",
      "metadata": {
        "id": "ofFfWZiConEE"
      },
      "source": [
        "labels = [\"b\", \"r\"]"
      ],
      "execution_count": 4,
      "outputs": []
    },
    {
      "cell_type": "code",
      "metadata": {
        "colab": {
          "base_uri": "https://localhost:8080/"
        },
        "id": "ARQX9txZoqU2",
        "outputId": "3da802b0-ce36-483c-b9e2-c7540e46a6f9"
      },
      "source": [
        "y"
      ],
      "execution_count": 5,
      "outputs": [
        {
          "output_type": "execute_result",
          "data": {
            "text/plain": [
              "array([ 8,  9, 16,  5, 12,  5,  6,  2,  2,  7,  5,  3, 11, 18,  6,  1,  3,\n",
              "        3, 18, 19,  2, 18,  0,  9,  9,  2,  4,  4, 18,  7, 18, 13, 11, 11,\n",
              "       14,  1, 19, 15, 12, 10, 19,  0,  9, 10, 16,  4,  3,  2, 13,  6,  5,\n",
              "        9,  9,  4,  9,  8,  1, 11,  3,  2,  2, 12, 18,  2,  4,  6,  0, 17,\n",
              "       13,  7,  7, 17,  2, 19,  8, 18,  0,  7,  5, 16,  1, 12, 10, 17, 15,\n",
              "       18, 14,  7,  0, 17, 10,  7, 15,  8,  2,  6,  7, 14, 19,  7,  3, 11,\n",
              "       14,  7,  9, 10,  0,  0, 11,  5, 10, 11, 18,  0,  0,  7, 18, 13, 10,\n",
              "        4,  1,  3, 14, 13,  0, 14,  2,  4,  8,  4, 12, 12,  4, 17,  4, 16,\n",
              "       19,  1,  1,  6,  6,  5,  4, 19,  3,  1, 19,  6, 18,  3,  5, 10,  0,\n",
              "        2, 19,  1, 10,  1,  8, 11, 11,  8, 11, 17, 17, 15, 11, 13,  3,  5,\n",
              "       19,  3,  7,  5,  9, 18, 11, 13,  4, 15, 18,  7, 15, 12, 17,  1,  2,\n",
              "        7, 19, 14, 15, 15,  8,  9,  0, 13,  6,  7, 11, 18, 11, 19, 11,  9,\n",
              "        9,  3, 17, 19, 16, 10, 17, 11, 16, 18,  0, 16,  2, 14, 15, 14, 15,\n",
              "        2,  0, 12, 19, 19,  3,  5,  8,  9, 13, 18,  2,  6,  9,  4, 18,  6,\n",
              "        7,  0,  5, 11, 12,  3,  8,  3,  9, 11, 14,  1,  9, 11,  7, 19, 19,\n",
              "       10, 18,  7,  6,  5,  5, 14,  5,  7, 13,  7,  1,  5,  6,  4, 12,  4,\n",
              "        4, 11,  7, 18, 12,  3,  5,  2, 17, 16,  4, 19,  9, 13,  8,  3,  6,\n",
              "       12, 18, 17, 17,  4, 16,  6,  2, 16,  6,  5,  8, 12, 17,  0, 13, 14,\n",
              "        8,  5, 12, 13, 15, 11,  4, 15, 16,  2, 12, 12,  1, 15,  6,  5,  3,\n",
              "       13, 18,  0, 12, 10, 13, 16,  6, 19,  6, 16,  2,  6,  4,  0, 12, 12,\n",
              "       17, 17, 11,  8, 18, 12, 14,  5, 14,  7,  5, 11,  0,  8,  9, 14,  2,\n",
              "       14, 10, 13,  2,  1,  0, 19,  1, 14, 17,  0,  1,  8, 16,  9, 13,  2,\n",
              "       16, 14,  7,  9,  6, 16, 11, 15,  8, 19, 19,  8, 11, 13,  4,  5, 19,\n",
              "       19,  0,  2,  8,  4,  5,  9, 14, 19,  7,  5, 12,  1, 13,  1, 18,  5,\n",
              "        2,  3,  7,  1, 18, 12,  8, 14,  9,  1,  0, 17,  4,  9, 12,  4,  3,\n",
              "        2, 12,  3,  9,  4,  9, 13,  5, 14,  1,  4, 19, 18, 10, 18, 12,  5,\n",
              "       10,  6, 16,  9,  7,  3,  3, 15,  8, 10, 10,  3, 16, 14,  5,  6,  6,\n",
              "        2, 14,  8, 13,  4,  7,  1, 17, 16,  8,  8,  0, 19, 16, 15, 18,  2,\n",
              "       14,  3,  4, 10, 14,  7, 11, 18,  8,  0,  3,  1, 10, 10, 12,  0, 15,\n",
              "       13, 19, 18, 10, 14, 12,  5, 14, 17, 11,  8, 10,  4, 11, 12, 18,  9,\n",
              "        1, 12, 14,  1,  2,  0,  7, 17, 16, 19,  5, 18,  1, 11, 15, 10,  6,\n",
              "        0, 15,  3,  0, 10, 15,  1, 15, 12,  3,  2, 13, 19,  3,  8, 19,  6,\n",
              "       10, 18,  3, 17, 16, 17,  8,  9, 16, 18, 17, 16, 12, 16,  4, 19, 10,\n",
              "        5,  3, 10, 13,  3,  8,  5, 15, 17,  6, 16,  0, 16, 14, 15, 15,  0,\n",
              "       13,  6, 15, 13,  2, 15,  8, 14, 11, 19, 17,  7, 13,  6,  9, 12,  8,\n",
              "        5,  8,  5,  1,  8,  8, 14,  3, 11, 17,  4, 19,  3, 14, 18, 15,  0,\n",
              "       19,  5, 19, 13, 18,  7,  1, 16, 14, 11, 11, 11, 12, 10, 11, 10,  7,\n",
              "       17,  0,  2,  8,  0,  1, 19, 12, 13,  2,  7, 16,  2, 12,  9,  1, 10,\n",
              "        4,  2,  8, 18, 17, 13,  6, 16,  5, 11, 10,  1,  1,  2, 10, 13, 14,\n",
              "       11,  0, 13, 14,  8, 16, 12, 14,  7, 15, 19, 11, 18, 13, 18, 14,  7,\n",
              "        3,  9, 13,  9,  1,  9, 13,  9,  5,  6,  1,  4, 11,  6, 19, 14,  9,\n",
              "       18, 18,  5,  5,  8,  4,  6,  7,  3,  0,  9, 10,  5, 16, 11,  3, 19,\n",
              "        2,  7, 15,  4, 16,  6, 16,  7, 15,  9,  1, 10, 10,  4, 11,  3,  7,\n",
              "        2,  1, 13, 17,  1,  2, 14,  0,  3, 15, 15,  4, 15, 14,  1,  1,  6,\n",
              "        0,  3, 13, 11, 17,  6, 14, 16,  1, 15, 16,  9, 13,  7,  3, 14,  3,\n",
              "       11, 14,  8, 10, 19,  1,  3,  0, 15,  3,  7, 18, 15, 13,  2,  8, 17,\n",
              "        9, 10, 17, 18, 16,  4,  4,  8, 14, 12, 17,  9, 15, 19, 13, 11,  9,\n",
              "       18, 17,  7,  6,  5,  0,  3, 17,  0,  6, 13, 12,  6, 12, 15, 16, 15,\n",
              "       12, 16,  9, 15,  1, 15,  7, 12, 12, 11, 10, 19,  4, 10, 13,  5,  6,\n",
              "        2, 15,  8, 10,  8,  1, 12,  1,  2,  3,  7,  7,  2, 10, 15, 19, 11,\n",
              "        4, 11,  6,  5,  6, 12,  6,  4, 10, 10, 17, 13,  7,  0,  4,  9,  7,\n",
              "       13,  6,  9, 12,  9, 18, 16,  6, 10, 13,  5, 17, 10,  4,  1, 13,  2,\n",
              "        2,  0,  4,  5, 17,  6,  0,  9, 15, 12,  6, 15,  4, 12, 19,  2, 16,\n",
              "       17, 11,  0,  3, 14,  6,  5, 13, 14,  4, 17, 17, 15, 11, 17,  8, 18,\n",
              "       11,  1, 19, 16,  8, 10,  0,  9, 10, 18, 17, 10, 16, 19,  4, 15, 12,\n",
              "       16,  8, 18,  0,  1, 14, 17, 15, 15,  6, 14, 16, 13,  8,  3,  7,  9,\n",
              "       12, 17, 16,  9,  0, 13,  7, 15, 16,  4,  8,  2,  2,  5, 18,  3,  6,\n",
              "       14,  9, 16,  2, 17,  0,  8,  7, 16,  5, 19, 14, 18, 17, 19, 10, 12,\n",
              "        0, 17, 19,  8,  5,  2, 13,  3,  1, 17, 16,  4, 18, 10])"
            ]
          },
          "metadata": {
            "tags": []
          },
          "execution_count": 5
        }
      ]
    },
    {
      "cell_type": "code",
      "metadata": {
        "id": "T6beXJHRouRv"
      },
      "source": [
        "import numpy as np\n",
        "import pandas as pd\n",
        "y = np.take(labels, (y<10))"
      ],
      "execution_count": 7,
      "outputs": []
    },
    {
      "cell_type": "code",
      "metadata": {
        "colab": {
          "base_uri": "https://localhost:8080/"
        },
        "id": "qWsRNXjKo1_8",
        "outputId": "06503e00-b27d-470a-e763-421dbef296e8"
      },
      "source": [
        "y"
      ],
      "execution_count": 8,
      "outputs": [
        {
          "output_type": "execute_result",
          "data": {
            "text/plain": [
              "array(['r', 'r', 'b', 'r', 'b', 'r', 'r', 'r', 'r', 'r', 'r', 'r', 'b',\n",
              "       'b', 'r', 'r', 'r', 'r', 'b', 'b', 'r', 'b', 'r', 'r', 'r', 'r',\n",
              "       'r', 'r', 'b', 'r', 'b', 'b', 'b', 'b', 'b', 'r', 'b', 'b', 'b',\n",
              "       'b', 'b', 'r', 'r', 'b', 'b', 'r', 'r', 'r', 'b', 'r', 'r', 'r',\n",
              "       'r', 'r', 'r', 'r', 'r', 'b', 'r', 'r', 'r', 'b', 'b', 'r', 'r',\n",
              "       'r', 'r', 'b', 'b', 'r', 'r', 'b', 'r', 'b', 'r', 'b', 'r', 'r',\n",
              "       'r', 'b', 'r', 'b', 'b', 'b', 'b', 'b', 'b', 'r', 'r', 'b', 'b',\n",
              "       'r', 'b', 'r', 'r', 'r', 'r', 'b', 'b', 'r', 'r', 'b', 'b', 'r',\n",
              "       'r', 'b', 'r', 'r', 'b', 'r', 'b', 'b', 'b', 'r', 'r', 'r', 'b',\n",
              "       'b', 'b', 'r', 'r', 'r', 'b', 'b', 'r', 'b', 'r', 'r', 'r', 'r',\n",
              "       'b', 'b', 'r', 'b', 'r', 'b', 'b', 'r', 'r', 'r', 'r', 'r', 'r',\n",
              "       'b', 'r', 'r', 'b', 'r', 'b', 'r', 'r', 'b', 'r', 'r', 'b', 'r',\n",
              "       'b', 'r', 'r', 'b', 'b', 'r', 'b', 'b', 'b', 'b', 'b', 'b', 'r',\n",
              "       'r', 'b', 'r', 'r', 'r', 'r', 'b', 'b', 'b', 'r', 'b', 'b', 'r',\n",
              "       'b', 'b', 'b', 'r', 'r', 'r', 'b', 'b', 'b', 'b', 'r', 'r', 'r',\n",
              "       'b', 'r', 'r', 'b', 'b', 'b', 'b', 'b', 'r', 'r', 'r', 'b', 'b',\n",
              "       'b', 'b', 'b', 'b', 'b', 'b', 'r', 'b', 'r', 'b', 'b', 'b', 'b',\n",
              "       'r', 'r', 'b', 'b', 'b', 'r', 'r', 'r', 'r', 'b', 'b', 'r', 'r',\n",
              "       'r', 'r', 'b', 'r', 'r', 'r', 'r', 'b', 'b', 'r', 'r', 'r', 'r',\n",
              "       'b', 'b', 'r', 'r', 'b', 'r', 'b', 'b', 'b', 'b', 'r', 'r', 'r',\n",
              "       'r', 'b', 'r', 'r', 'b', 'r', 'r', 'r', 'r', 'r', 'b', 'r', 'r',\n",
              "       'b', 'r', 'b', 'b', 'r', 'r', 'r', 'b', 'b', 'r', 'b', 'r', 'b',\n",
              "       'r', 'r', 'r', 'b', 'b', 'b', 'b', 'r', 'b', 'r', 'r', 'b', 'r',\n",
              "       'r', 'r', 'b', 'b', 'r', 'b', 'b', 'r', 'r', 'b', 'b', 'b', 'b',\n",
              "       'r', 'b', 'b', 'r', 'b', 'b', 'r', 'b', 'r', 'r', 'r', 'b', 'b',\n",
              "       'r', 'b', 'b', 'b', 'b', 'r', 'b', 'r', 'b', 'r', 'r', 'r', 'r',\n",
              "       'b', 'b', 'b', 'b', 'b', 'r', 'b', 'b', 'b', 'r', 'b', 'r', 'r',\n",
              "       'b', 'r', 'r', 'r', 'b', 'r', 'b', 'b', 'b', 'r', 'r', 'r', 'b',\n",
              "       'r', 'b', 'b', 'r', 'r', 'r', 'b', 'r', 'b', 'r', 'b', 'b', 'r',\n",
              "       'r', 'r', 'b', 'b', 'b', 'r', 'b', 'b', 'r', 'b', 'b', 'r', 'r',\n",
              "       'b', 'b', 'r', 'r', 'r', 'r', 'r', 'r', 'b', 'b', 'r', 'r', 'b',\n",
              "       'r', 'b', 'r', 'b', 'r', 'r', 'r', 'r', 'r', 'b', 'b', 'r', 'b',\n",
              "       'r', 'r', 'r', 'b', 'r', 'r', 'b', 'r', 'r', 'r', 'b', 'r', 'r',\n",
              "       'r', 'r', 'b', 'r', 'b', 'r', 'r', 'b', 'b', 'b', 'b', 'b', 'r',\n",
              "       'b', 'r', 'b', 'r', 'r', 'r', 'r', 'b', 'r', 'b', 'b', 'r', 'b',\n",
              "       'b', 'r', 'r', 'r', 'r', 'b', 'r', 'b', 'r', 'r', 'r', 'b', 'b',\n",
              "       'r', 'r', 'r', 'b', 'b', 'b', 'b', 'r', 'b', 'r', 'r', 'b', 'b',\n",
              "       'r', 'b', 'b', 'r', 'r', 'r', 'r', 'b', 'b', 'b', 'r', 'b', 'b',\n",
              "       'b', 'b', 'b', 'b', 'b', 'r', 'b', 'b', 'b', 'r', 'b', 'r', 'b',\n",
              "       'b', 'b', 'r', 'r', 'b', 'b', 'r', 'r', 'r', 'r', 'b', 'b', 'b',\n",
              "       'r', 'b', 'r', 'b', 'b', 'b', 'r', 'r', 'b', 'r', 'r', 'b', 'b',\n",
              "       'r', 'b', 'b', 'r', 'r', 'b', 'b', 'r', 'r', 'b', 'r', 'b', 'b',\n",
              "       'r', 'b', 'b', 'b', 'r', 'r', 'b', 'b', 'b', 'b', 'b', 'b', 'r',\n",
              "       'b', 'b', 'r', 'r', 'b', 'b', 'r', 'r', 'r', 'b', 'b', 'r', 'b',\n",
              "       'r', 'b', 'b', 'b', 'b', 'r', 'b', 'r', 'b', 'b', 'r', 'b', 'r',\n",
              "       'b', 'b', 'b', 'b', 'r', 'b', 'r', 'r', 'b', 'r', 'r', 'r', 'r',\n",
              "       'r', 'r', 'r', 'b', 'r', 'b', 'b', 'r', 'b', 'r', 'b', 'b', 'b',\n",
              "       'r', 'b', 'r', 'b', 'b', 'b', 'r', 'r', 'b', 'b', 'b', 'b', 'b',\n",
              "       'b', 'b', 'b', 'b', 'r', 'b', 'r', 'r', 'r', 'r', 'r', 'b', 'b',\n",
              "       'b', 'r', 'r', 'b', 'r', 'b', 'r', 'r', 'b', 'r', 'r', 'r', 'b',\n",
              "       'b', 'b', 'r', 'b', 'r', 'b', 'b', 'r', 'r', 'r', 'b', 'b', 'b',\n",
              "       'b', 'r', 'b', 'b', 'r', 'b', 'b', 'b', 'r', 'b', 'b', 'b', 'b',\n",
              "       'b', 'b', 'b', 'r', 'r', 'r', 'b', 'r', 'r', 'r', 'b', 'r', 'r',\n",
              "       'r', 'r', 'r', 'b', 'r', 'b', 'b', 'r', 'b', 'b', 'r', 'r', 'r',\n",
              "       'r', 'r', 'r', 'r', 'r', 'r', 'b', 'r', 'b', 'b', 'r', 'b', 'r',\n",
              "       'r', 'b', 'r', 'b', 'r', 'b', 'r', 'b', 'r', 'r', 'b', 'b', 'r',\n",
              "       'b', 'r', 'r', 'r', 'r', 'b', 'b', 'r', 'r', 'b', 'r', 'r', 'b',\n",
              "       'b', 'r', 'b', 'b', 'r', 'r', 'r', 'r', 'r', 'b', 'b', 'b', 'r',\n",
              "       'b', 'b', 'r', 'b', 'b', 'r', 'b', 'r', 'r', 'b', 'r', 'b', 'b',\n",
              "       'r', 'b', 'b', 'r', 'r', 'r', 'b', 'r', 'r', 'b', 'b', 'b', 'r',\n",
              "       'r', 'b', 'r', 'b', 'b', 'b', 'b', 'r', 'r', 'r', 'b', 'b', 'b',\n",
              "       'r', 'b', 'b', 'b', 'b', 'r', 'b', 'b', 'r', 'r', 'r', 'r', 'r',\n",
              "       'b', 'r', 'r', 'b', 'b', 'r', 'b', 'b', 'b', 'b', 'b', 'b', 'r',\n",
              "       'b', 'r', 'b', 'r', 'b', 'b', 'b', 'b', 'b', 'r', 'b', 'b', 'r',\n",
              "       'r', 'r', 'b', 'r', 'b', 'r', 'r', 'b', 'r', 'r', 'r', 'r', 'r',\n",
              "       'r', 'b', 'b', 'b', 'b', 'r', 'b', 'r', 'r', 'r', 'b', 'r', 'r',\n",
              "       'b', 'b', 'b', 'b', 'r', 'r', 'r', 'r', 'r', 'b', 'r', 'r', 'b',\n",
              "       'r', 'b', 'b', 'r', 'b', 'b', 'r', 'b', 'b', 'r', 'r', 'b', 'r',\n",
              "       'r', 'r', 'r', 'r', 'b', 'r', 'r', 'r', 'b', 'b', 'r', 'b', 'r',\n",
              "       'b', 'b', 'r', 'b', 'b', 'b', 'r', 'r', 'b', 'r', 'r', 'b', 'b',\n",
              "       'r', 'b', 'b', 'b', 'b', 'b', 'r', 'b', 'b', 'r', 'b', 'b', 'r',\n",
              "       'b', 'r', 'r', 'b', 'b', 'b', 'b', 'b', 'b', 'r', 'b', 'b', 'b',\n",
              "       'r', 'b', 'r', 'r', 'b', 'b', 'b', 'b', 'r', 'b', 'b', 'b', 'r',\n",
              "       'r', 'r', 'r', 'b', 'b', 'b', 'r', 'r', 'b', 'r', 'b', 'b', 'r',\n",
              "       'r', 'r', 'r', 'r', 'b', 'r', 'r', 'b', 'r', 'b', 'r', 'b', 'r',\n",
              "       'r', 'r', 'b', 'r', 'b', 'b', 'b', 'b', 'b', 'b', 'b', 'r', 'b',\n",
              "       'b', 'r', 'r', 'r', 'b', 'r', 'r', 'b', 'b', 'r', 'b', 'b'],\n",
              "      dtype='<U1')"
            ]
          },
          "metadata": {
            "tags": []
          },
          "execution_count": 8
        }
      ]
    },
    {
      "cell_type": "code",
      "metadata": {
        "colab": {
          "base_uri": "https://localhost:8080/"
        },
        "id": "_5wdYXVMo3BF",
        "outputId": "56dbc3a1-d274-48d6-b685-3385c436c158"
      },
      "source": [
        "print(X.shape)"
      ],
      "execution_count": 9,
      "outputs": [
        {
          "output_type": "stream",
          "text": [
            "(1000, 2)\n"
          ],
          "name": "stdout"
        }
      ]
    },
    {
      "cell_type": "code",
      "metadata": {
        "colab": {
          "base_uri": "https://localhost:8080/"
        },
        "id": "DVTk-Vo5o8Ez",
        "outputId": "eeabe862-6082-49b5-9a09-8428409d5f2f"
      },
      "source": [
        "print(y.shape)"
      ],
      "execution_count": 10,
      "outputs": [
        {
          "output_type": "stream",
          "text": [
            "(1000,)\n"
          ],
          "name": "stdout"
        }
      ]
    },
    {
      "cell_type": "code",
      "metadata": {
        "colab": {
          "base_uri": "https://localhost:8080/"
        },
        "id": "Eg1E7T67o_DP",
        "outputId": "84b5cafb-d44f-4107-ac07-d1794a6e7360"
      },
      "source": [
        "X[0]"
      ],
      "execution_count": 11,
      "outputs": [
        {
          "output_type": "execute_result",
          "data": {
            "text/plain": [
              "array([-6.45255647, -8.76358259])"
            ]
          },
          "metadata": {
            "tags": []
          },
          "execution_count": 11
        }
      ]
    },
    {
      "cell_type": "code",
      "metadata": {
        "id": "6jwWGgiRpAgu"
      },
      "source": [
        "import matplotlib.pyplot as plt\n",
        "%matplotlib inline"
      ],
      "execution_count": 12,
      "outputs": []
    },
    {
      "cell_type": "code",
      "metadata": {
        "colab": {
          "base_uri": "https://localhost:8080/",
          "height": 269
        },
        "id": "RiYkVvTLpGQd",
        "outputId": "fe3a328f-024c-4b2b-c8ea-aeb0cd8ef59d"
      },
      "source": [
        "plt.figure()\n",
        "for label in labels:\n",
        "  mask = (y == label)\n",
        "  plt.scatter(X[mask, 0], X[mask, 1], c=label)\n",
        "plt.xlim(-10, 10)\n",
        "plt.ylim(-10, 10)\n",
        "plt.show()"
      ],
      "execution_count": 17,
      "outputs": [
        {
          "output_type": "display_data",
          "data": {
            "image/png": "[encoded data removed]",
            "text/plain": [
              "<Figure size 432x288 with 1 Axes>"
            ]
          },
          "metadata": {
            "tags": [],
            "needs_background": "light"
          }
        }
      ]
    },
    {
      "cell_type": "code",
      "metadata": {
        "id": "4Bo68B5SphUe"
      },
      "source": [
        "from sklearn.neighbors import KNeighborsClassifier"
      ],
      "execution_count": 18,
      "outputs": []
    },
    {
      "cell_type": "code",
      "metadata": {
        "id": "_zZkfBC2pu2e"
      },
      "source": [
        "clf = KNeighborsClassifier(n_neighbors=5)"
      ],
      "execution_count": 19,
      "outputs": []
    },
    {
      "cell_type": "code",
      "metadata": {
        "colab": {
          "base_uri": "https://localhost:8080/"
        },
        "id": "VFO_8XytpzdO",
        "outputId": "caa1c273-517e-43dc-9236-0007eb6fb43c"
      },
      "source": [
        "clf.fit(X, y)"
      ],
      "execution_count": 20,
      "outputs": [
        {
          "output_type": "execute_result",
          "data": {
            "text/plain": [
              "KNeighborsClassifier(algorithm='auto', leaf_size=30, metric='minkowski',\n",
              "                     metric_params=None, n_jobs=None, n_neighbors=5, p=2,\n",
              "                     weights='uniform')"
            ]
          },
          "metadata": {
            "tags": []
          },
          "execution_count": 20
        }
      ]
    },
    {
      "cell_type": "code",
      "metadata": {
        "colab": {
          "base_uri": "https://localhost:8080/"
        },
        "id": "p11r41esp0q7",
        "outputId": "f79459e7-3f62-4a37-d9ed-b64cea7a01d7"
      },
      "source": [
        "clf._tree"
      ],
      "execution_count": 21,
      "outputs": [
        {
          "output_type": "execute_result",
          "data": {
            "text/plain": [
              "<sklearn.neighbors._kd_tree.KDTree at 0x55989a59c520>"
            ]
          },
          "metadata": {
            "tags": []
          },
          "execution_count": 21
        }
      ]
    },
    {
      "cell_type": "code",
      "metadata": {
        "colab": {
          "base_uri": "https://localhost:8080/"
        },
        "id": "kLtDlDN8p2rG",
        "outputId": "a61d8c2a-4f55-4156-b23e-393e1f0a1d5b"
      },
      "source": [
        "clf.predict(X[:5])"
      ],
      "execution_count": 22,
      "outputs": [
        {
          "output_type": "execute_result",
          "data": {
            "text/plain": [
              "array(['r', 'r', 'r', 'b', 'b'], dtype='<U1')"
            ]
          },
          "metadata": {
            "tags": []
          },
          "execution_count": 22
        }
      ]
    },
    {
      "cell_type": "code",
      "metadata": {
        "colab": {
          "base_uri": "https://localhost:8080/"
        },
        "id": "7KxNSPVFp5he",
        "outputId": "cf8bcbcd-43d4-432f-b656-f766054dd7a7"
      },
      "source": [
        "y[:5]"
      ],
      "execution_count": 23,
      "outputs": [
        {
          "output_type": "execute_result",
          "data": {
            "text/plain": [
              "array(['r', 'r', 'b', 'r', 'b'], dtype='<U1')"
            ]
          },
          "metadata": {
            "tags": []
          },
          "execution_count": 23
        }
      ]
    },
    {
      "cell_type": "code",
      "metadata": {
        "colab": {
          "base_uri": "https://localhost:8080/"
        },
        "id": "gjw2vejUp7x8",
        "outputId": "9aa3e938-ed97-4ac8-dda5-c2495feef804"
      },
      "source": [
        "clf.predict_proba(X[:5])"
      ],
      "execution_count": 24,
      "outputs": [
        {
          "output_type": "execute_result",
          "data": {
            "text/plain": [
              "array([[0. , 1. ],\n",
              "       [0. , 1. ],\n",
              "       [0.2, 0.8],\n",
              "       [0.6, 0.4],\n",
              "       [0.8, 0.2]])"
            ]
          },
          "metadata": {
            "tags": []
          },
          "execution_count": 24
        }
      ]
    },
    {
      "cell_type": "code",
      "metadata": {
        "id": "9Cb0pVoRqFq3"
      },
      "source": [
        "from sklearn.tree import DecisionTreeClassifier"
      ],
      "execution_count": 25,
      "outputs": []
    },
    {
      "cell_type": "code",
      "metadata": {
        "colab": {
          "base_uri": "https://localhost:8080/"
        },
        "id": "gfjop4EhqS6d",
        "outputId": "dd322629-8090-4a73-e46a-7d96d0b93f54"
      },
      "source": [
        "clf = DecisionTreeClassifier()\n",
        "clf.fit(X, y)"
      ],
      "execution_count": 26,
      "outputs": [
        {
          "output_type": "execute_result",
          "data": {
            "text/plain": [
              "DecisionTreeClassifier(ccp_alpha=0.0, class_weight=None, criterion='gini',\n",
              "                       max_depth=None, max_features=None, max_leaf_nodes=None,\n",
              "                       min_impurity_decrease=0.0, min_impurity_split=None,\n",
              "                       min_samples_leaf=1, min_samples_split=2,\n",
              "                       min_weight_fraction_leaf=0.0, presort='deprecated',\n",
              "                       random_state=None, splitter='best')"
            ]
          },
          "metadata": {
            "tags": []
          },
          "execution_count": 26
        }
      ]
    },
    {
      "cell_type": "code",
      "metadata": {
        "id": "oJNFhgw6qWaf"
      },
      "source": [
        "from sklearn.ensemble import RandomForestClassifier"
      ],
      "execution_count": 27,
      "outputs": []
    },
    {
      "cell_type": "code",
      "metadata": {
        "id": "KR2MP50uqb2u"
      },
      "source": [
        "clf = RandomForestClassifier()"
      ],
      "execution_count": 28,
      "outputs": []
    },
    {
      "cell_type": "code",
      "metadata": {
        "colab": {
          "base_uri": "https://localhost:8080/"
        },
        "id": "kpob4ZqdqdIA",
        "outputId": "8346a683-a62f-406c-c98a-a1f82c1ba416"
      },
      "source": [
        "clf.fit(X, y)"
      ],
      "execution_count": 29,
      "outputs": [
        {
          "output_type": "execute_result",
          "data": {
            "text/plain": [
              "RandomForestClassifier(bootstrap=True, ccp_alpha=0.0, class_weight=None,\n",
              "                       criterion='gini', max_depth=None, max_features='auto',\n",
              "                       max_leaf_nodes=None, max_samples=None,\n",
              "                       min_impurity_decrease=0.0, min_impurity_split=None,\n",
              "                       min_samples_leaf=1, min_samples_split=2,\n",
              "                       min_weight_fraction_leaf=0.0, n_estimators=100,\n",
              "                       n_jobs=None, oob_score=False, random_state=None,\n",
              "                       verbose=0, warm_start=False)"
            ]
          },
          "metadata": {
            "tags": []
          },
          "execution_count": 29
        }
      ]
    },
    {
      "cell_type": "code",
      "metadata": {
        "id": "1Ey3uPHzpevD"
      },
      "source": [
        "from sklearn.linear_model import LogisticRegression"
      ],
      "execution_count": 30,
      "outputs": []
    },
    {
      "cell_type": "code",
      "metadata": {
        "colab": {
          "base_uri": "https://localhost:8080/"
        },
        "id": "p_xHZz0EqjR9",
        "outputId": "ca517a3e-16ed-408e-c288-50a6019ab2fd"
      },
      "source": [
        "clf = LogisticRegression()\n",
        "clf.fit(X, y)"
      ],
      "execution_count": 31,
      "outputs": [
        {
          "output_type": "execute_result",
          "data": {
            "text/plain": [
              "LogisticRegression(C=1.0, class_weight=None, dual=False, fit_intercept=True,\n",
              "                   intercept_scaling=1, l1_ratio=None, max_iter=100,\n",
              "                   multi_class='auto', n_jobs=None, penalty='l2',\n",
              "                   random_state=None, solver='lbfgs', tol=0.0001, verbose=0,\n",
              "                   warm_start=False)"
            ]
          },
          "metadata": {
            "tags": []
          },
          "execution_count": 31
        }
      ]
    },
    {
      "cell_type": "code",
      "metadata": {
        "id": "pVXFgUCoqnu2"
      },
      "source": [
        "from sklearn.svm import SVC"
      ],
      "execution_count": 32,
      "outputs": []
    },
    {
      "cell_type": "code",
      "metadata": {
        "colab": {
          "base_uri": "https://localhost:8080/"
        },
        "id": "aUtkFCn2qsoT",
        "outputId": "4d8a808b-11d1-46a9-d497-5422188694ff"
      },
      "source": [
        "clf = SVC()\n",
        "clf.fit(X, y)"
      ],
      "execution_count": 33,
      "outputs": [
        {
          "output_type": "execute_result",
          "data": {
            "text/plain": [
              "SVC(C=1.0, break_ties=False, cache_size=200, class_weight=None, coef0=0.0,\n",
              "    decision_function_shape='ovr', degree=3, gamma='scale', kernel='rbf',\n",
              "    max_iter=-1, probability=False, random_state=None, shrinking=True,\n",
              "    tol=0.001, verbose=False)"
            ]
          },
          "metadata": {
            "tags": []
          },
          "execution_count": 33
        }
      ]
    },
    {
      "cell_type": "code",
      "metadata": {
        "id": "vVWIAEtcqwJh"
      },
      "source": [
        "from sklearn.neural_network import MLPClassifier"
      ],
      "execution_count": 34,
      "outputs": []
    },
    {
      "cell_type": "code",
      "metadata": {
        "id": "aBVPLN--s-yZ"
      },
      "source": [
        "clf = MLPClassifier(hidden_layer_sizes=(100, 100, 100), activation=\"relu\", learning_rate=\"invscaling\")"
      ],
      "execution_count": 36,
      "outputs": []
    },
    {
      "cell_type": "code",
      "metadata": {
        "colab": {
          "base_uri": "https://localhost:8080/"
        },
        "id": "GczVr4mItL48",
        "outputId": "e4335c7c-e979-4ade-88cf-afce03654582"
      },
      "source": [
        "clf.fit(X, y)"
      ],
      "execution_count": 37,
      "outputs": [
        {
          "output_type": "execute_result",
          "data": {
            "text/plain": [
              "MLPClassifier(activation='relu', alpha=0.0001, batch_size='auto', beta_1=0.9,\n",
              "              beta_2=0.999, early_stopping=False, epsilon=1e-08,\n",
              "              hidden_layer_sizes=(100, 100, 100), learning_rate='invscaling',\n",
              "              learning_rate_init=0.001, max_fun=15000, max_iter=200,\n",
              "              momentum=0.9, n_iter_no_change=10, nesterovs_momentum=True,\n",
              "              power_t=0.5, random_state=None, shuffle=True, solver='adam',\n",
              "              tol=0.0001, validation_fraction=0.1, verbose=False,\n",
              "              warm_start=False)"
            ]
          },
          "metadata": {
            "tags": []
          },
          "execution_count": 37
        }
      ]
    },
    {
      "cell_type": "code",
      "metadata": {
        "id": "YFK3TZYItN8Y"
      },
      "source": [
        "from sklearn.gaussian_process import GaussianProcessClassifier"
      ],
      "execution_count": 38,
      "outputs": []
    },
    {
      "cell_type": "code",
      "metadata": {
        "id": "7WhQ9E2UtSoF"
      },
      "source": [
        "clf = GaussianProcessClassifier()"
      ],
      "execution_count": 39,
      "outputs": []
    },
    {
      "cell_type": "code",
      "metadata": {
        "colab": {
          "base_uri": "https://localhost:8080/"
        },
        "id": "ubtX6BWLtU9p",
        "outputId": "7d32c958-c405-4e68-f4a6-fc471e0e4f80"
      },
      "source": [
        "clf.fit(X, y)"
      ],
      "execution_count": 40,
      "outputs": [
        {
          "output_type": "execute_result",
          "data": {
            "text/plain": [
              "GaussianProcessClassifier(copy_X_train=True, kernel=None, max_iter_predict=100,\n",
              "                          multi_class='one_vs_rest', n_jobs=None,\n",
              "                          n_restarts_optimizer=0, optimizer='fmin_l_bfgs_b',\n",
              "                          random_state=None, warm_start=False)"
            ]
          },
          "metadata": {
            "tags": []
          },
          "execution_count": 40
        }
      ]
    },
    {
      "cell_type": "code",
      "metadata": {
        "id": "I19L-NMctWnr"
      },
      "source": [
        "from sklearn.neighbors import KNeighborsClassifier\n",
        "from sklearn.metrics import zero_one_loss"
      ],
      "execution_count": 41,
      "outputs": []
    },
    {
      "cell_type": "code",
      "metadata": {
        "colab": {
          "base_uri": "https://localhost:8080/"
        },
        "id": "-fD-f_C6wIAG",
        "outputId": "7cd88105-f3cd-4009-9523-300498c8a9e4"
      },
      "source": [
        "clf = KNeighborsClassifier(n_neighbors=1)\n",
        "clf.fit(X, y)"
      ],
      "execution_count": 42,
      "outputs": [
        {
          "output_type": "execute_result",
          "data": {
            "text/plain": [
              "KNeighborsClassifier(algorithm='auto', leaf_size=30, metric='minkowski',\n",
              "                     metric_params=None, n_jobs=None, n_neighbors=1, p=2,\n",
              "                     weights='uniform')"
            ]
          },
          "metadata": {
            "tags": []
          },
          "execution_count": 42
        }
      ]
    },
    {
      "cell_type": "code",
      "metadata": {
        "colab": {
          "base_uri": "https://localhost:8080/"
        },
        "id": "2W_X8V2FwNwh",
        "outputId": "4a0e7cae-dfe5-4ee1-c0ac-ff0c688bfec0"
      },
      "source": [
        "zero_one_loss(y, clf.predict(X))"
      ],
      "execution_count": 43,
      "outputs": [
        {
          "output_type": "execute_result",
          "data": {
            "text/plain": [
              "0.0"
            ]
          },
          "metadata": {
            "tags": []
          },
          "execution_count": 43
        }
      ]
    },
    {
      "cell_type": "code",
      "metadata": {
        "id": "bK4uTKpnwRat"
      },
      "source": [
        "from sklearn.neighbors import KNeighborsClassifier\n",
        "from sklearn.metrics import zero_one_loss\n",
        "from sklearn.model_selection import train_test_split"
      ],
      "execution_count": 44,
      "outputs": []
    },
    {
      "cell_type": "code",
      "metadata": {
        "id": "09Esx6C_wd9C"
      },
      "source": [
        "X_train, X_test, y_train, y_test = train_test_split(X, y, train_size=0.7)"
      ],
      "execution_count": 45,
      "outputs": []
    },
    {
      "cell_type": "code",
      "metadata": {
        "colab": {
          "base_uri": "https://localhost:8080/"
        },
        "id": "yvUxH-VawlOl",
        "outputId": "4820a37d-b0fc-4563-eef9-d8b732a4d7c8"
      },
      "source": [
        "clf = KNeighborsClassifier(n_neighbors=5)\n",
        "clf.fit(X_train, y_train)"
      ],
      "execution_count": 46,
      "outputs": [
        {
          "output_type": "execute_result",
          "data": {
            "text/plain": [
              "KNeighborsClassifier(algorithm='auto', leaf_size=30, metric='minkowski',\n",
              "                     metric_params=None, n_jobs=None, n_neighbors=5, p=2,\n",
              "                     weights='uniform')"
            ]
          },
          "metadata": {
            "tags": []
          },
          "execution_count": 46
        }
      ]
    },
    {
      "cell_type": "code",
      "metadata": {
        "colab": {
          "base_uri": "https://localhost:8080/"
        },
        "id": "zSQa6ABZwqjD",
        "outputId": "93da7f9a-4e1f-4bf1-dbe3-88cdcbbc76d7"
      },
      "source": [
        "zero_one_loss(y_test, clf.predict(X_test))"
      ],
      "execution_count": 48,
      "outputs": [
        {
          "output_type": "execute_result",
          "data": {
            "text/plain": [
              "0.18999999999999995"
            ]
          },
          "metadata": {
            "tags": []
          },
          "execution_count": 48
        }
      ]
    },
    {
      "cell_type": "code",
      "metadata": {
        "colab": {
          "base_uri": "https://localhost:8080/"
        },
        "id": "bmBl6nF_wyey",
        "outputId": "8fdbcc88-a268-4a14-b554-04bdc35ac973"
      },
      "source": [
        "zero_one_loss(y_train, clf.predict(X_train))"
      ],
      "execution_count": 49,
      "outputs": [
        {
          "output_type": "execute_result",
          "data": {
            "text/plain": [
              "0.09857142857142853"
            ]
          },
          "metadata": {
            "tags": []
          },
          "execution_count": 49
        }
      ]
    },
    {
      "cell_type": "code",
      "metadata": {
        "id": "Y-r8Mocfw37t"
      },
      "source": [
        "from sklearn.model_selection import KFold"
      ],
      "execution_count": 50,
      "outputs": []
    },
    {
      "cell_type": "code",
      "metadata": {
        "id": "sWgtw4w7xDNK"
      },
      "source": [
        "scores = []"
      ],
      "execution_count": 51,
      "outputs": []
    },
    {
      "cell_type": "code",
      "metadata": {
        "colab": {
          "base_uri": "https://localhost:8080/"
        },
        "id": "U88Vi__SxEhN",
        "outputId": "41242eeb-ec6b-457f-f335-817fb905970b"
      },
      "source": [
        "for train, test in KFold(n_splits=5, random_state=42).split(X):\n",
        "  X_train, y_train = X[train], y[train]\n",
        "  X_test, y_test = X[test], y[test]\n",
        "  clf = KNeighborsClassifier(n_neighbors=5).fit(X_train, y_train)\n",
        "  scores.append(zero_one_loss(y_test, clf.predict(X_test)))\n",
        "\n",
        "np.mean(scores)\n",
        "np.std(scores)"
      ],
      "execution_count": 52,
      "outputs": [
        {
          "output_type": "stream",
          "text": [
            "/usr/local/lib/python3.7/dist-packages/sklearn/model_selection/_split.py:296: FutureWarning: Setting a random_state has no effect since shuffle is False. This will raise an error in 0.24. You should leave random_state to its default (None), or set shuffle=True.\n",
            "  FutureWarning\n"
          ],
          "name": "stderr"
        },
        {
          "output_type": "execute_result",
          "data": {
            "text/plain": [
              "0.010770329614269016"
            ]
          },
          "metadata": {
            "tags": []
          },
          "execution_count": 52
        }
      ]
    },
    {
      "cell_type": "code",
      "metadata": {
        "id": "r21EBa5GxgdL"
      },
      "source": [
        "from sklearn.metrics import accuracy_score"
      ],
      "execution_count": 53,
      "outputs": []
    },
    {
      "cell_type": "code",
      "metadata": {
        "colab": {
          "base_uri": "https://localhost:8080/"
        },
        "id": "3t1gDVy9xnTy",
        "outputId": "db9d4e88-8c3b-4b4b-df22-ba5ee1aaedb0"
      },
      "source": [
        "accuracy_score(y_test, clf.predict(X_test))"
      ],
      "execution_count": 54,
      "outputs": [
        {
          "output_type": "execute_result",
          "data": {
            "text/plain": [
              "0.84"
            ]
          },
          "metadata": {
            "tags": []
          },
          "execution_count": 54
        }
      ]
    },
    {
      "cell_type": "code",
      "metadata": {
        "colab": {
          "base_uri": "https://localhost:8080/"
        },
        "id": "D6Usvk6FxqhC",
        "outputId": "d8bb47e3-1ea0-40ed-d060-6c86d2409654"
      },
      "source": [
        "accuracy_score(y_test, clf.predict(X_test))"
      ],
      "execution_count": 55,
      "outputs": [
        {
          "output_type": "execute_result",
          "data": {
            "text/plain": [
              "0.84"
            ]
          },
          "metadata": {
            "tags": []
          },
          "execution_count": 55
        }
      ]
    },
    {
      "cell_type": "code",
      "metadata": {
        "id": "HckRbj80xtpb"
      },
      "source": [
        "from sklearn.metrics import precision_score, recall_score, fbeta_score"
      ],
      "execution_count": 56,
      "outputs": []
    },
    {
      "cell_type": "code",
      "metadata": {
        "id": "MHOVWHdPyZbi"
      },
      "source": [
        "y_train = (y_train == \"r\")\n",
        "y_test = (y_test == \"r\")"
      ],
      "execution_count": 58,
      "outputs": []
    },
    {
      "cell_type": "code",
      "metadata": {
        "colab": {
          "base_uri": "https://localhost:8080/"
        },
        "id": "mWysFs_fytmA",
        "outputId": "ec346048-a36e-4f50-a553-f9b396412058"
      },
      "source": [
        "clf = KNeighborsClassifier(n_neighbors=5)\n",
        "X_train, X_test, y_train, y_test = train_test_split(X, y, train_size = 0.7)\n",
        "y_train = (y_train == \"r\")\n",
        "y_test = (y_test == \"r\")\n",
        "clf.fit(X_train, y_train)"
      ],
      "execution_count": 61,
      "outputs": [
        {
          "output_type": "execute_result",
          "data": {
            "text/plain": [
              "KNeighborsClassifier(algorithm='auto', leaf_size=30, metric='minkowski',\n",
              "                     metric_params=None, n_jobs=None, n_neighbors=5, p=2,\n",
              "                     weights='uniform')"
            ]
          },
          "metadata": {
            "tags": []
          },
          "execution_count": 61
        }
      ]
    },
    {
      "cell_type": "code",
      "metadata": {
        "id": "3kE0f1RhzHO0"
      },
      "source": [
        ""
      ],
      "execution_count": null,
      "outputs": []
    },
    {
      "cell_type": "code",
      "metadata": {
        "colab": {
          "base_uri": "https://localhost:8080/"
        },
        "id": "wdL2QeIay_FZ",
        "outputId": "12b9b74a-5e50-423e-f5a1-237fb2aeaf4e"
      },
      "source": [
        "precision_score(y_test, clf.predict(X_test))"
      ],
      "execution_count": 62,
      "outputs": [
        {
          "output_type": "execute_result",
          "data": {
            "text/plain": [
              "0.8402777777777778"
            ]
          },
          "metadata": {
            "tags": []
          },
          "execution_count": 62
        }
      ]
    },
    {
      "cell_type": "code",
      "metadata": {
        "colab": {
          "base_uri": "https://localhost:8080/"
        },
        "id": "PVPUPkTlzIB8",
        "outputId": "2789a897-eeb6-4383-8808-f7d994fbec82"
      },
      "source": [
        "recall_score(y_test, clf.predict(X_test))"
      ],
      "execution_count": 64,
      "outputs": [
        {
          "output_type": "execute_result",
          "data": {
            "text/plain": [
              "0.8402777777777778"
            ]
          },
          "metadata": {
            "tags": []
          },
          "execution_count": 64
        }
      ]
    },
    {
      "cell_type": "code",
      "metadata": {
        "colab": {
          "base_uri": "https://localhost:8080/"
        },
        "id": "3vfjL7CBzPag",
        "outputId": "dd2e360d-4cb8-4509-adbb-70e71d174b34"
      },
      "source": [
        "fbeta_score(y_test, clf.predict(X_test), beta=1)"
      ],
      "execution_count": 66,
      "outputs": [
        {
          "output_type": "execute_result",
          "data": {
            "text/plain": [
              "0.8402777777777778"
            ]
          },
          "metadata": {
            "tags": []
          },
          "execution_count": 66
        }
      ]
    },
    {
      "cell_type": "code",
      "metadata": {
        "id": "rfkpK2rSzWiN"
      },
      "source": [
        "from sklearn.metrics import roc_auc_score, roc_curve"
      ],
      "execution_count": 67,
      "outputs": []
    },
    {
      "cell_type": "code",
      "metadata": {
        "id": "HRFJW4YQzigF"
      },
      "source": [
        "fpr, tpr, thresholds = roc_curve(y_test, clf.predict_proba(X_test)[:, 1])"
      ],
      "execution_count": 69,
      "outputs": []
    },
    {
      "cell_type": "code",
      "metadata": {
        "colab": {
          "base_uri": "https://localhost:8080/",
          "height": 265
        },
        "id": "02V2O0JlzwUg",
        "outputId": "ce652ce4-f9c0-4b6f-f866-87ee1f0a47b0"
      },
      "source": [
        "plt.plot(fpr, tpr)\n",
        "plt.show()"
      ],
      "execution_count": 72,
      "outputs": [
        {
          "output_type": "display_data",
          "data": {
            "image/png": "[encoded data removed]",
            "text/plain": [
              "<Figure size 432x288 with 1 Axes>"
            ]
          },
          "metadata": {
            "tags": [],
            "needs_background": "light"
          }
        }
      ]
    },
    {
      "cell_type": "code",
      "metadata": {
        "colab": {
          "base_uri": "https://localhost:8080/"
        },
        "id": "hvm_UPEqz-20",
        "outputId": "06c060da-d72d-416a-c782-57ed8e0a167b"
      },
      "source": [
        "from sklearn.metrics import confusion_matrix\n",
        "confusion_matrix(y_test, clf.predict(X_test))"
      ],
      "execution_count": 74,
      "outputs": [
        {
          "output_type": "execute_result",
          "data": {
            "text/plain": [
              "array([[133,  23],\n",
              "       [ 23, 121]])"
            ]
          },
          "metadata": {
            "tags": []
          },
          "execution_count": 74
        }
      ]
    },
    {
      "cell_type": "code",
      "metadata": {
        "id": "7YTBnqdS0J3p"
      },
      "source": [
        "from sklearn.model_selection import GridSearchCV"
      ],
      "execution_count": 75,
      "outputs": []
    },
    {
      "cell_type": "code",
      "metadata": {
        "colab": {
          "base_uri": "https://localhost:8080/"
        },
        "id": "oBszYAIN1mY5",
        "outputId": "a322fb47-e62e-4462-ec72-58faaed92228"
      },
      "source": [
        "grid = GridSearchCV(KNeighborsClassifier(),\n",
        "                    param_grid={\"n_neighbors\": list(range(1,100))},\n",
        "                    scoring=\"accuracy\",\n",
        "                    cv=5, n_jobs=-1)\n",
        "grid.fit(X, y)"
      ],
      "execution_count": 76,
      "outputs": [
        {
          "output_type": "execute_result",
          "data": {
            "text/plain": [
              "GridSearchCV(cv=5, error_score=nan,\n",
              "             estimator=KNeighborsClassifier(algorithm='auto', leaf_size=30,\n",
              "                                            metric='minkowski',\n",
              "                                            metric_params=None, n_jobs=None,\n",
              "                                            n_neighbors=5, p=2,\n",
              "                                            weights='uniform'),\n",
              "             iid='deprecated', n_jobs=-1,\n",
              "             param_grid={'n_neighbors': [1, 2, 3, 4, 5, 6, 7, 8, 9, 10, 11, 12,\n",
              "                                         13, 14, 15, 16, 17, 18, 19, 20, 21, 22,\n",
              "                                         23, 24, 25, 26, 27, 28, 29, 30, ...]},\n",
              "             pre_dispatch='2*n_jobs', refit=True, return_train_score=False,\n",
              "             scoring='accuracy', verbose=0)"
            ]
          },
          "metadata": {
            "tags": []
          },
          "execution_count": 76
        }
      ]
    },
    {
      "cell_type": "code",
      "metadata": {
        "colab": {
          "base_uri": "https://localhost:8080/"
        },
        "id": "SxSQzDYk13m8",
        "outputId": "36ab337b-058d-41e7-ff5d-83ee3be33459"
      },
      "source": [
        "print(1- grid.best_score_, grid.best_params_)"
      ],
      "execution_count": 77,
      "outputs": [
        {
          "output_type": "stream",
          "text": [
            "0.131 {'n_neighbors': 34}\n"
          ],
          "name": "stdout"
        }
      ]
    },
    {
      "cell_type": "code",
      "metadata": {
        "id": "6T6uD6812AyQ"
      },
      "source": [
        "from sklearn.model_selection import cross_val_score\n",
        "from sklearn.model_selection import GridSearchCV"
      ],
      "execution_count": 78,
      "outputs": []
    },
    {
      "cell_type": "code",
      "metadata": {
        "id": "Jvn8kCqd2TJ9"
      },
      "source": [
        "scores = cross_val_score(GridSearchCV(KNeighborsClassifier(),\n",
        "                                      param_grid={\n",
        "                                          \"n_neighbors\": list(range(1, 100))\n",
        "                                      },\n",
        "                                      scoring=\"accuracy\",\n",
        "                                      cv=5,\n",
        "                                      n_jobs=-1), X, y, cv=5, scoring=\"accuracy\")"
      ],
      "execution_count": 79,
      "outputs": []
    },
    {
      "cell_type": "code",
      "metadata": {
        "colab": {
          "base_uri": "https://localhost:8080/"
        },
        "id": "aBTMxcDk2vGJ",
        "outputId": "5f1078cd-70e4-4017-f172-0ce02a3ccecf"
      },
      "source": [
        "print(1- np.mean(scores), np.std(scores))"
      ],
      "execution_count": 80,
      "outputs": [
        {
          "output_type": "stream",
          "text": [
            "0.1439999999999999 0.023958297101421902\n"
          ],
          "name": "stdout"
        }
      ]
    },
    {
      "cell_type": "code",
      "metadata": {
        "id": "INttcpe326lj"
      },
      "source": [
        ""
      ],
      "execution_count": null,
      "outputs": []
    },
    {
      "cell_type": "code",
      "metadata": {
        "id": "LaxQx-P60HyD"
      },
      "source": [
        ""
      ],
      "execution_count": null,
      "outputs": []
    },
    {
      "cell_type": "code",
      "metadata": {
        "id": "tN8FRMJMz6_v"
      },
      "source": [
        ""
      ],
      "execution_count": null,
      "outputs": []
    },
    {
      "cell_type": "code",
      "metadata": {
        "id": "TT4khz90zz_D"
      },
      "source": [
        ""
      ],
      "execution_count": null,
      "outputs": []
    },
    {
      "cell_type": "code",
      "metadata": {
        "id": "qjgoFtAHzowm"
      },
      "source": [
        ""
      ],
      "execution_count": null,
      "outputs": []
    },
    {
      "cell_type": "code",
      "metadata": {
        "id": "Wu3V2sCtzTZW"
      },
      "source": [
        ""
      ],
      "execution_count": null,
      "outputs": []
    },
    {
      "cell_type": "code",
      "metadata": {
        "id": "ezNbhnXezLs6"
      },
      "source": [
        ""
      ],
      "execution_count": null,
      "outputs": []
    },
    {
      "cell_type": "code",
      "metadata": {
        "id": "0xZpp6F3zDPK"
      },
      "source": [
        ""
      ],
      "execution_count": null,
      "outputs": []
    },
    {
      "cell_type": "code",
      "metadata": {
        "id": "rE3k1HuEyd2X"
      },
      "source": [
        ""
      ],
      "execution_count": null,
      "outputs": []
    },
    {
      "cell_type": "code",
      "metadata": {
        "id": "0_Rh1-_swvFt"
      },
      "source": [
        ""
      ],
      "execution_count": null,
      "outputs": []
    },
    {
      "cell_type": "code",
      "metadata": {
        "id": "Kspl-WD8tFzu"
      },
      "source": [
        ""
      ],
      "execution_count": null,
      "outputs": []
    },
    {
      "cell_type": "code",
      "metadata": {
        "id": "gjWgzzSapdLR"
      },
      "source": [
        ""
      ],
      "execution_count": null,
      "outputs": []
    },
    {
      "cell_type": "code",
      "metadata": {
        "id": "Q4uz7lQdpaLq"
      },
      "source": [
        ""
      ],
      "execution_count": null,
      "outputs": []
    },
    {
      "cell_type": "code",
      "metadata": {
        "id": "UMswGZJhpYqa"
      },
      "source": [
        ""
      ],
      "execution_count": null,
      "outputs": []
    },
    {
      "cell_type": "code",
      "metadata": {
        "id": "ltpC-BZxoyDx"
      },
      "source": [
        ""
      ],
      "execution_count": null,
      "outputs": []
    }
  ]
}