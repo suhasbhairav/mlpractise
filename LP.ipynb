{
  "nbformat": 4,
  "nbformat_minor": 0,
  "metadata": {
    "colab": {
      "name": "LP.ipynb",
      "provenance": [],
      "authorship_tag": "ABX9TyN7i+YsOTTiMsGpHGRX/brw"
    },
    "kernelspec": {
      "name": "python3",
      "display_name": "Python 3"
    },
    "language_info": {
      "name": "python"
    }
  },
  "cells": [
    {
      "cell_type": "code",
      "metadata": {
        "id": "xduCrbEWtcsn"
      },
      "source": [
        "import pandas as pd"
      ],
      "execution_count": 1,
      "outputs": []
    },
    {
      "cell_type": "code",
      "metadata": {
        "id": "usMzJ1Goe3UL"
      },
      "source": [
        "filepath_dict = {'yelp':   'sentiment_analysis/yelp_labelled.txt',\n",
        "                 'amazon': 'sentiment_analysis/amazon_cells_labelled.txt',\n",
        "                 'imdb':   'sentiment_analysis/imdb_labelled.txt'}"
      ],
      "execution_count": 4,
      "outputs": []
    },
    {
      "cell_type": "code",
      "metadata": {
        "colab": {
          "base_uri": "https://localhost:8080/"
        },
        "id": "qHedl3zye9r4",
        "outputId": "4cf4340c-5a41-4850-a5d3-9092b201afa6"
      },
      "source": [
        "df_list = []\n",
        "for source, filepath in filepath_dict.items():\n",
        "    df = pd.read_csv(filepath, names=['sentence', 'label'], sep='\\t')\n",
        "    df['source'] = source  # Add another column filled with the source name\n",
        "    df_list.append(df)\n",
        "\n",
        "df = pd.concat(df_list)\n",
        "print(df.iloc[0])"
      ],
      "execution_count": 5,
      "outputs": [
        {
          "output_type": "stream",
          "name": "stdout",
          "text": [
            "sentence    Wow... Loved this place.\n",
            "label                              1\n",
            "source                          yelp\n",
            "Name: 0, dtype: object\n"
          ]
        }
      ]
    },
    {
      "cell_type": "code",
      "metadata": {
        "id": "ZlzG-v5gfDAc"
      },
      "source": [
        "sentences = ['John likes ice cream', 'John hates chocolate.']"
      ],
      "execution_count": 6,
      "outputs": []
    },
    {
      "cell_type": "code",
      "metadata": {
        "id": "kPlUlDcWfyGF"
      },
      "source": [
        "from sklearn.feature_extraction.text import CountVectorizer"
      ],
      "execution_count": 7,
      "outputs": []
    },
    {
      "cell_type": "code",
      "metadata": {
        "id": "jNDaVWtOf3FE"
      },
      "source": [
        "vectorizer = CountVectorizer(min_df=0, lowercase=False)"
      ],
      "execution_count": 8,
      "outputs": []
    },
    {
      "cell_type": "code",
      "metadata": {
        "colab": {
          "base_uri": "https://localhost:8080/"
        },
        "id": "5-AVX22Bf8Og",
        "outputId": "a187f1a4-a153-4391-c8e6-a77c3970f0e8"
      },
      "source": [
        "vectorizer.fit(sentences)"
      ],
      "execution_count": 9,
      "outputs": [
        {
          "output_type": "execute_result",
          "data": {
            "text/plain": [
              "CountVectorizer(analyzer='word', binary=False, decode_error='strict',\n",
              "                dtype=<class 'numpy.int64'>, encoding='utf-8', input='content',\n",
              "                lowercase=False, max_df=1.0, max_features=None, min_df=0,\n",
              "                ngram_range=(1, 1), preprocessor=None, stop_words=None,\n",
              "                strip_accents=None, token_pattern='(?u)\\\\b\\\\w\\\\w+\\\\b',\n",
              "                tokenizer=None, vocabulary=None)"
            ]
          },
          "metadata": {},
          "execution_count": 9
        }
      ]
    },
    {
      "cell_type": "code",
      "metadata": {
        "colab": {
          "base_uri": "https://localhost:8080/"
        },
        "id": "p_5JrDAQf_WI",
        "outputId": "57b7a2f2-703d-4ee2-ff2d-44fb825acd7c"
      },
      "source": [
        "vectorizer.vocabulary_"
      ],
      "execution_count": 10,
      "outputs": [
        {
          "output_type": "execute_result",
          "data": {
            "text/plain": [
              "{'John': 0, 'chocolate': 1, 'cream': 2, 'hates': 3, 'ice': 4, 'likes': 5}"
            ]
          },
          "metadata": {},
          "execution_count": 10
        }
      ]
    },
    {
      "cell_type": "code",
      "metadata": {
        "colab": {
          "base_uri": "https://localhost:8080/"
        },
        "id": "eNDHvTqbgDW_",
        "outputId": "ad677dfc-55ac-459a-fec1-ce5e4e1d7c65"
      },
      "source": [
        "vectorizer.transform(sentences).toarray()"
      ],
      "execution_count": 11,
      "outputs": [
        {
          "output_type": "execute_result",
          "data": {
            "text/plain": [
              "array([[1, 0, 1, 0, 1, 1],\n",
              "       [1, 1, 0, 1, 0, 0]])"
            ]
          },
          "metadata": {},
          "execution_count": 11
        }
      ]
    },
    {
      "cell_type": "code",
      "metadata": {
        "id": "IK7YlYVdgKzz"
      },
      "source": [
        "from sklearn.model_selection import train_test_split"
      ],
      "execution_count": 12,
      "outputs": []
    },
    {
      "cell_type": "code",
      "metadata": {
        "id": "7bYi19DLBGcT"
      },
      "source": [
        "df_yelp = df[df['source'] == 'yelp']"
      ],
      "execution_count": 13,
      "outputs": []
    },
    {
      "cell_type": "code",
      "metadata": {
        "id": "7mJ93BP9BMmZ"
      },
      "source": [
        "sentences = df_yelp['sentence'].values"
      ],
      "execution_count": 15,
      "outputs": []
    },
    {
      "cell_type": "code",
      "metadata": {
        "id": "SovpRrEFBQ42"
      },
      "source": [
        "y=df_yelp['label'].values"
      ],
      "execution_count": 16,
      "outputs": []
    },
    {
      "cell_type": "code",
      "metadata": {
        "id": "Ol8AmfTOBXeJ"
      },
      "source": [
        "sentences_train, sentences_test, y_train, y_test = train_test_split(sentences, y, test_size=0.25, random_state = 1000)"
      ],
      "execution_count": 18,
      "outputs": []
    },
    {
      "cell_type": "code",
      "metadata": {
        "id": "W0ol8_GFBrrW"
      },
      "source": [
        "from sklearn.feature_extraction.text import CountVectorizer"
      ],
      "execution_count": 19,
      "outputs": []
    },
    {
      "cell_type": "code",
      "metadata": {
        "id": "baWTS6p0B7Zd"
      },
      "source": [
        "vectorizet = CountVectorizer()"
      ],
      "execution_count": 20,
      "outputs": []
    },
    {
      "cell_type": "code",
      "metadata": {
        "colab": {
          "base_uri": "https://localhost:8080/"
        },
        "id": "UbU2bckeB-hG",
        "outputId": "5e7bc2db-1fd8-4cfd-fd6a-92c9b29b53c6"
      },
      "source": [
        "vectorizer.fit(sentences_train)"
      ],
      "execution_count": 21,
      "outputs": [
        {
          "output_type": "execute_result",
          "data": {
            "text/plain": [
              "CountVectorizer(analyzer='word', binary=False, decode_error='strict',\n",
              "                dtype=<class 'numpy.int64'>, encoding='utf-8', input='content',\n",
              "                lowercase=False, max_df=1.0, max_features=None, min_df=0,\n",
              "                ngram_range=(1, 1), preprocessor=None, stop_words=None,\n",
              "                strip_accents=None, token_pattern='(?u)\\\\b\\\\w\\\\w+\\\\b',\n",
              "                tokenizer=None, vocabulary=None)"
            ]
          },
          "metadata": {},
          "execution_count": 21
        }
      ]
    },
    {
      "cell_type": "code",
      "metadata": {
        "id": "8hJO2yVqCCzB"
      },
      "source": [
        "X_train = vectorizer.transform(sentences_train)"
      ],
      "execution_count": 22,
      "outputs": []
    },
    {
      "cell_type": "code",
      "metadata": {
        "id": "MGLNTK6sCKGU"
      },
      "source": [
        "X_test = vectorizer.transform(sentences_test)"
      ],
      "execution_count": 23,
      "outputs": []
    },
    {
      "cell_type": "code",
      "metadata": {
        "colab": {
          "base_uri": "https://localhost:8080/"
        },
        "id": "bd-8DKUdCOGa",
        "outputId": "a775119f-3e01-48ba-c489-cb69f8693205"
      },
      "source": [
        "X_train"
      ],
      "execution_count": 24,
      "outputs": [
        {
          "output_type": "execute_result",
          "data": {
            "text/plain": [
              "<750x1938 sparse matrix of type '<class 'numpy.int64'>'\n",
              "\twith 7453 stored elements in Compressed Sparse Row format>"
            ]
          },
          "metadata": {},
          "execution_count": 24
        }
      ]
    },
    {
      "cell_type": "code",
      "metadata": {
        "id": "GtpSnDULCPUe"
      },
      "source": [
        "from sklearn.linear_model import LogisticRegression"
      ],
      "execution_count": 30,
      "outputs": []
    },
    {
      "cell_type": "code",
      "metadata": {
        "id": "zEs42OcbCU_e"
      },
      "source": [
        "clf = LogisticRegression()"
      ],
      "execution_count": 31,
      "outputs": []
    },
    {
      "cell_type": "code",
      "metadata": {
        "colab": {
          "base_uri": "https://localhost:8080/"
        },
        "id": "NX_MOPHVCYHd",
        "outputId": "5b583b9d-3b81-4762-b729-179c39c729b1"
      },
      "source": [
        "clf.fit(X_train, y_train)"
      ],
      "execution_count": 32,
      "outputs": [
        {
          "output_type": "execute_result",
          "data": {
            "text/plain": [
              "LogisticRegression(C=1.0, class_weight=None, dual=False, fit_intercept=True,\n",
              "                   intercept_scaling=1, l1_ratio=None, max_iter=100,\n",
              "                   multi_class='auto', n_jobs=None, penalty='l2',\n",
              "                   random_state=None, solver='lbfgs', tol=0.0001, verbose=0,\n",
              "                   warm_start=False)"
            ]
          },
          "metadata": {},
          "execution_count": 32
        }
      ]
    },
    {
      "cell_type": "code",
      "metadata": {
        "id": "wCGlqbpPCaj4"
      },
      "source": [
        "score = clf.score(X_test, y_test)"
      ],
      "execution_count": 33,
      "outputs": []
    },
    {
      "cell_type": "code",
      "metadata": {
        "colab": {
          "base_uri": "https://localhost:8080/"
        },
        "id": "-iYKtFHNCeZe",
        "outputId": "d9f4c3c9-6c29-4dcd-cd6e-de9b7d3796e7"
      },
      "source": [
        "score"
      ],
      "execution_count": 34,
      "outputs": [
        {
          "output_type": "execute_result",
          "data": {
            "text/plain": [
              "0.772"
            ]
          },
          "metadata": {},
          "execution_count": 34
        }
      ]
    },
    {
      "cell_type": "code",
      "metadata": {
        "colab": {
          "base_uri": "https://localhost:8080/"
        },
        "id": "FWWZWWubCfJi",
        "outputId": "5caca163-211e-4a7d-c23b-bdbb6047fba7"
      },
      "source": [
        "for source in df['source'].unique():\n",
        "  df_source = df[df['source'] == source]\n",
        "  sentences = df_source['sentence'].values\n",
        "  y = df_source['label'].values\n",
        "\n",
        "  sentences_train, sentences_test, y_train, y_test = train_test_split(sentences, y, train_size=0.8, random_state=1000)\n",
        "  vectorizer = CountVectorizer()\n",
        "  vectorizer.fit(sentences_train)\n",
        "  X_train = vectorizer.transform(sentences_train)\n",
        "  X_test = vectorizer.transform(sentences_test)\n",
        "\n",
        "  classifier = LogisticRegression()\n",
        "  classifier.fit(X_train, y_train)\n",
        "  score = classifier.score(X_test, y_test)\n",
        "\n",
        "  print('Accuracy for {} data: {:.4f}'.format(source, score))"
      ],
      "execution_count": 37,
      "outputs": [
        {
          "output_type": "stream",
          "name": "stdout",
          "text": [
            "Accuracy for yelp data: 0.7850\n",
            "Accuracy for amazon data: 0.8000\n",
            "Accuracy for imdb data: 0.7867\n"
          ]
        }
      ]
    },
    {
      "cell_type": "code",
      "metadata": {
        "id": "O4PQm-CgC-dk"
      },
      "source": [
        "from keras.models import Sequential\n",
        "from keras import layers"
      ],
      "execution_count": 38,
      "outputs": []
    },
    {
      "cell_type": "code",
      "metadata": {
        "id": "OPdqi9tVF0vs"
      },
      "source": [
        "input_dim = X_train.shape[1]"
      ],
      "execution_count": 39,
      "outputs": []
    },
    {
      "cell_type": "code",
      "metadata": {
        "colab": {
          "base_uri": "https://localhost:8080/"
        },
        "id": "a4_9FuOqF4EK",
        "outputId": "013b6c93-6d4b-462e-f457-b10ee472f88d"
      },
      "source": [
        "input_dim"
      ],
      "execution_count": 40,
      "outputs": [
        {
          "output_type": "execute_result",
          "data": {
            "text/plain": [
              "2582"
            ]
          },
          "metadata": {},
          "execution_count": 40
        }
      ]
    },
    {
      "cell_type": "code",
      "metadata": {
        "id": "cXPJHfI-F5qJ"
      },
      "source": [
        "model = Sequential()"
      ],
      "execution_count": 41,
      "outputs": []
    },
    {
      "cell_type": "code",
      "metadata": {
        "id": "3Grt-zinF8B4"
      },
      "source": [
        "model.add(layers.Dense(10, input_dim=input_dim, activation='relu'))\n",
        "model.add(layers.Dense(1, activation='sigmoid'))"
      ],
      "execution_count": 43,
      "outputs": []
    },
    {
      "cell_type": "code",
      "metadata": {
        "colab": {
          "base_uri": "https://localhost:8080/"
        },
        "id": "Vfc7UgmnGW-y",
        "outputId": "be575ebc-5122-439f-bd1d-8a519c09048d"
      },
      "source": [
        "model.compile(loss='binary_crossentropy', optimizer='adam', metrics=['accuracy'])\n",
        "model.summary()"
      ],
      "execution_count": 44,
      "outputs": [
        {
          "output_type": "stream",
          "name": "stdout",
          "text": [
            "Model: \"sequential\"\n",
            "_________________________________________________________________\n",
            "Layer (type)                 Output Shape              Param #   \n",
            "=================================================================\n",
            "dense (Dense)                (None, 10)                25830     \n",
            "_________________________________________________________________\n",
            "dense_1 (Dense)              (None, 10)                110       \n",
            "_________________________________________________________________\n",
            "dense_2 (Dense)              (None, 1)                 11        \n",
            "=================================================================\n",
            "Total params: 25,951\n",
            "Trainable params: 25,951\n",
            "Non-trainable params: 0\n",
            "_________________________________________________________________\n"
          ]
        }
      ]
    },
    {
      "cell_type": "code",
      "metadata": {
        "colab": {
          "base_uri": "https://localhost:8080/"
        },
        "id": "ZnMIj4fJGnfH",
        "outputId": "e5422f21-9c69-4514-8baa-87b9c3373c21"
      },
      "source": [
        "history = model.fit(X_train,y_train, epochs=100, verbose=False, validation_data=(X_test, y_test), batch_size=10)"
      ],
      "execution_count": 45,
      "outputs": [
        {
          "output_type": "stream",
          "name": "stderr",
          "text": [
            "/usr/local/lib/python3.7/dist-packages/tensorflow/python/framework/indexed_slices.py:449: UserWarning: Converting sparse IndexedSlices(IndexedSlices(indices=Tensor(\"gradient_tape/sequential/dense/embedding_lookup_sparse/Reshape_1:0\", shape=(None,), dtype=int32), values=Tensor(\"gradient_tape/sequential/dense/embedding_lookup_sparse/Reshape:0\", shape=(None, 10), dtype=float32), dense_shape=Tensor(\"gradient_tape/sequential/dense/embedding_lookup_sparse/Cast:0\", shape=(2,), dtype=int32))) to a dense Tensor of unknown shape. This may consume a large amount of memory.\n",
            "  \"shape. This may consume a large amount of memory.\" % value)\n"
          ]
        }
      ]
    },
    {
      "cell_type": "code",
      "metadata": {
        "colab": {
          "base_uri": "https://localhost:8080/"
        },
        "id": "3e-CVpoHG006",
        "outputId": "b9e9fbe3-6ce9-4eab-b835-3116a944520a"
      },
      "source": [
        "loss, accuracy = model.evaluate(X_train, y_train)"
      ],
      "execution_count": 46,
      "outputs": [
        {
          "output_type": "stream",
          "name": "stdout",
          "text": [
            "19/19 [==============================] - 0s 1ms/step - loss: 3.0288e-05 - accuracy: 1.0000\n"
          ]
        }
      ]
    },
    {
      "cell_type": "code",
      "metadata": {
        "colab": {
          "base_uri": "https://localhost:8080/"
        },
        "id": "rHjYl7roG_Qb",
        "outputId": "b432d05c-99fc-494f-b8aa-4713d10a3920"
      },
      "source": [
        "loss, accuracy = model.evaluate(X_test, y_test)"
      ],
      "execution_count": 47,
      "outputs": [
        {
          "output_type": "stream",
          "name": "stdout",
          "text": [
            "5/5 [==============================] - 0s 3ms/step - loss: 1.6776 - accuracy: 0.8067\n"
          ]
        }
      ]
    },
    {
      "cell_type": "code",
      "metadata": {
        "id": "L52tM5opHSNc"
      },
      "source": [
        "cities = ['London', 'Berlin', 'Berlin', 'New York', 'London']"
      ],
      "execution_count": 50,
      "outputs": []
    },
    {
      "cell_type": "code",
      "metadata": {
        "id": "970XPPQMH72H"
      },
      "source": [
        "from sklearn.preprocessing import LabelEncoder"
      ],
      "execution_count": 51,
      "outputs": []
    },
    {
      "cell_type": "code",
      "metadata": {
        "id": "yUMrYuJnIAYr"
      },
      "source": [
        "encoder = LabelEncoder()"
      ],
      "execution_count": 53,
      "outputs": []
    },
    {
      "cell_type": "code",
      "metadata": {
        "id": "L8mMAli6ICPt"
      },
      "source": [
        "city_labels = encoder.fit_transform(cities)"
      ],
      "execution_count": 54,
      "outputs": []
    },
    {
      "cell_type": "code",
      "metadata": {
        "colab": {
          "base_uri": "https://localhost:8080/"
        },
        "id": "UJTOtTHxIOD3",
        "outputId": "cfd5d17b-1461-4fc8-8b9e-32f94215f2cf"
      },
      "source": [
        "city_labels"
      ],
      "execution_count": 55,
      "outputs": [
        {
          "output_type": "execute_result",
          "data": {
            "text/plain": [
              "array([1, 0, 0, 2, 1])"
            ]
          },
          "metadata": {},
          "execution_count": 55
        }
      ]
    },
    {
      "cell_type": "code",
      "metadata": {
        "id": "3zv1BLtMIPZw"
      },
      "source": [
        "from sklearn.preprocessing import OneHotEncoder"
      ],
      "execution_count": 56,
      "outputs": []
    },
    {
      "cell_type": "code",
      "metadata": {
        "id": "kdDo0j1hIWkQ"
      },
      "source": [
        "encoder = OneHotEncoder(sparse=False)"
      ],
      "execution_count": 59,
      "outputs": []
    },
    {
      "cell_type": "code",
      "metadata": {
        "id": "gPWsE1LHIau6"
      },
      "source": [
        "city_labels = city_labels.reshape((5,1))"
      ],
      "execution_count": 60,
      "outputs": []
    },
    {
      "cell_type": "code",
      "metadata": {
        "colab": {
          "base_uri": "https://localhost:8080/"
        },
        "id": "i-B4WW_2InxX",
        "outputId": "cf94ee97-1c4c-4f86-a9f8-cc9cbeb0ce29"
      },
      "source": [
        "city_labels"
      ],
      "execution_count": 61,
      "outputs": [
        {
          "output_type": "execute_result",
          "data": {
            "text/plain": [
              "array([[1],\n",
              "       [0],\n",
              "       [0],\n",
              "       [2],\n",
              "       [1]])"
            ]
          },
          "metadata": {},
          "execution_count": 61
        }
      ]
    },
    {
      "cell_type": "code",
      "metadata": {
        "colab": {
          "base_uri": "https://localhost:8080/"
        },
        "id": "RF8L7-lQIpw0",
        "outputId": "7ca8ac58-ebc1-4fc8-c0c1-73db5c54127c"
      },
      "source": [
        "encoder.fit_transform(city_labels)"
      ],
      "execution_count": 62,
      "outputs": [
        {
          "output_type": "execute_result",
          "data": {
            "text/plain": [
              "array([[0., 1., 0.],\n",
              "       [1., 0., 0.],\n",
              "       [1., 0., 0.],\n",
              "       [0., 0., 1.],\n",
              "       [0., 1., 0.]])"
            ]
          },
          "metadata": {},
          "execution_count": 62
        }
      ]
    },
    {
      "cell_type": "code",
      "metadata": {
        "id": "ZL_iZFRvIvJb"
      },
      "source": [
        "from keras.preprocessing.text import Tokenizer"
      ],
      "execution_count": 63,
      "outputs": []
    },
    {
      "cell_type": "code",
      "metadata": {
        "id": "Duc4oVyzLaq3"
      },
      "source": [
        "tokenizer = Tokenizer(num_words=5000)"
      ],
      "execution_count": 64,
      "outputs": []
    },
    {
      "cell_type": "code",
      "metadata": {
        "id": "_JFT5KFfLeEQ"
      },
      "source": [
        "tokenizer.fit_on_texts(sentences_train)"
      ],
      "execution_count": 65,
      "outputs": []
    },
    {
      "cell_type": "code",
      "metadata": {
        "id": "Cp-7YP2gLiM6"
      },
      "source": [
        "X_train = tokenizer.texts_to_sequences(sentences_train)"
      ],
      "execution_count": 67,
      "outputs": []
    },
    {
      "cell_type": "code",
      "metadata": {
        "id": "JKsZuEfiLm5l"
      },
      "source": [
        "X_test = tokenizer.texts_to_sequences(sentences_test)"
      ],
      "execution_count": 68,
      "outputs": []
    },
    {
      "cell_type": "code",
      "metadata": {
        "id": "BX5JwfiuLuVX"
      },
      "source": [
        "vocab_size = len(tokenizer.word_index) + 1"
      ],
      "execution_count": 69,
      "outputs": []
    },
    {
      "cell_type": "code",
      "metadata": {
        "colab": {
          "base_uri": "https://localhost:8080/",
          "height": 36
        },
        "id": "buFALeVBL0lU",
        "outputId": "7590a313-ed7b-4d49-c133-b8825d6bc53a"
      },
      "source": [
        "sentences_train[2]"
      ],
      "execution_count": 70,
      "outputs": [
        {
          "output_type": "execute_result",
          "data": {
            "application/vnd.google.colaboratory.intrinsic+json": {
              "type": "string"
            },
            "text/plain": [
              "'It was too predictable, even for a chick flick.  '"
            ]
          },
          "metadata": {},
          "execution_count": 70
        }
      ]
    },
    {
      "cell_type": "code",
      "metadata": {
        "colab": {
          "base_uri": "https://localhost:8080/"
        },
        "id": "yqKJAE9EL4N_",
        "outputId": "069ebadb-7d28-4c7b-bcab-87cca1369a1a"
      },
      "source": [
        "X_train[2]"
      ],
      "execution_count": 71,
      "outputs": [
        {
          "output_type": "execute_result",
          "data": {
            "text/plain": [
              "[8, 12, 100, 159, 47, 16, 2, 976, 406]"
            ]
          },
          "metadata": {},
          "execution_count": 71
        }
      ]
    },
    {
      "cell_type": "code",
      "metadata": {
        "id": "NYIpj6_-L7gL"
      },
      "source": [
        "from keras.preprocessing.sequence import pad_sequences"
      ],
      "execution_count": 73,
      "outputs": []
    },
    {
      "cell_type": "code",
      "metadata": {
        "id": "UVWG807IMGX2"
      },
      "source": [
        "maxlen = 100\n",
        "X_train = pad_sequences(X_train, maxlen=maxlen, padding='post')\n",
        "X_test = pad_sequences(X_test, maxlen=maxlen, padding='post')"
      ],
      "execution_count": 74,
      "outputs": []
    },
    {
      "cell_type": "code",
      "metadata": {
        "colab": {
          "base_uri": "https://localhost:8080/"
        },
        "id": "5XB7aFqHMXpY",
        "outputId": "75beb0a7-cd84-4713-85df-c1b54e02b1b3"
      },
      "source": [
        "X_train[0]"
      ],
      "execution_count": 75,
      "outputs": [
        {
          "output_type": "execute_result",
          "data": {
            "text/plain": [
              "array([ 10, 234,   6, 972, 973,  39,   2, 974,   9, 588, 975,   0,   0,\n",
              "         0,   0,   0,   0,   0,   0,   0,   0,   0,   0,   0,   0,   0,\n",
              "         0,   0,   0,   0,   0,   0,   0,   0,   0,   0,   0,   0,   0,\n",
              "         0,   0,   0,   0,   0,   0,   0,   0,   0,   0,   0,   0,   0,\n",
              "         0,   0,   0,   0,   0,   0,   0,   0,   0,   0,   0,   0,   0,\n",
              "         0,   0,   0,   0,   0,   0,   0,   0,   0,   0,   0,   0,   0,\n",
              "         0,   0,   0,   0,   0,   0,   0,   0,   0,   0,   0,   0,   0,\n",
              "         0,   0,   0,   0,   0,   0,   0,   0,   0], dtype=int32)"
            ]
          },
          "metadata": {},
          "execution_count": 75
        }
      ]
    },
    {
      "cell_type": "code",
      "metadata": {
        "id": "ViUhVe2cMZuL"
      },
      "source": [
        "from keras.models import Sequential\n",
        "from keras import layers"
      ],
      "execution_count": 76,
      "outputs": []
    },
    {
      "cell_type": "code",
      "metadata": {
        "id": "1VPZIMgyM0bY"
      },
      "source": [
        "embedding_dim = 50\n",
        "model = Sequential()\n",
        "\n",
        "model.add(layers.Embedding(input_dim=vocab_size, output_dim = embedding_dim, input_length=maxlen))"
      ],
      "execution_count": 77,
      "outputs": []
    },
    {
      "cell_type": "code",
      "metadata": {
        "id": "3OmERM7ENDPV"
      },
      "source": [
        "model.add(layers.Flatten())\n",
        "model.add(layers.Dense(10, activation='relu'))\n",
        "model.add(layers.Dense(1, activation='sigmoid'))\n",
        "model.compile(optimizer='adam', loss='binary_crossentropy', metrics=['accuracy'])"
      ],
      "execution_count": 78,
      "outputs": []
    },
    {
      "cell_type": "code",
      "metadata": {
        "colab": {
          "base_uri": "https://localhost:8080/"
        },
        "id": "u1QsETaTNasA",
        "outputId": "35cec8f6-0004-4bdc-a6dd-fc9804b471c1"
      },
      "source": [
        "model.summary()"
      ],
      "execution_count": 79,
      "outputs": [
        {
          "output_type": "stream",
          "name": "stdout",
          "text": [
            "Model: \"sequential_1\"\n",
            "_________________________________________________________________\n",
            "Layer (type)                 Output Shape              Param #   \n",
            "=================================================================\n",
            "embedding (Embedding)        (None, 100, 50)           132750    \n",
            "_________________________________________________________________\n",
            "flatten (Flatten)            (None, 5000)              0         \n",
            "_________________________________________________________________\n",
            "dense_3 (Dense)              (None, 10)                50010     \n",
            "_________________________________________________________________\n",
            "dense_4 (Dense)              (None, 1)                 11        \n",
            "=================================================================\n",
            "Total params: 182,771\n",
            "Trainable params: 182,771\n",
            "Non-trainable params: 0\n",
            "_________________________________________________________________\n"
          ]
        }
      ]
    },
    {
      "cell_type": "code",
      "metadata": {
        "colab": {
          "base_uri": "https://localhost:8080/"
        },
        "id": "uOfAlW2aNcMp",
        "outputId": "740dd913-010d-4c1f-b6dd-55e24f783d72"
      },
      "source": [
        "history = model.fit(X_train, y_train, epochs=20, validation_data=(X_test, y_test), batch_size=10)"
      ],
      "execution_count": 80,
      "outputs": [
        {
          "output_type": "stream",
          "name": "stdout",
          "text": [
            "Epoch 1/20\n",
            "60/60 [==============================] - 1s 6ms/step - loss: 0.6932 - accuracy: 0.5334 - val_loss: 0.6923 - val_accuracy: 0.5200\n",
            "Epoch 2/20\n",
            "60/60 [==============================] - 0s 3ms/step - loss: 0.6746 - accuracy: 0.5635 - val_loss: 0.6842 - val_accuracy: 0.5667\n",
            "Epoch 3/20\n",
            "60/60 [==============================] - 0s 4ms/step - loss: 0.5696 - accuracy: 0.8278 - val_loss: 0.6493 - val_accuracy: 0.6533\n",
            "Epoch 4/20\n",
            "60/60 [==============================] - 0s 3ms/step - loss: 0.3103 - accuracy: 0.9599 - val_loss: 0.6109 - val_accuracy: 0.6867\n",
            "Epoch 5/20\n",
            "60/60 [==============================] - 0s 4ms/step - loss: 0.1157 - accuracy: 0.9967 - val_loss: 0.6024 - val_accuracy: 0.6867\n",
            "Epoch 6/20\n",
            "60/60 [==============================] - 0s 3ms/step - loss: 0.0514 - accuracy: 0.9983 - val_loss: 0.6333 - val_accuracy: 0.6800\n",
            "Epoch 7/20\n",
            "60/60 [==============================] - 0s 3ms/step - loss: 0.0282 - accuracy: 1.0000 - val_loss: 0.6329 - val_accuracy: 0.6933\n",
            "Epoch 8/20\n",
            "60/60 [==============================] - 0s 4ms/step - loss: 0.0170 - accuracy: 1.0000 - val_loss: 0.6659 - val_accuracy: 0.6933\n",
            "Epoch 9/20\n",
            "60/60 [==============================] - 0s 3ms/step - loss: 0.0099 - accuracy: 1.0000 - val_loss: 0.6794 - val_accuracy: 0.6867\n",
            "Epoch 10/20\n",
            "60/60 [==============================] - 0s 4ms/step - loss: 0.0069 - accuracy: 1.0000 - val_loss: 0.7025 - val_accuracy: 0.6800\n",
            "Epoch 11/20\n",
            "60/60 [==============================] - 0s 3ms/step - loss: 0.0047 - accuracy: 1.0000 - val_loss: 0.7211 - val_accuracy: 0.6867\n",
            "Epoch 12/20\n",
            "60/60 [==============================] - 0s 3ms/step - loss: 0.0034 - accuracy: 1.0000 - val_loss: 0.7410 - val_accuracy: 0.6867\n",
            "Epoch 13/20\n",
            "60/60 [==============================] - 0s 4ms/step - loss: 0.0027 - accuracy: 1.0000 - val_loss: 0.7588 - val_accuracy: 0.6800\n",
            "Epoch 14/20\n",
            "60/60 [==============================] - 0s 3ms/step - loss: 0.0021 - accuracy: 1.0000 - val_loss: 0.7785 - val_accuracy: 0.6733\n",
            "Epoch 15/20\n",
            "60/60 [==============================] - 0s 3ms/step - loss: 0.0017 - accuracy: 1.0000 - val_loss: 0.8051 - val_accuracy: 0.6733\n",
            "Epoch 16/20\n",
            "60/60 [==============================] - 0s 3ms/step - loss: 0.0014 - accuracy: 1.0000 - val_loss: 0.8044 - val_accuracy: 0.6733\n",
            "Epoch 17/20\n",
            "60/60 [==============================] - 0s 3ms/step - loss: 0.0011 - accuracy: 1.0000 - val_loss: 0.8232 - val_accuracy: 0.6733\n",
            "Epoch 18/20\n",
            "60/60 [==============================] - 0s 3ms/step - loss: 9.5984e-04 - accuracy: 1.0000 - val_loss: 0.8249 - val_accuracy: 0.6800\n",
            "Epoch 19/20\n",
            "60/60 [==============================] - 0s 3ms/step - loss: 8.2499e-04 - accuracy: 1.0000 - val_loss: 0.8426 - val_accuracy: 0.6733\n",
            "Epoch 20/20\n",
            "60/60 [==============================] - 0s 3ms/step - loss: 7.2836e-04 - accuracy: 1.0000 - val_loss: 0.8463 - val_accuracy: 0.6733\n"
          ]
        }
      ]
    },
    {
      "cell_type": "code",
      "metadata": {
        "colab": {
          "base_uri": "https://localhost:8080/"
        },
        "id": "WTS3weIXNttk",
        "outputId": "4f48132c-b074-4603-9770-6ad69facdce3"
      },
      "source": [
        "model.evaluate(X_train, y_train, verbose=False)"
      ],
      "execution_count": 81,
      "outputs": [
        {
          "output_type": "execute_result",
          "data": {
            "text/plain": [
              "[0.0006453096284531057, 1.0]"
            ]
          },
          "metadata": {},
          "execution_count": 81
        }
      ]
    },
    {
      "cell_type": "code",
      "metadata": {
        "colab": {
          "base_uri": "https://localhost:8080/"
        },
        "id": "jrcOf1mFN2Iy",
        "outputId": "1db24bf8-9d4a-4f94-fcf3-c89ebfe1f5f1"
      },
      "source": [
        "model.evaluate(X_test, y_test, verbose=False)"
      ],
      "execution_count": 82,
      "outputs": [
        {
          "output_type": "execute_result",
          "data": {
            "text/plain": [
              "[0.8463332056999207, 0.6733333468437195]"
            ]
          },
          "metadata": {},
          "execution_count": 82
        }
      ]
    },
    {
      "cell_type": "code",
      "metadata": {
        "colab": {
          "base_uri": "https://localhost:8080/"
        },
        "id": "Jq_lWmZsN54A",
        "outputId": "026bf6d3-8e4d-4603-8f1b-19a88089c76a"
      },
      "source": [
        "embedding_dim = 50\n",
        "\n",
        "model = Sequential()\n",
        "model.add(layers.Embedding(input_dim=vocab_size, output_dim=embedding_dim, input_length=maxlen))\n",
        "model.add(layers.GlobalMaxPooling1D())\n",
        "model.add(layers.Dense(10, activation='relu'))\n",
        "model.add(layers.Dense(1, activation='sigmoid'))\n",
        "model.compile(optimizer='adam', loss='binary_crossentropy', metrics=['accuracy'])\n",
        "model.summary()"
      ],
      "execution_count": 83,
      "outputs": [
        {
          "output_type": "stream",
          "name": "stdout",
          "text": [
            "Model: \"sequential_2\"\n",
            "_________________________________________________________________\n",
            "Layer (type)                 Output Shape              Param #   \n",
            "=================================================================\n",
            "embedding_1 (Embedding)      (None, 100, 50)           132750    \n",
            "_________________________________________________________________\n",
            "global_max_pooling1d (Global (None, 50)                0         \n",
            "_________________________________________________________________\n",
            "dense_5 (Dense)              (None, 10)                510       \n",
            "_________________________________________________________________\n",
            "dense_6 (Dense)              (None, 1)                 11        \n",
            "=================================================================\n",
            "Total params: 133,271\n",
            "Trainable params: 133,271\n",
            "Non-trainable params: 0\n",
            "_________________________________________________________________\n"
          ]
        }
      ]
    },
    {
      "cell_type": "code",
      "metadata": {
        "id": "fZ20YwVOOsmn"
      },
      "source": [
        "history = model.fit(X_train, y_train, validation_data=(X_test, y_test), epochs=100, batch_size=50, verbose= False)"
      ],
      "execution_count": 84,
      "outputs": []
    },
    {
      "cell_type": "code",
      "metadata": {
        "colab": {
          "base_uri": "https://localhost:8080/"
        },
        "id": "CfwkWFmWO5v4",
        "outputId": "3e804409-db3f-4cda-d87f-9c55c1216218"
      },
      "source": [
        "model.evaluate(X_train, y_train, verbose=False)"
      ],
      "execution_count": 85,
      "outputs": [
        {
          "output_type": "execute_result",
          "data": {
            "text/plain": [
              "[0.0008252214756794274, 1.0]"
            ]
          },
          "metadata": {},
          "execution_count": 85
        }
      ]
    },
    {
      "cell_type": "code",
      "metadata": {
        "colab": {
          "base_uri": "https://localhost:8080/"
        },
        "id": "jkE3Egr3PCc4",
        "outputId": "f20f9838-8ea6-4a64-f187-e490ccea7206"
      },
      "source": [
        "model.evaluate(X_test, y_test, verbose=False)"
      ],
      "execution_count": 86,
      "outputs": [
        {
          "output_type": "execute_result",
          "data": {
            "text/plain": [
              "[0.6039760112762451, 0.7933333516120911]"
            ]
          },
          "metadata": {},
          "execution_count": 86
        }
      ]
    },
    {
      "cell_type": "code",
      "metadata": {
        "id": "n_fyYyPFPHW-"
      },
      "source": [
        ""
      ],
      "execution_count": null,
      "outputs": []
    }
  ]
}