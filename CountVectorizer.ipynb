{
  "nbformat": 4,
  "nbformat_minor": 0,
  "metadata": {
    "colab": {
      "name": "CountVectorizer.ipynb",
      "provenance": [],
      "authorship_tag": "ABX9TyPRUJaFpzoKav6gk9wHqFLU"
    },
    "kernelspec": {
      "name": "python3",
      "display_name": "Python 3"
    },
    "language_info": {
      "name": "python"
    }
  },
  "cells": [
    {
      "cell_type": "code",
      "metadata": {
        "id": "vwitvhyp1LEu"
      },
      "source": [
        "doc = [\"One Cent, Two Cents, Old Cent, New Cent: All About Money\"]"
      ],
      "execution_count": 1,
      "outputs": []
    },
    {
      "cell_type": "code",
      "metadata": {
        "id": "v3jvmMEJ12Tm"
      },
      "source": [
        "from sklearn.feature_extraction.text import CountVectorizer"
      ],
      "execution_count": 2,
      "outputs": []
    },
    {
      "cell_type": "code",
      "metadata": {
        "id": "ZKAVAK6m2giK"
      },
      "source": [
        "cat_in_the_hat_docs=[\n",
        "       \"One Cent, Two Cents, Old Cent, New Cent: All About Money (Cat in the Hat's Learning Library\",\n",
        "       \"Inside Your Outside: All About the Human Body (Cat in the Hat's Learning Library)\",\n",
        "       \"Oh, The Things You Can Do That Are Good for You: All About Staying Healthy (Cat in the Hat's Learning Library)\",\n",
        "       \"On Beyond Bugs: All About Insects (Cat in the Hat's Learning Library)\",\n",
        "       \"There's No Place Like Space: All About Our Solar System (Cat in the Hat's Learning Library)\" \n",
        "      ]"
      ],
      "execution_count": 3,
      "outputs": []
    },
    {
      "cell_type": "code",
      "metadata": {
        "id": "zYyvmGZJ2ihD"
      },
      "source": [
        "from sklearn.feature_extraction.text import CountVectorizer"
      ],
      "execution_count": 4,
      "outputs": []
    },
    {
      "cell_type": "code",
      "metadata": {
        "id": "o77GuNdB2sFY"
      },
      "source": [
        "cv = CountVectorizer(cat_in_the_hat_docs)"
      ],
      "execution_count": 5,
      "outputs": []
    },
    {
      "cell_type": "code",
      "metadata": {
        "colab": {
          "base_uri": "https://localhost:8080/"
        },
        "id": "rdBXMUz-2vOJ",
        "outputId": "78e70fcf-650e-4392-ad29-ac871aa90553"
      },
      "source": [
        "cv"
      ],
      "execution_count": 6,
      "outputs": [
        {
          "output_type": "execute_result",
          "data": {
            "text/plain": [
              "CountVectorizer(analyzer='word', binary=False, decode_error='strict',\n",
              "                dtype=<class 'numpy.int64'>, encoding='utf-8',\n",
              "                input=['One Cent, Two Cents, Old Cent, New Cent: All About '\n",
              "                       \"Money (Cat in the Hat's Learning Library\",\n",
              "                       'Inside Your Outside: All About the Human Body (Cat in '\n",
              "                       \"the Hat's Learning Library)\",\n",
              "                       'Oh, The Things You Can Do That Are Good for You: All '\n",
              "                       \"About Staying Healthy (Cat in the Hat's Learning \"\n",
              "                       'Library)',\n",
              "                       \"On Beyond Bugs: All About Insects (Cat in the Hat's \"\n",
              "                       'Learning Library)',\n",
              "                       \"There's No Place Like Space: All About Our Solar \"\n",
              "                       \"System (Cat in the Hat's Learning Library)\"],\n",
              "                lowercase=True, max_df=1.0, max_features=None, min_df=1,\n",
              "                ngram_range=(1, 1), preprocessor=None, stop_words=None,\n",
              "                strip_accents=None, token_pattern='(?u)\\\\b\\\\w\\\\w+\\\\b',\n",
              "                tokenizer=None, vocabulary=None)"
            ]
          },
          "metadata": {},
          "execution_count": 6
        }
      ]
    },
    {
      "cell_type": "code",
      "metadata": {
        "id": "rnOarNnU2v56"
      },
      "source": [
        "count_vector = cv.fit_transform(cat_in_the_hat_docs)"
      ],
      "execution_count": 7,
      "outputs": []
    },
    {
      "cell_type": "code",
      "metadata": {
        "colab": {
          "base_uri": "https://localhost:8080/"
        },
        "id": "LYhROVIH2092",
        "outputId": "f779edb2-d4c5-4efa-b0ce-0214f07c418a"
      },
      "source": [
        "cv.vocabulary_"
      ],
      "execution_count": 8,
      "outputs": [
        {
          "output_type": "execute_result",
          "data": {
            "text/plain": [
              "{'about': 0,\n",
              " 'all': 1,\n",
              " 'are': 2,\n",
              " 'beyond': 3,\n",
              " 'body': 4,\n",
              " 'bugs': 5,\n",
              " 'can': 6,\n",
              " 'cat': 7,\n",
              " 'cent': 8,\n",
              " 'cents': 9,\n",
              " 'do': 10,\n",
              " 'for': 11,\n",
              " 'good': 12,\n",
              " 'hat': 13,\n",
              " 'healthy': 14,\n",
              " 'human': 15,\n",
              " 'in': 16,\n",
              " 'insects': 17,\n",
              " 'inside': 18,\n",
              " 'learning': 19,\n",
              " 'library': 20,\n",
              " 'like': 21,\n",
              " 'money': 22,\n",
              " 'new': 23,\n",
              " 'no': 24,\n",
              " 'oh': 25,\n",
              " 'old': 26,\n",
              " 'on': 27,\n",
              " 'one': 28,\n",
              " 'our': 29,\n",
              " 'outside': 30,\n",
              " 'place': 31,\n",
              " 'solar': 32,\n",
              " 'space': 33,\n",
              " 'staying': 34,\n",
              " 'system': 35,\n",
              " 'that': 36,\n",
              " 'the': 37,\n",
              " 'there': 38,\n",
              " 'things': 39,\n",
              " 'two': 40,\n",
              " 'you': 41,\n",
              " 'your': 42}"
            ]
          },
          "metadata": {},
          "execution_count": 8
        }
      ]
    },
    {
      "cell_type": "code",
      "metadata": {
        "colab": {
          "base_uri": "https://localhost:8080/"
        },
        "id": "uZ-RRsqv3AHW",
        "outputId": "b6f49fe3-f2c2-499b-8623-76a6e2a54877"
      },
      "source": [
        "count_vector.shape"
      ],
      "execution_count": 9,
      "outputs": [
        {
          "output_type": "execute_result",
          "data": {
            "text/plain": [
              "(5, 43)"
            ]
          },
          "metadata": {},
          "execution_count": 9
        }
      ]
    },
    {
      "cell_type": "code",
      "metadata": {
        "id": "MgktIH143E_L"
      },
      "source": [
        "cv = CountVectorizer(cat_in_the_hat_docs, stop_words=[\"all\",\"in\",\"the\",\"is\",\"and\"])"
      ],
      "execution_count": 10,
      "outputs": []
    },
    {
      "cell_type": "code",
      "metadata": {
        "id": "23bPaTIq3Wim"
      },
      "source": [
        "count_vector = cv.fit_transform(cat_in_the_hat_docs)"
      ],
      "execution_count": 11,
      "outputs": []
    },
    {
      "cell_type": "code",
      "metadata": {
        "colab": {
          "base_uri": "https://localhost:8080/"
        },
        "id": "fOEWwFPm3ban",
        "outputId": "dd8732ba-b9d4-4afb-fbcc-e5588c79f593"
      },
      "source": [
        "count_vector.shape"
      ],
      "execution_count": 12,
      "outputs": [
        {
          "output_type": "execute_result",
          "data": {
            "text/plain": [
              "(5, 40)"
            ]
          },
          "metadata": {},
          "execution_count": 12
        }
      ]
    },
    {
      "cell_type": "code",
      "metadata": {
        "colab": {
          "base_uri": "https://localhost:8080/"
        },
        "id": "gbhQPZR23dMa",
        "outputId": "cc7eed03-9604-4983-8c70-7545ec351544"
      },
      "source": [
        "cv.stop_words"
      ],
      "execution_count": 13,
      "outputs": [
        {
          "output_type": "execute_result",
          "data": {
            "text/plain": [
              "['all', 'in', 'the', 'is', 'and']"
            ]
          },
          "metadata": {},
          "execution_count": 13
        }
      ]
    },
    {
      "cell_type": "code",
      "metadata": {
        "id": "SGTBqwoF3i5D"
      },
      "source": [
        "cv = CountVectorizer(cat_in_the_hat_docs, min_df=2)"
      ],
      "execution_count": 14,
      "outputs": []
    },
    {
      "cell_type": "code",
      "metadata": {
        "id": "VE_BjBcp32g7"
      },
      "source": [
        "count_vector = cv.fit_transform(cat_in_the_hat_docs)"
      ],
      "execution_count": 15,
      "outputs": []
    },
    {
      "cell_type": "code",
      "metadata": {
        "colab": {
          "base_uri": "https://localhost:8080/"
        },
        "id": "xthnL9DY35vS",
        "outputId": "a1a6d3c6-f5ed-4b12-a983-52a2f8e4b184"
      },
      "source": [
        "cv.stop_words_"
      ],
      "execution_count": 16,
      "outputs": [
        {
          "output_type": "execute_result",
          "data": {
            "text/plain": [
              "{'are',\n",
              " 'beyond',\n",
              " 'body',\n",
              " 'bugs',\n",
              " 'can',\n",
              " 'cent',\n",
              " 'cents',\n",
              " 'do',\n",
              " 'for',\n",
              " 'good',\n",
              " 'healthy',\n",
              " 'human',\n",
              " 'insects',\n",
              " 'inside',\n",
              " 'like',\n",
              " 'money',\n",
              " 'new',\n",
              " 'no',\n",
              " 'oh',\n",
              " 'old',\n",
              " 'on',\n",
              " 'one',\n",
              " 'our',\n",
              " 'outside',\n",
              " 'place',\n",
              " 'solar',\n",
              " 'space',\n",
              " 'staying',\n",
              " 'system',\n",
              " 'that',\n",
              " 'there',\n",
              " 'things',\n",
              " 'two',\n",
              " 'you',\n",
              " 'your'}"
            ]
          },
          "metadata": {},
          "execution_count": 16
        }
      ]
    },
    {
      "cell_type": "code",
      "metadata": {
        "colab": {
          "base_uri": "https://localhost:8080/"
        },
        "id": "vcSMjXOR38a2",
        "outputId": "5acf1dc9-0fa4-47db-b203-f3ce882e69c0"
      },
      "source": [
        "cv.vocabulary_"
      ],
      "execution_count": 17,
      "outputs": [
        {
          "output_type": "execute_result",
          "data": {
            "text/plain": [
              "{'about': 0,\n",
              " 'all': 1,\n",
              " 'cat': 2,\n",
              " 'hat': 3,\n",
              " 'in': 4,\n",
              " 'learning': 5,\n",
              " 'library': 6,\n",
              " 'the': 7}"
            ]
          },
          "metadata": {},
          "execution_count": 17
        }
      ]
    },
    {
      "cell_type": "code",
      "metadata": {
        "id": "-7N5ipjJ4BIN"
      },
      "source": [
        "cv = CountVectorizer(cat_in_the_hat_docs, max_df=0.50)\n",
        "count_vector = cv.fit_transform(cat_in_the_hat_docs)"
      ],
      "execution_count": 18,
      "outputs": []
    },
    {
      "cell_type": "code",
      "metadata": {
        "colab": {
          "base_uri": "https://localhost:8080/"
        },
        "id": "K07HC9pd4Q2_",
        "outputId": "19ed6ebe-f832-43c2-8471-fe3e9aafedf1"
      },
      "source": [
        "cv.stop_words_"
      ],
      "execution_count": 19,
      "outputs": [
        {
          "output_type": "execute_result",
          "data": {
            "text/plain": [
              "{'about', 'all', 'cat', 'hat', 'in', 'learning', 'library', 'the'}"
            ]
          },
          "metadata": {},
          "execution_count": 19
        }
      ]
    },
    {
      "cell_type": "code",
      "metadata": {
        "id": "1UKaS3l54U50"
      },
      "source": [
        "import re"
      ],
      "execution_count": 20,
      "outputs": []
    },
    {
      "cell_type": "code",
      "metadata": {
        "id": "JGLGzKGX4rGm"
      },
      "source": [
        "def my_tokenizer(text):\n",
        "  text = re.sub(\"(\\\\W)\",\" \\\\1 \",text)\n",
        "  return re.split(\"\\\\s+\",text)"
      ],
      "execution_count": 21,
      "outputs": []
    },
    {
      "cell_type": "code",
      "metadata": {
        "id": "MRuJrwQx4zkC"
      },
      "source": [
        "cv = CountVectorizer(cat_in_the_hat_docs, tokenizer=my_tokenizer)"
      ],
      "execution_count": 22,
      "outputs": []
    },
    {
      "cell_type": "code",
      "metadata": {
        "id": "ORin9-jV45U8"
      },
      "source": [
        "count_vector = cv.fit_transform(cat_in_the_hat_docs)"
      ],
      "execution_count": 23,
      "outputs": []
    },
    {
      "cell_type": "code",
      "metadata": {
        "colab": {
          "base_uri": "https://localhost:8080/"
        },
        "id": "aQ24Uhje480Q",
        "outputId": "a3d2c988-a568-4196-994e-f67216554271"
      },
      "source": [
        "cv.vocabulary_"
      ],
      "execution_count": 24,
      "outputs": [
        {
          "output_type": "execute_result",
          "data": {
            "text/plain": [
              "{'': 0,\n",
              " \"'\": 1,\n",
              " '(': 2,\n",
              " ')': 3,\n",
              " ',': 4,\n",
              " ':': 5,\n",
              " 'about': 6,\n",
              " 'all': 7,\n",
              " 'are': 8,\n",
              " 'beyond': 9,\n",
              " 'body': 10,\n",
              " 'bugs': 11,\n",
              " 'can': 12,\n",
              " 'cat': 13,\n",
              " 'cent': 14,\n",
              " 'cents': 15,\n",
              " 'do': 16,\n",
              " 'for': 17,\n",
              " 'good': 18,\n",
              " 'hat': 19,\n",
              " 'healthy': 20,\n",
              " 'human': 21,\n",
              " 'in': 22,\n",
              " 'insects': 23,\n",
              " 'inside': 24,\n",
              " 'learning': 25,\n",
              " 'library': 26,\n",
              " 'like': 27,\n",
              " 'money': 28,\n",
              " 'new': 29,\n",
              " 'no': 30,\n",
              " 'oh': 31,\n",
              " 'old': 32,\n",
              " 'on': 33,\n",
              " 'one': 34,\n",
              " 'our': 35,\n",
              " 'outside': 36,\n",
              " 'place': 37,\n",
              " 's': 38,\n",
              " 'solar': 39,\n",
              " 'space': 40,\n",
              " 'staying': 41,\n",
              " 'system': 42,\n",
              " 'that': 43,\n",
              " 'the': 44,\n",
              " 'there': 45,\n",
              " 'things': 46,\n",
              " 'two': 47,\n",
              " 'you': 48,\n",
              " 'your': 49}"
            ]
          },
          "metadata": {},
          "execution_count": 24
        }
      ]
    },
    {
      "cell_type": "code",
      "metadata": {
        "id": "uhbxzYNX4-om"
      },
      "source": [
        "import re\n",
        "import nltk\n",
        "import pandas as pd\n",
        "from nltk.stem import PorterStemmer"
      ],
      "execution_count": 25,
      "outputs": []
    },
    {
      "cell_type": "code",
      "metadata": {
        "id": "TdSXyX_B5WD3"
      },
      "source": [
        "porter_stemmer = PorterStemmer()"
      ],
      "execution_count": 26,
      "outputs": []
    },
    {
      "cell_type": "code",
      "metadata": {
        "id": "A5iJDsuh5Y-v"
      },
      "source": [
        "def my_preprocessor(text):\n",
        "  text = text.lower()\n",
        "  text=re.sub(\"\\\\W\",\" \",text) # remove special chars\n",
        "  text=re.sub(\"\\\\s+(in|the|all|for|and|on)\\\\s+\",\" _connector_ \",text) \n",
        "  # normalize certain words\n",
        "    \n",
        "  # stem words\n",
        "  words=re.split(\"\\\\s+\",text)\n",
        "  stemmed_words = [porter_stemmer.stem(word=word) for word in words]\n",
        "  return ' '.join(stemmed_words)"
      ],
      "execution_count": 27,
      "outputs": []
    },
    {
      "cell_type": "code",
      "metadata": {
        "id": "TqoVzcv_558u"
      },
      "source": [
        "cv = CountVectorizer(cat_in_the_hat_docs, preprocessor=my_preprocessor)\n",
        "count_vector = cv.fit_transform(cat_in_the_hat_docs)"
      ],
      "execution_count": 28,
      "outputs": []
    },
    {
      "cell_type": "code",
      "metadata": {
        "colab": {
          "base_uri": "https://localhost:8080/"
        },
        "id": "2o0ndhzG6CgB",
        "outputId": "02f4b844-55e3-4a86-b68f-c9479035b23b"
      },
      "source": [
        "cv.vocabulary_"
      ],
      "execution_count": 29,
      "outputs": [
        {
          "output_type": "execute_result",
          "data": {
            "text/plain": [
              "{'_connector_': 0,\n",
              " 'about': 1,\n",
              " 'are': 2,\n",
              " 'beyond': 3,\n",
              " 'bodi': 4,\n",
              " 'bug': 5,\n",
              " 'can': 6,\n",
              " 'cat': 7,\n",
              " 'cent': 8,\n",
              " 'do': 9,\n",
              " 'good': 10,\n",
              " 'hat': 11,\n",
              " 'healthi': 12,\n",
              " 'human': 13,\n",
              " 'insect': 14,\n",
              " 'insid': 15,\n",
              " 'learn': 16,\n",
              " 'librari': 17,\n",
              " 'like': 18,\n",
              " 'money': 19,\n",
              " 'new': 20,\n",
              " 'no': 21,\n",
              " 'oh': 22,\n",
              " 'old': 23,\n",
              " 'on': 24,\n",
              " 'one': 25,\n",
              " 'our': 26,\n",
              " 'outsid': 27,\n",
              " 'place': 28,\n",
              " 'solar': 29,\n",
              " 'space': 30,\n",
              " 'stay': 31,\n",
              " 'system': 32,\n",
              " 'that': 33,\n",
              " 'the': 34,\n",
              " 'there': 35,\n",
              " 'thing': 36,\n",
              " 'two': 37,\n",
              " 'you': 38,\n",
              " 'your': 39}"
            ]
          },
          "metadata": {},
          "execution_count": 29
        }
      ]
    },
    {
      "cell_type": "code",
      "metadata": {
        "id": "WpbRWKB26D-Y"
      },
      "source": [
        "#only bigrams, word level\n",
        "cv = CountVectorizer(cat_in_the_hat_docs, ngram_range=(2,2), preprocessor=my_preprocessor)\n",
        "count_vector=cv.fit_transform(cat_in_the_hat_docs)"
      ],
      "execution_count": 30,
      "outputs": []
    },
    {
      "cell_type": "code",
      "metadata": {
        "colab": {
          "base_uri": "https://localhost:8080/"
        },
        "id": "_D958uyi6asP",
        "outputId": "531d827f-693c-496b-8697-62f14eaad7de"
      },
      "source": [
        "cv.vocabulary_"
      ],
      "execution_count": 31,
      "outputs": [
        {
          "output_type": "execute_result",
          "data": {
            "text/plain": [
              "{'_connector_ about': 0,\n",
              " '_connector_ human': 1,\n",
              " '_connector_ the': 2,\n",
              " '_connector_ thing': 3,\n",
              " '_connector_ you': 4,\n",
              " 'about _connector_': 5,\n",
              " 'about insect': 6,\n",
              " 'about money': 7,\n",
              " 'about our': 8,\n",
              " 'about stay': 9,\n",
              " 'are good': 10,\n",
              " 'beyond bug': 11,\n",
              " 'bodi cat': 12,\n",
              " 'bug _connector_': 13,\n",
              " 'can do': 14,\n",
              " 'cat _connector_': 15,\n",
              " 'cent _connector_': 16,\n",
              " 'cent new': 17,\n",
              " 'cent old': 18,\n",
              " 'cent two': 19,\n",
              " 'do that': 20,\n",
              " 'good _connector_': 21,\n",
              " 'hat learn': 22,\n",
              " 'healthi cat': 23,\n",
              " 'human bodi': 24,\n",
              " 'insect cat': 25,\n",
              " 'insid your': 26,\n",
              " 'learn librari': 27,\n",
              " 'like space': 28,\n",
              " 'money cat': 29,\n",
              " 'new cent': 30,\n",
              " 'no place': 31,\n",
              " 'oh _connector_': 32,\n",
              " 'old cent': 33,\n",
              " 'on beyond': 34,\n",
              " 'one cent': 35,\n",
              " 'our solar': 36,\n",
              " 'outsid _connector_': 37,\n",
              " 'place like': 38,\n",
              " 'solar system': 39,\n",
              " 'space _connector_': 40,\n",
              " 'stay healthi': 41,\n",
              " 'system cat': 42,\n",
              " 'that are': 43,\n",
              " 'the hat': 44,\n",
              " 'there no': 45,\n",
              " 'thing you': 46,\n",
              " 'two cent': 47,\n",
              " 'you _connector_': 48,\n",
              " 'you can': 49,\n",
              " 'your outsid': 50}"
            ]
          },
          "metadata": {},
          "execution_count": 31
        }
      ]
    },
    {
      "cell_type": "code",
      "metadata": {
        "id": "1STsyTP66dYP"
      },
      "source": [
        "#unigrams and bigrams , word level\n",
        "cv = CountVectorizer(cat_in_the_hat_docs, ngram_range=(1,2), preprocessor=my_preprocessor)\n",
        "count_vector = cv.fit_transform(cat_in_the_hat_docs)"
      ],
      "execution_count": 32,
      "outputs": []
    },
    {
      "cell_type": "code",
      "metadata": {
        "colab": {
          "base_uri": "https://localhost:8080/"
        },
        "id": "jW871nQw6wvF",
        "outputId": "a36acd3e-2bc5-4b91-e0e1-f02d8b28820d"
      },
      "source": [
        "cv.vocabulary_"
      ],
      "execution_count": 33,
      "outputs": [
        {
          "output_type": "execute_result",
          "data": {
            "text/plain": [
              "{'_connector_': 0,\n",
              " '_connector_ about': 1,\n",
              " '_connector_ human': 2,\n",
              " '_connector_ the': 3,\n",
              " '_connector_ thing': 4,\n",
              " '_connector_ you': 5,\n",
              " 'about': 6,\n",
              " 'about _connector_': 7,\n",
              " 'about insect': 8,\n",
              " 'about money': 9,\n",
              " 'about our': 10,\n",
              " 'about stay': 11,\n",
              " 'are': 12,\n",
              " 'are good': 13,\n",
              " 'beyond': 14,\n",
              " 'beyond bug': 15,\n",
              " 'bodi': 16,\n",
              " 'bodi cat': 17,\n",
              " 'bug': 18,\n",
              " 'bug _connector_': 19,\n",
              " 'can': 20,\n",
              " 'can do': 21,\n",
              " 'cat': 22,\n",
              " 'cat _connector_': 23,\n",
              " 'cent': 24,\n",
              " 'cent _connector_': 25,\n",
              " 'cent new': 26,\n",
              " 'cent old': 27,\n",
              " 'cent two': 28,\n",
              " 'do': 29,\n",
              " 'do that': 30,\n",
              " 'good': 31,\n",
              " 'good _connector_': 32,\n",
              " 'hat': 33,\n",
              " 'hat learn': 34,\n",
              " 'healthi': 35,\n",
              " 'healthi cat': 36,\n",
              " 'human': 37,\n",
              " 'human bodi': 38,\n",
              " 'insect': 39,\n",
              " 'insect cat': 40,\n",
              " 'insid': 41,\n",
              " 'insid your': 42,\n",
              " 'learn': 43,\n",
              " 'learn librari': 44,\n",
              " 'librari': 45,\n",
              " 'like': 46,\n",
              " 'like space': 47,\n",
              " 'money': 48,\n",
              " 'money cat': 49,\n",
              " 'new': 50,\n",
              " 'new cent': 51,\n",
              " 'no': 52,\n",
              " 'no place': 53,\n",
              " 'oh': 54,\n",
              " 'oh _connector_': 55,\n",
              " 'old': 56,\n",
              " 'old cent': 57,\n",
              " 'on': 58,\n",
              " 'on beyond': 59,\n",
              " 'one': 60,\n",
              " 'one cent': 61,\n",
              " 'our': 62,\n",
              " 'our solar': 63,\n",
              " 'outsid': 64,\n",
              " 'outsid _connector_': 65,\n",
              " 'place': 66,\n",
              " 'place like': 67,\n",
              " 'solar': 68,\n",
              " 'solar system': 69,\n",
              " 'space': 70,\n",
              " 'space _connector_': 71,\n",
              " 'stay': 72,\n",
              " 'stay healthi': 73,\n",
              " 'system': 74,\n",
              " 'system cat': 75,\n",
              " 'that': 76,\n",
              " 'that are': 77,\n",
              " 'the': 78,\n",
              " 'the hat': 79,\n",
              " 'there': 80,\n",
              " 'there no': 81,\n",
              " 'thing': 82,\n",
              " 'thing you': 83,\n",
              " 'two': 84,\n",
              " 'two cent': 85,\n",
              " 'you': 86,\n",
              " 'you _connector_': 87,\n",
              " 'you can': 88,\n",
              " 'your': 89,\n",
              " 'your outsid': 90}"
            ]
          },
          "metadata": {},
          "execution_count": 33
        }
      ]
    },
    {
      "cell_type": "code",
      "metadata": {
        "id": "mpVoucQE6y01"
      },
      "source": [
        "#only character level bigrams"
      ],
      "execution_count": 34,
      "outputs": []
    },
    {
      "cell_type": "code",
      "metadata": {
        "id": "lfvaJUGa68k9"
      },
      "source": [
        "cv = CountVectorizer(cat_in_the_hat_docs, ngram_range=(2,2), analyzer='char_wb')\n",
        "count_vector = cv.fit_transform(cat_in_the_hat_docs)"
      ],
      "execution_count": 36,
      "outputs": []
    },
    {
      "cell_type": "code",
      "metadata": {
        "colab": {
          "base_uri": "https://localhost:8080/"
        },
        "id": "1MBX1qfQ7K8w",
        "outputId": "e4d1422a-8666-45d8-9140-8f51c612230e"
      },
      "source": [
        "cv.vocabulary_"
      ],
      "execution_count": 37,
      "outputs": [
        {
          "output_type": "execute_result",
          "data": {
            "text/plain": [
              "{' (': 0,\n",
              " ' a': 1,\n",
              " ' b': 2,\n",
              " ' c': 3,\n",
              " ' d': 4,\n",
              " ' f': 5,\n",
              " ' g': 6,\n",
              " ' h': 7,\n",
              " ' i': 8,\n",
              " ' l': 9,\n",
              " ' m': 10,\n",
              " ' n': 11,\n",
              " ' o': 12,\n",
              " ' p': 13,\n",
              " ' s': 14,\n",
              " ' t': 15,\n",
              " ' y': 16,\n",
              " \"'s\": 17,\n",
              " '(c': 18,\n",
              " ') ': 19,\n",
              " ', ': 20,\n",
              " ': ': 21,\n",
              " 'ab': 22,\n",
              " 'ac': 23,\n",
              " 'al': 24,\n",
              " 'an': 25,\n",
              " 'ar': 26,\n",
              " 'at': 27,\n",
              " 'ay': 28,\n",
              " 'be': 29,\n",
              " 'bo': 30,\n",
              " 'br': 31,\n",
              " 'bu': 32,\n",
              " 'ca': 33,\n",
              " 'ce': 34,\n",
              " 'ct': 35,\n",
              " 'd ': 36,\n",
              " 'de': 37,\n",
              " 'do': 38,\n",
              " 'dy': 39,\n",
              " 'e ': 40,\n",
              " \"e'\": 41,\n",
              " 'e:': 42,\n",
              " 'ea': 43,\n",
              " 'ec': 44,\n",
              " 'em': 45,\n",
              " 'en': 46,\n",
              " 'er': 47,\n",
              " 'ew': 48,\n",
              " 'ey': 49,\n",
              " 'fo': 50,\n",
              " 'g ': 51,\n",
              " 'go': 52,\n",
              " 'gs': 53,\n",
              " 'h,': 54,\n",
              " 'ha': 55,\n",
              " 'he': 56,\n",
              " 'hi': 57,\n",
              " 'hu': 58,\n",
              " 'hy': 59,\n",
              " 'ib': 60,\n",
              " 'id': 61,\n",
              " 'ik': 62,\n",
              " 'in': 63,\n",
              " 'ke': 64,\n",
              " 'l ': 65,\n",
              " 'la': 66,\n",
              " 'ld': 67,\n",
              " 'le': 68,\n",
              " 'li': 69,\n",
              " 'll': 70,\n",
              " 'lt': 71,\n",
              " 'm ': 72,\n",
              " 'ma': 73,\n",
              " 'mo': 74,\n",
              " 'n ': 75,\n",
              " 'nd': 76,\n",
              " 'ne': 77,\n",
              " 'ng': 78,\n",
              " 'ni': 79,\n",
              " 'no': 80,\n",
              " 'ns': 81,\n",
              " 'nt': 82,\n",
              " 'o ': 83,\n",
              " 'od': 84,\n",
              " 'oh': 85,\n",
              " 'ol': 86,\n",
              " 'on': 87,\n",
              " 'oo': 88,\n",
              " 'or': 89,\n",
              " 'ou': 90,\n",
              " 'pa': 91,\n",
              " 'pl': 92,\n",
              " 'r ': 93,\n",
              " 'ra': 94,\n",
              " 're': 95,\n",
              " 'rn': 96,\n",
              " 'ry': 97,\n",
              " 's ': 98,\n",
              " 's,': 99,\n",
              " 's:': 100,\n",
              " 'se': 101,\n",
              " 'si': 102,\n",
              " 'so': 103,\n",
              " 'sp': 104,\n",
              " 'st': 105,\n",
              " 'sy': 106,\n",
              " 't ': 107,\n",
              " \"t'\": 108,\n",
              " 't,': 109,\n",
              " 't:': 110,\n",
              " 'ta': 111,\n",
              " 'te': 112,\n",
              " 'th': 113,\n",
              " 'ts': 114,\n",
              " 'tw': 115,\n",
              " 'u ': 116,\n",
              " 'u:': 117,\n",
              " 'ug': 118,\n",
              " 'um': 119,\n",
              " 'ur': 120,\n",
              " 'ut': 121,\n",
              " 'w ': 122,\n",
              " 'wo': 123,\n",
              " 'y ': 124,\n",
              " 'y)': 125,\n",
              " 'yi': 126,\n",
              " 'yo': 127,\n",
              " 'ys': 128}"
            ]
          },
          "metadata": {},
          "execution_count": 37
        }
      ]
    },
    {
      "cell_type": "code",
      "metadata": {
        "id": "Q7P2_sGa7Q5_"
      },
      "source": [
        "#only bigrams and unigrams"
      ],
      "execution_count": 38,
      "outputs": []
    },
    {
      "cell_type": "code",
      "metadata": {
        "id": "XXmUi8Mh7c6U"
      },
      "source": [
        "cv = CountVectorizer(cat_in_the_hat_docs, max_features=10)"
      ],
      "execution_count": 39,
      "outputs": []
    },
    {
      "cell_type": "code",
      "metadata": {
        "id": "XT_PxX4J7ghZ"
      },
      "source": [
        "count_vector = cv.fit_transform(cat_in_the_hat_docs)"
      ],
      "execution_count": 40,
      "outputs": []
    },
    {
      "cell_type": "code",
      "metadata": {
        "colab": {
          "base_uri": "https://localhost:8080/"
        },
        "id": "B-MgBqRi7k5U",
        "outputId": "991b3861-b6cb-4640-85c3-dd7790d892d2"
      },
      "source": [
        "cv.vocabulary_"
      ],
      "execution_count": 41,
      "outputs": [
        {
          "output_type": "execute_result",
          "data": {
            "text/plain": [
              "{'about': 0,\n",
              " 'all': 1,\n",
              " 'cat': 2,\n",
              " 'cent': 3,\n",
              " 'hat': 4,\n",
              " 'in': 5,\n",
              " 'learning': 6,\n",
              " 'library': 7,\n",
              " 'the': 8,\n",
              " 'you': 9}"
            ]
          },
          "metadata": {},
          "execution_count": 41
        }
      ]
    },
    {
      "cell_type": "code",
      "metadata": {
        "id": "GEcsKhAL7mhp"
      },
      "source": [
        "cv = CountVectorizer(cat_in_the_hat_docs, binary=True)\n",
        "count_vector = cv.fit_transform(cat_in_the_hat_docs)"
      ],
      "execution_count": 42,
      "outputs": []
    },
    {
      "cell_type": "code",
      "metadata": {
        "id": "btTjAf8f75y7"
      },
      "source": [
        ""
      ],
      "execution_count": null,
      "outputs": []
    }
  ]
}