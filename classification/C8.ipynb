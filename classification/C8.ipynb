{
  "nbformat": 4,
  "nbformat_minor": 0,
  "metadata": {
    "colab": {
      "name": "C8.ipynb",
      "provenance": [],
      "authorship_tag": "ABX9TyO+17pTlGu6fYCD+0cbleLK"
    },
    "kernelspec": {
      "name": "python3",
      "display_name": "Python 3"
    },
    "language_info": {
      "name": "python"
    }
  },
  "cells": [
    {
      "cell_type": "code",
      "metadata": {
        "id": "VE21b_R8lS86"
      },
      "source": [
        "from sklearn.model_selection import GridSearchCV\n",
        "from sklearn.datasets import make_classification\n",
        "from sklearn.pipeline import Pipeline\n",
        "import numpy as np"
      ],
      "execution_count": 29,
      "outputs": []
    },
    {
      "cell_type": "code",
      "metadata": {
        "id": "Oo68jf5LlTs8"
      },
      "source": [
        "from sklearn.linear_model import Lasso"
      ],
      "execution_count": 30,
      "outputs": []
    },
    {
      "cell_type": "code",
      "metadata": {
        "id": "mg83Y9e3lZac"
      },
      "source": [
        "X,y = make_classification(n_samples=500, n_features=100, random_state=42)"
      ],
      "execution_count": 31,
      "outputs": []
    },
    {
      "cell_type": "code",
      "metadata": {
        "id": "9Y5rV8RJlfhk"
      },
      "source": [
        "pipe = Pipeline([\n",
        "                 ('clf', Lasso()),\n",
        "])"
      ],
      "execution_count": 32,
      "outputs": []
    },
    {
      "cell_type": "code",
      "metadata": {
        "id": "kmBFN0gilqOz"
      },
      "source": [
        "params = {\n",
        "    'clf__alpha': [1.0, 2.0, 3.0],\n",
        "    'clf__positive': [True],\n",
        "    'clf__max_iter': [1000, 2000, 3000],\n",
        "    'clf__fit_intercept': [True, False],\n",
        "}"
      ],
      "execution_count": 33,
      "outputs": []
    },
    {
      "cell_type": "code",
      "metadata": {
        "id": "_yhYLda0l-RP"
      },
      "source": [
        "gs_cv = GridSearchCV(estimator=pipe, param_grid=params, cv=5, n_jobs=-1)"
      ],
      "execution_count": 34,
      "outputs": []
    },
    {
      "cell_type": "code",
      "metadata": {
        "colab": {
          "base_uri": "https://localhost:8080/"
        },
        "id": "gp5FeoYumErN",
        "outputId": "e78dbf81-b068-46e9-9522-18d91aa4193c"
      },
      "source": [
        "gs_cv.fit(X, y)"
      ],
      "execution_count": 35,
      "outputs": [
        {
          "output_type": "execute_result",
          "data": {
            "text/plain": [
              "GridSearchCV(cv=5, error_score=nan,\n",
              "             estimator=Pipeline(memory=None,\n",
              "                                steps=[('clf',\n",
              "                                        Lasso(alpha=1.0, copy_X=True,\n",
              "                                              fit_intercept=True, max_iter=1000,\n",
              "                                              normalize=False, positive=False,\n",
              "                                              precompute=False,\n",
              "                                              random_state=None,\n",
              "                                              selection='cyclic', tol=0.0001,\n",
              "                                              warm_start=False))],\n",
              "                                verbose=False),\n",
              "             iid='deprecated', n_jobs=-1,\n",
              "             param_grid={'clf__alpha': [1.0, 2.0, 3.0],\n",
              "                         'clf__fit_intercept': [True, False],\n",
              "                         'clf__max_iter': [1000, 2000, 3000],\n",
              "                         'clf__positive': [True]},\n",
              "             pre_dispatch='2*n_jobs', refit=True, return_train_score=False,\n",
              "             scoring=None, verbose=0)"
            ]
          },
          "metadata": {},
          "execution_count": 35
        }
      ]
    },
    {
      "cell_type": "code",
      "metadata": {
        "colab": {
          "base_uri": "https://localhost:8080/"
        },
        "id": "KjFWpVUfmIqI",
        "outputId": "0b35494b-6c71-4cb9-e349-af9503bd8ef6"
      },
      "source": [
        "gs_cv.best_score_"
      ],
      "execution_count": 36,
      "outputs": [
        {
          "output_type": "execute_result",
          "data": {
            "text/plain": [
              "-0.0032645850517837084"
            ]
          },
          "metadata": {},
          "execution_count": 36
        }
      ]
    },
    {
      "cell_type": "code",
      "metadata": {
        "colab": {
          "base_uri": "https://localhost:8080/"
        },
        "id": "AJUypx8sm2DT",
        "outputId": "c232b1e0-a4a2-4120-af88-b4a53467a0fc"
      },
      "source": [
        "gs_cv.best_params_"
      ],
      "execution_count": 37,
      "outputs": [
        {
          "output_type": "execute_result",
          "data": {
            "text/plain": [
              "{'clf__alpha': 1.0,\n",
              " 'clf__fit_intercept': True,\n",
              " 'clf__max_iter': 1000,\n",
              " 'clf__positive': True}"
            ]
          },
          "metadata": {},
          "execution_count": 37
        }
      ]
    },
    {
      "cell_type": "code",
      "metadata": {
        "id": "uQpi_br4m4Sq"
      },
      "source": [
        ""
      ],
      "execution_count": null,
      "outputs": []
    }
  ]
}