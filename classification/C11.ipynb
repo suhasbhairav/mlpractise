{
  "nbformat": 4,
  "nbformat_minor": 0,
  "metadata": {
    "colab": {
      "name": "C11.ipynb",
      "provenance": [],
      "authorship_tag": "ABX9TyOmyNpdaioBM+LhevNwOGG8"
    },
    "kernelspec": {
      "name": "python3",
      "display_name": "Python 3"
    },
    "language_info": {
      "name": "python"
    }
  },
  "cells": [
    {
      "cell_type": "code",
      "metadata": {
        "id": "xBwsOkfyvVne"
      },
      "source": [
        "from sklearn.model_selection import GridSearchCV\n",
        "from sklearn.datasets import make_classification\n",
        "from sklearn.datasets import make_regression\n",
        "from sklearn.pipeline import Pipeline\n",
        "import numpy as np"
      ],
      "execution_count": 1,
      "outputs": []
    },
    {
      "cell_type": "code",
      "metadata": {
        "id": "bq_999c_vWnl"
      },
      "source": [
        "from sklearn.linear_model import ElasticNet"
      ],
      "execution_count": 2,
      "outputs": []
    },
    {
      "cell_type": "code",
      "metadata": {
        "id": "-P_mpCBDvZ8y"
      },
      "source": [
        "X,y = make_regression(n_samples=1000, n_features=150, random_state=100)"
      ],
      "execution_count": 3,
      "outputs": []
    },
    {
      "cell_type": "code",
      "metadata": {
        "id": "_AVF2r8pvfrI"
      },
      "source": [
        "pipe = Pipeline([\n",
        "                 ('regr', ElasticNet())\n",
        "])"
      ],
      "execution_count": 4,
      "outputs": []
    },
    {
      "cell_type": "code",
      "metadata": {
        "id": "XCIfI5xnvmJc"
      },
      "source": [
        "params = {\n",
        "    'regr__alpha': [1.0, 2.0, 3.0, 4.0],\n",
        "    'regr__fit_intercept': [True, False],\n",
        "    'regr__normalize': [True, False],\n",
        "}"
      ],
      "execution_count": 5,
      "outputs": []
    },
    {
      "cell_type": "code",
      "metadata": {
        "id": "ep4Xx0EZvxk3"
      },
      "source": [
        "gs_cv = GridSearchCV(estimator=pipe, param_grid=params, cv=6, n_jobs=-1)"
      ],
      "execution_count": 6,
      "outputs": []
    },
    {
      "cell_type": "code",
      "metadata": {
        "colab": {
          "base_uri": "https://localhost:8080/"
        },
        "id": "FPQHl3BQv9aU",
        "outputId": "afd84085-2b54-41b5-e51d-2c10c824b2a3"
      },
      "source": [
        "gs_cv.fit(X, y)"
      ],
      "execution_count": 7,
      "outputs": [
        {
          "output_type": "execute_result",
          "data": {
            "text/plain": [
              "GridSearchCV(cv=6, error_score=nan,\n",
              "             estimator=Pipeline(memory=None,\n",
              "                                steps=[('regr',\n",
              "                                        ElasticNet(alpha=1.0, copy_X=True,\n",
              "                                                   fit_intercept=True,\n",
              "                                                   l1_ratio=0.5, max_iter=1000,\n",
              "                                                   normalize=False,\n",
              "                                                   positive=False,\n",
              "                                                   precompute=False,\n",
              "                                                   random_state=None,\n",
              "                                                   selection='cyclic',\n",
              "                                                   tol=0.0001,\n",
              "                                                   warm_start=False))],\n",
              "                                verbose=False),\n",
              "             iid='deprecated', n_jobs=-1,\n",
              "             param_grid={'regr__alpha': [1.0, 2.0, 3.0, 4.0],\n",
              "                         'regr__fit_intercept': [True, False],\n",
              "                         'regr__normalize': [True, False]},\n",
              "             pre_dispatch='2*n_jobs', refit=True, return_train_score=False,\n",
              "             scoring=None, verbose=0)"
            ]
          },
          "metadata": {},
          "execution_count": 7
        }
      ]
    },
    {
      "cell_type": "code",
      "metadata": {
        "colab": {
          "base_uri": "https://localhost:8080/"
        },
        "id": "Pa8i-gA-v-xx",
        "outputId": "323b9c72-2e57-4317-af77-a755484916b4"
      },
      "source": [
        "gs_cv.best_params_"
      ],
      "execution_count": 8,
      "outputs": [
        {
          "output_type": "execute_result",
          "data": {
            "text/plain": [
              "{'regr__alpha': 1.0, 'regr__fit_intercept': False, 'regr__normalize': True}"
            ]
          },
          "metadata": {},
          "execution_count": 8
        }
      ]
    },
    {
      "cell_type": "code",
      "metadata": {
        "colab": {
          "base_uri": "https://localhost:8080/"
        },
        "id": "DN2_iFxLwCJG",
        "outputId": "07f88d57-716e-4a7f-a484-7c6c3dc03271"
      },
      "source": [
        "gs_cv.best_score_"
      ],
      "execution_count": 9,
      "outputs": [
        {
          "output_type": "execute_result",
          "data": {
            "text/plain": [
              "0.864939475638102"
            ]
          },
          "metadata": {},
          "execution_count": 9
        }
      ]
    },
    {
      "cell_type": "code",
      "metadata": {
        "id": "uXOA7KgXwEkP"
      },
      "source": [
        ""
      ],
      "execution_count": null,
      "outputs": []
    }
  ]
}