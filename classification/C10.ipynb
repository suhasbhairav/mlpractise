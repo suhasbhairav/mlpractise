{
  "nbformat": 4,
  "nbformat_minor": 0,
  "metadata": {
    "colab": {
      "name": "C10.ipynb",
      "provenance": [],
      "authorship_tag": "ABX9TyO74lnegJGt/eAX5SApbAnn"
    },
    "kernelspec": {
      "name": "python3",
      "display_name": "Python 3"
    },
    "language_info": {
      "name": "python"
    }
  },
  "cells": [
    {
      "cell_type": "code",
      "metadata": {
        "id": "VaqZ3oOxqJ6t"
      },
      "source": [
        "from sklearn.model_selection import GridSearchCV\n",
        "from sklearn.datasets import make_classification\n",
        "from sklearn.datasets import make_regression\n",
        "from sklearn.pipeline import Pipeline\n",
        "import numpy as np"
      ],
      "execution_count": 2,
      "outputs": []
    },
    {
      "cell_type": "code",
      "metadata": {
        "id": "lKnFXXd4qMDJ"
      },
      "source": [
        "from sklearn.linear_model import ElasticNet"
      ],
      "execution_count": 3,
      "outputs": []
    },
    {
      "cell_type": "code",
      "metadata": {
        "id": "C6Lig77WqduY"
      },
      "source": [
        "X, y = make_regression(n_samples=1000, n_features=100, random_state=100)"
      ],
      "execution_count": 4,
      "outputs": []
    },
    {
      "cell_type": "code",
      "metadata": {
        "id": "xWnck4IfusSt"
      },
      "source": [
        "pipe = Pipeline([\n",
        "                 ('regr', ElasticNet())\n",
        "])"
      ],
      "execution_count": 5,
      "outputs": []
    },
    {
      "cell_type": "code",
      "metadata": {
        "id": "LYIBpYxiuyX3"
      },
      "source": [
        "params = {\n",
        "    'regr__alpha': [1.0, 2.0],\n",
        "    'regr__fit_intercept': [True, False],\n",
        "}"
      ],
      "execution_count": 6,
      "outputs": []
    },
    {
      "cell_type": "code",
      "metadata": {
        "id": "FOr4Nbc9u7fj"
      },
      "source": [
        "gs_cv = GridSearchCV(estimator=pipe, param_grid=params, cv=5, n_jobs=-1)"
      ],
      "execution_count": 7,
      "outputs": []
    },
    {
      "cell_type": "code",
      "metadata": {
        "colab": {
          "base_uri": "https://localhost:8080/"
        },
        "id": "SF3-1J4avCOv",
        "outputId": "229d90f4-d518-4389-a36d-0060dba2d691"
      },
      "source": [
        "gs_cv.fit(X, y)"
      ],
      "execution_count": 8,
      "outputs": [
        {
          "output_type": "execute_result",
          "data": {
            "text/plain": [
              "GridSearchCV(cv=5, error_score=nan,\n",
              "             estimator=Pipeline(memory=None,\n",
              "                                steps=[('regr',\n",
              "                                        ElasticNet(alpha=1.0, copy_X=True,\n",
              "                                                   fit_intercept=True,\n",
              "                                                   l1_ratio=0.5, max_iter=1000,\n",
              "                                                   normalize=False,\n",
              "                                                   positive=False,\n",
              "                                                   precompute=False,\n",
              "                                                   random_state=None,\n",
              "                                                   selection='cyclic',\n",
              "                                                   tol=0.0001,\n",
              "                                                   warm_start=False))],\n",
              "                                verbose=False),\n",
              "             iid='deprecated', n_jobs=-1,\n",
              "             param_grid={'regr__alpha': [1.0, 2.0],\n",
              "                         'regr__fit_intercept': [True, False]},\n",
              "             pre_dispatch='2*n_jobs', refit=True, return_train_score=False,\n",
              "             scoring=None, verbose=0)"
            ]
          },
          "metadata": {},
          "execution_count": 8
        }
      ]
    },
    {
      "cell_type": "code",
      "metadata": {
        "colab": {
          "base_uri": "https://localhost:8080/"
        },
        "id": "dj7dxs-hvD-O",
        "outputId": "fdd8b938-8938-40a0-ad1a-346f8bca326e"
      },
      "source": [
        "gs_cv.best_params_"
      ],
      "execution_count": 9,
      "outputs": [
        {
          "output_type": "execute_result",
          "data": {
            "text/plain": [
              "{'regr__alpha': 1.0, 'regr__fit_intercept': False}"
            ]
          },
          "metadata": {},
          "execution_count": 9
        }
      ]
    },
    {
      "cell_type": "code",
      "metadata": {
        "colab": {
          "base_uri": "https://localhost:8080/"
        },
        "id": "m-2O7oMZvGpk",
        "outputId": "623564e6-434d-4cda-d1d3-f16df33d2334"
      },
      "source": [
        "gs_cv.best_score_"
      ],
      "execution_count": 10,
      "outputs": [
        {
          "output_type": "execute_result",
          "data": {
            "text/plain": [
              "0.8652233310508283"
            ]
          },
          "metadata": {},
          "execution_count": 10
        }
      ]
    },
    {
      "cell_type": "code",
      "metadata": {
        "id": "Fyha54HqvIXg"
      },
      "source": [
        ""
      ],
      "execution_count": null,
      "outputs": []
    }
  ]
}