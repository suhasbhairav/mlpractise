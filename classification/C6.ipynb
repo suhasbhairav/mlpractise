{
  "nbformat": 4,
  "nbformat_minor": 0,
  "metadata": {
    "colab": {
      "name": "C6.ipynb",
      "provenance": [],
      "authorship_tag": "ABX9TyNXuphBcVzDYnbBZrm+W+4A"
    },
    "kernelspec": {
      "name": "python3",
      "display_name": "Python 3"
    },
    "language_info": {
      "name": "python"
    }
  },
  "cells": [
    {
      "cell_type": "code",
      "metadata": {
        "id": "S3Dv4R6IaRUX"
      },
      "source": [
        "from sklearn.model_selection import GridSearchCV\n",
        "from sklearn.datasets import make_classification\n",
        "from sklearn.pipeline import Pipeline\n",
        "import numpy as np"
      ],
      "execution_count": 1,
      "outputs": []
    },
    {
      "cell_type": "code",
      "metadata": {
        "id": "7ZygOPTiaSFg"
      },
      "source": [
        "from sklearn.linear_model import LogisticRegressionCV"
      ],
      "execution_count": 2,
      "outputs": []
    },
    {
      "cell_type": "code",
      "metadata": {
        "id": "8WdMqKIDaiPy"
      },
      "source": [
        "X, y = make_classification(n_samples=300, n_features=25, random_state=120)"
      ],
      "execution_count": 3,
      "outputs": []
    },
    {
      "cell_type": "code",
      "metadata": {
        "id": "TxEDneQIaoGI"
      },
      "source": [
        "pipeline = Pipeline([\n",
        "                     ('clf', LogisticRegressionCV())\n",
        "])"
      ],
      "execution_count": 4,
      "outputs": []
    },
    {
      "cell_type": "code",
      "metadata": {
        "id": "RFrypjcPatCW"
      },
      "source": [
        "param_grids = {\n",
        "    'clf__Cs': [1.0, 1.2, 2.5, 5, 10],\n",
        "    'clf__fit_intercept': [True, False],\n",
        "    'clf__dual': [True, False],\n",
        "}"
      ],
      "execution_count": 5,
      "outputs": []
    },
    {
      "cell_type": "code",
      "metadata": {
        "id": "2jApbsJRbIF7"
      },
      "source": [
        "gs_cv = GridSearchCV(estimator=pipeline, param_grid=param_grids, cv=5, n_jobs=-1)"
      ],
      "execution_count": 6,
      "outputs": []
    },
    {
      "cell_type": "code",
      "metadata": {
        "colab": {
          "base_uri": "https://localhost:8080/"
        },
        "id": "z3HwoccbbR6B",
        "outputId": "913c3410-9edd-4517-f6a1-c4eafd762e4a"
      },
      "source": [
        "gs_cv.fit(X, y)"
      ],
      "execution_count": 7,
      "outputs": [
        {
          "output_type": "execute_result",
          "data": {
            "text/plain": [
              "GridSearchCV(cv=5, error_score=nan,\n",
              "             estimator=Pipeline(memory=None,\n",
              "                                steps=[('clf',\n",
              "                                        LogisticRegressionCV(Cs=10,\n",
              "                                                             class_weight=None,\n",
              "                                                             cv=None,\n",
              "                                                             dual=False,\n",
              "                                                             fit_intercept=True,\n",
              "                                                             intercept_scaling=1.0,\n",
              "                                                             l1_ratios=None,\n",
              "                                                             max_iter=100,\n",
              "                                                             multi_class='auto',\n",
              "                                                             n_jobs=None,\n",
              "                                                             penalty='l2',\n",
              "                                                             random_state=None,\n",
              "                                                             refit=True,\n",
              "                                                             scoring=None,\n",
              "                                                             solver='lbfgs',\n",
              "                                                             tol=0.0001,\n",
              "                                                             verbose=0))],\n",
              "                                verbose=False),\n",
              "             iid='deprecated', n_jobs=-1,\n",
              "             param_grid={'clf__Cs': [1.0, 1.2, 2.5, 5, 10],\n",
              "                         'clf__dual': [True, False],\n",
              "                         'clf__fit_intercept': [True, False]},\n",
              "             pre_dispatch='2*n_jobs', refit=True, return_train_score=False,\n",
              "             scoring=None, verbose=0)"
            ]
          },
          "metadata": {},
          "execution_count": 7
        }
      ]
    },
    {
      "cell_type": "code",
      "metadata": {
        "colab": {
          "base_uri": "https://localhost:8080/"
        },
        "id": "o78q3p44bTlV",
        "outputId": "9a5c4b48-dcdc-4143-b54e-3c37f56ca768"
      },
      "source": [
        "gs_cv.best_params_"
      ],
      "execution_count": 8,
      "outputs": [
        {
          "output_type": "execute_result",
          "data": {
            "text/plain": [
              "{'clf__Cs': 10, 'clf__dual': False, 'clf__fit_intercept': False}"
            ]
          },
          "metadata": {},
          "execution_count": 8
        }
      ]
    },
    {
      "cell_type": "code",
      "metadata": {
        "colab": {
          "base_uri": "https://localhost:8080/"
        },
        "id": "7sfea-wVbWey",
        "outputId": "68424ff3-1f0b-4d41-92a3-d0b430495bfb"
      },
      "source": [
        "gs_cv.best_score_"
      ],
      "execution_count": 9,
      "outputs": [
        {
          "output_type": "execute_result",
          "data": {
            "text/plain": [
              "0.9033333333333333"
            ]
          },
          "metadata": {},
          "execution_count": 9
        }
      ]
    },
    {
      "cell_type": "code",
      "metadata": {
        "id": "DWVrxyvpbYlO"
      },
      "source": [
        ""
      ],
      "execution_count": null,
      "outputs": []
    }
  ]
}