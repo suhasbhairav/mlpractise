{
  "nbformat": 4,
  "nbformat_minor": 0,
  "metadata": {
    "colab": {
      "name": "C12.ipynb",
      "provenance": [],
      "authorship_tag": "ABX9TyPVrQS0V9LdkifyfCF0IXHS"
    },
    "kernelspec": {
      "name": "python3",
      "display_name": "Python 3"
    },
    "language_info": {
      "name": "python"
    }
  },
  "cells": [
    {
      "cell_type": "code",
      "metadata": {
        "id": "kN3NFJpXwgD-"
      },
      "source": [
        "from sklearn.model_selection import GridSearchCV\n",
        "from sklearn.datasets import make_classification\n",
        "from sklearn.datasets import make_regression\n",
        "from sklearn.pipeline import Pipeline\n",
        "import numpy as np"
      ],
      "execution_count": 2,
      "outputs": []
    },
    {
      "cell_type": "code",
      "metadata": {
        "id": "kr0zTBKAwg3-"
      },
      "source": [
        "from sklearn.linear_model import BayesianRidge"
      ],
      "execution_count": 3,
      "outputs": []
    },
    {
      "cell_type": "code",
      "metadata": {
        "id": "gxiQq_Mgwt9r"
      },
      "source": [
        "X, y = make_regression(n_samples=1000, n_features=100, random_state=100)"
      ],
      "execution_count": 4,
      "outputs": []
    },
    {
      "cell_type": "code",
      "metadata": {
        "id": "dh9pzhSmxL7L"
      },
      "source": [
        "pipe = Pipeline([\n",
        "                 ('regr', BayesianRidge())\n",
        "])"
      ],
      "execution_count": 6,
      "outputs": []
    },
    {
      "cell_type": "code",
      "metadata": {
        "id": "l69vA4OCxR68"
      },
      "source": [
        "params = {\n",
        "    'regr__n_iter': [100, 200, 300],\n",
        "    'regr__compute_score': [True, False],\n",
        "}"
      ],
      "execution_count": 10,
      "outputs": []
    },
    {
      "cell_type": "code",
      "metadata": {
        "id": "7BpYNe4WxkA3"
      },
      "source": [
        "gs = GridSearchCV(estimator=pipe, param_grid=params, cv=5, n_jobs=-1)"
      ],
      "execution_count": 11,
      "outputs": []
    },
    {
      "cell_type": "code",
      "metadata": {
        "colab": {
          "base_uri": "https://localhost:8080/"
        },
        "id": "39LbHwS4xsOE",
        "outputId": "96b39eba-1f83-4450-d36a-f57b68b915fb"
      },
      "source": [
        "gs.fit(X, y)"
      ],
      "execution_count": 12,
      "outputs": [
        {
          "output_type": "execute_result",
          "data": {
            "text/plain": [
              "GridSearchCV(cv=5, error_score=nan,\n",
              "             estimator=Pipeline(memory=None,\n",
              "                                steps=[('regr',\n",
              "                                        BayesianRidge(alpha_1=1e-06,\n",
              "                                                      alpha_2=1e-06,\n",
              "                                                      alpha_init=None,\n",
              "                                                      compute_score=False,\n",
              "                                                      copy_X=True,\n",
              "                                                      fit_intercept=True,\n",
              "                                                      lambda_1=1e-06,\n",
              "                                                      lambda_2=1e-06,\n",
              "                                                      lambda_init=None,\n",
              "                                                      n_iter=300,\n",
              "                                                      normalize=False,\n",
              "                                                      tol=0.001,\n",
              "                                                      verbose=False))],\n",
              "                                verbose=False),\n",
              "             iid='deprecated', n_jobs=-1,\n",
              "             param_grid={'regr__compute_score': [True, False],\n",
              "                         'regr__n_iter': [100, 200, 300]},\n",
              "             pre_dispatch='2*n_jobs', refit=True, return_train_score=False,\n",
              "             scoring=None, verbose=0)"
            ]
          },
          "metadata": {},
          "execution_count": 12
        }
      ]
    },
    {
      "cell_type": "code",
      "metadata": {
        "colab": {
          "base_uri": "https://localhost:8080/"
        },
        "id": "MO9t7-Snxt4q",
        "outputId": "91cadbc8-ab75-42a4-e0e0-0f14fafe3c03"
      },
      "source": [
        "gs.best_score_"
      ],
      "execution_count": 13,
      "outputs": [
        {
          "output_type": "execute_result",
          "data": {
            "text/plain": [
              "1.0"
            ]
          },
          "metadata": {},
          "execution_count": 13
        }
      ]
    },
    {
      "cell_type": "code",
      "metadata": {
        "colab": {
          "base_uri": "https://localhost:8080/"
        },
        "id": "csX9EFy9x0CP",
        "outputId": "3be1a78c-7270-4523-bc4f-bde201355986"
      },
      "source": [
        "gs.best_params_"
      ],
      "execution_count": 14,
      "outputs": [
        {
          "output_type": "execute_result",
          "data": {
            "text/plain": [
              "{'regr__compute_score': True, 'regr__n_iter': 100}"
            ]
          },
          "metadata": {},
          "execution_count": 14
        }
      ]
    },
    {
      "cell_type": "code",
      "metadata": {
        "id": "zT28723Vx2es"
      },
      "source": [
        ""
      ],
      "execution_count": null,
      "outputs": []
    }
  ]
}