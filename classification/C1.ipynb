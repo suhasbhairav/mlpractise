{
  "nbformat": 4,
  "nbformat_minor": 0,
  "metadata": {
    "colab": {
      "name": "C1.ipynb",
      "provenance": [],
      "authorship_tag": "ABX9TyMRefTjxa8IWyU95QAMpmgr"
    },
    "kernelspec": {
      "name": "python3",
      "display_name": "Python 3"
    },
    "language_info": {
      "name": "python"
    }
  },
  "cells": [
    {
      "cell_type": "code",
      "metadata": {
        "id": "eXMxnrUXLxK2"
      },
      "source": [
        "from sklearn.pipeline import Pipeline\n",
        "from sklearn.model_selection import GridSearchCV"
      ],
      "execution_count": 2,
      "outputs": []
    },
    {
      "cell_type": "code",
      "metadata": {
        "id": "ndqDizSuL6pO"
      },
      "source": [
        "import numpy as np\n",
        "from sklearn.datasets import make_classification"
      ],
      "execution_count": 4,
      "outputs": []
    },
    {
      "cell_type": "code",
      "metadata": {
        "id": "AQ_OsCrcMSd6"
      },
      "source": [
        "random_num = np.random.RandomState(0)\n",
        "X, y = make_classification(n_samples=700, random_state = random_num)"
      ],
      "execution_count": 7,
      "outputs": []
    },
    {
      "cell_type": "code",
      "metadata": {
        "id": "HQkGFBCyMiCI"
      },
      "source": [
        "from sklearn.ensemble import RandomForestClassifier\n",
        "from scipy.stats import randint"
      ],
      "execution_count": 10,
      "outputs": []
    },
    {
      "cell_type": "code",
      "metadata": {
        "id": "X0jDDHmDMrfk"
      },
      "source": [
        "param_dist = {\n",
        "    \"max_depth\": [3, None],\n",
        "    \"bootstrap\": [True, False],\n",
        "    \"criterion\": [\"gini\", \"entropy\"]\n",
        "}"
      ],
      "execution_count": 24,
      "outputs": []
    },
    {
      "cell_type": "code",
      "metadata": {
        "id": "nQhOtn6qNEfZ"
      },
      "source": [
        "clf = RandomForestClassifier(n_estimators=10, random_state=random_num)"
      ],
      "execution_count": 25,
      "outputs": []
    },
    {
      "cell_type": "code",
      "metadata": {
        "colab": {
          "base_uri": "https://localhost:8080/"
        },
        "id": "_P6QWTcSNXRT",
        "outputId": "5caaadee-4cfa-45f0-852f-faf40266581f"
      },
      "source": [
        "X"
      ],
      "execution_count": 26,
      "outputs": [
        {
          "output_type": "execute_result",
          "data": {
            "text/plain": [
              "array([[ 0.97308   , -0.16562878, -0.57593561, ..., -1.29098209,\n",
              "        -0.29623165,  1.74528457],\n",
              "       [-1.12888331, -0.12038892, -0.9092681 , ...,  0.10508997,\n",
              "         0.49058325, -0.49988653],\n",
              "       [ 1.2396585 , -0.68356754,  0.74666572, ..., -1.00721156,\n",
              "         0.41440588, -0.10137443],\n",
              "       ...,\n",
              "       [ 2.13035239, -0.38594668,  0.2479779 , ...,  1.05871674,\n",
              "         0.95515924, -1.09048607],\n",
              "       [ 0.44737069,  0.9622518 ,  0.28970043, ...,  1.5442926 ,\n",
              "         0.08196966,  1.21749957],\n",
              "       [-0.47115912,  0.07243496,  0.47004438, ...,  0.32494371,\n",
              "         0.25672944,  0.3238141 ]])"
            ]
          },
          "metadata": {},
          "execution_count": 26
        }
      ]
    },
    {
      "cell_type": "code",
      "metadata": {
        "id": "XT_ZaQ8fNa7K"
      },
      "source": [
        "gs_cv = GridSearchCV(estimator=clf, param_grid=param_dist, cv =5, n_jobs=-1)"
      ],
      "execution_count": 27,
      "outputs": []
    },
    {
      "cell_type": "code",
      "metadata": {
        "colab": {
          "base_uri": "https://localhost:8080/"
        },
        "id": "kFdGXX2BNtJA",
        "outputId": "5ce53cf4-a6d1-4725-93bb-18b3d8d3a7b9"
      },
      "source": [
        "gs_cv.fit(X, y)"
      ],
      "execution_count": 28,
      "outputs": [
        {
          "output_type": "execute_result",
          "data": {
            "text/plain": [
              "GridSearchCV(cv=5, error_score=nan,\n",
              "             estimator=RandomForestClassifier(bootstrap=True, ccp_alpha=0.0,\n",
              "                                              class_weight=None,\n",
              "                                              criterion='gini', max_depth=None,\n",
              "                                              max_features='auto',\n",
              "                                              max_leaf_nodes=None,\n",
              "                                              max_samples=None,\n",
              "                                              min_impurity_decrease=0.0,\n",
              "                                              min_impurity_split=None,\n",
              "                                              min_samples_leaf=1,\n",
              "                                              min_samples_split=2,\n",
              "                                              min_weight_fraction_leaf=0.0,\n",
              "                                              n_estimators=10, n_jobs=None,\n",
              "                                              oob_score=False,\n",
              "                                              random_state=RandomState(MT19937) at 0x7F6BA0DBEC00,\n",
              "                                              verbose=0, warm_start=False),\n",
              "             iid='deprecated', n_jobs=-1,\n",
              "             param_grid={'bootstrap': [True, False],\n",
              "                         'criterion': ['gini', 'entropy'],\n",
              "                         'max_depth': [3, None]},\n",
              "             pre_dispatch='2*n_jobs', refit=True, return_train_score=False,\n",
              "             scoring=None, verbose=0)"
            ]
          },
          "metadata": {},
          "execution_count": 28
        }
      ]
    },
    {
      "cell_type": "code",
      "metadata": {
        "colab": {
          "base_uri": "https://localhost:8080/"
        },
        "id": "qbaQP3GSOUYw",
        "outputId": "ac51ec09-d33b-455e-eb7e-0be0508d7214"
      },
      "source": [
        "gs_cv.best_score_"
      ],
      "execution_count": 31,
      "outputs": [
        {
          "output_type": "execute_result",
          "data": {
            "text/plain": [
              "0.9514285714285714"
            ]
          },
          "metadata": {},
          "execution_count": 31
        }
      ]
    },
    {
      "cell_type": "code",
      "metadata": {
        "id": "BarEqV-XOYkY"
      },
      "source": [
        ""
      ],
      "execution_count": null,
      "outputs": []
    }
  ]
}