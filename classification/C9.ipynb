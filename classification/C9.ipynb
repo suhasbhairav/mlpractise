{
  "nbformat": 4,
  "nbformat_minor": 0,
  "metadata": {
    "colab": {
      "name": "C9.ipynb",
      "provenance": [],
      "authorship_tag": "ABX9TyM07l9y0Htg156qRJDijFCd"
    },
    "kernelspec": {
      "name": "python3",
      "display_name": "Python 3"
    },
    "language_info": {
      "name": "python"
    }
  },
  "cells": [
    {
      "cell_type": "code",
      "metadata": {
        "id": "xDfruHjqnPfW"
      },
      "source": [
        "from sklearn.model_selection import GridSearchCV\n",
        "from sklearn.datasets import make_classification\n",
        "from sklearn.datasets import make_regression\n",
        "from sklearn.pipeline import Pipeline\n",
        "import numpy as np"
      ],
      "execution_count": 2,
      "outputs": []
    },
    {
      "cell_type": "code",
      "metadata": {
        "id": "5xKozt51nQuF"
      },
      "source": [
        "from sklearn.linear_model import LogisticRegression"
      ],
      "execution_count": 29,
      "outputs": []
    },
    {
      "cell_type": "code",
      "metadata": {
        "id": "TpfVjlzunaEt"
      },
      "source": [
        "X, y = make_regression(n_samples=20000, n_features=150, random_state=42)\n",
        "from sklearn import preprocessing\n",
        "enc = preprocessing.LabelEncoder()\n",
        "y = enc.fit_transform(y)"
      ],
      "execution_count": 56,
      "outputs": []
    },
    {
      "cell_type": "code",
      "metadata": {
        "id": "Hfo3EaTDng3X"
      },
      "source": [
        "pipe =  Pipeline([\n",
        "                  ('regr', LogisticRegression())\n",
        "])"
      ],
      "execution_count": 57,
      "outputs": []
    },
    {
      "cell_type": "code",
      "metadata": {
        "colab": {
          "base_uri": "https://localhost:8080/"
        },
        "id": "TbfXL_jJnkvE",
        "outputId": "5611fb98-64ca-406e-f5df-475b154556c9"
      },
      "source": [
        "X"
      ],
      "execution_count": 58,
      "outputs": [
        {
          "output_type": "execute_result",
          "data": {
            "text/plain": [
              "array([[-1.52745689,  0.23615289, -0.59040246, ..., -0.32268651,\n",
              "         0.17278476,  2.23587704],\n",
              "       [-1.08718113, -0.56650089, -1.22236329, ..., -0.42458127,\n",
              "        -0.26962443,  1.89679427],\n",
              "       [ 0.63333482,  2.04067768, -0.77621513, ..., -0.77965499,\n",
              "        -0.32428655,  1.5905071 ],\n",
              "       ...,\n",
              "       [ 0.17958764,  1.48188874,  0.551488  , ...,  1.25505103,\n",
              "        -0.50411129,  0.0476332 ],\n",
              "       [ 0.0376015 , -1.20882331,  1.7403691 , ...,  0.60464464,\n",
              "        -1.15440153, -0.46901157],\n",
              "       [-1.02232956, -2.17039094,  0.72967718, ...,  1.97256885,\n",
              "         1.0100783 , -1.05165768]])"
            ]
          },
          "metadata": {},
          "execution_count": 58
        }
      ]
    },
    {
      "cell_type": "code",
      "metadata": {
        "id": "4pSqfrw2nll-"
      },
      "source": [
        "params = {\n",
        "    'regr__penalty': [ 'l2',  'none'],\n",
        "    'regr__dual':[False],\n",
        "    'regr__C': [1.0, 2.0, 3.0],\n",
        "}"
      ],
      "execution_count": 59,
      "outputs": []
    },
    {
      "cell_type": "code",
      "metadata": {
        "id": "daS_mv4Fn3q0"
      },
      "source": [
        "gs_cv = GridSearchCV(estimator=pipe, param_grid=params, cv=5, n_jobs=-1)"
      ],
      "execution_count": 62,
      "outputs": []
    },
    {
      "cell_type": "code",
      "metadata": {
        "id": "0XWOHmWKoEVX"
      },
      "source": [
        ""
      ],
      "execution_count": null,
      "outputs": []
    }
  ]
}