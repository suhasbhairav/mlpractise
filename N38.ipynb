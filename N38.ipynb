{
  "nbformat": 4,
  "nbformat_minor": 0,
  "metadata": {
    "colab": {
      "name": "N38.ipynb",
      "provenance": [],
      "collapsed_sections": [],
      "authorship_tag": "ABX9TyM+8QbBQWBONAc5Z+bzK3+K"
    },
    "kernelspec": {
      "name": "python3",
      "display_name": "Python 3"
    },
    "language_info": {
      "name": "python"
    }
  },
  "cells": [
    {
      "cell_type": "code",
      "metadata": {
        "id": "6ykIvb9iLUN1"
      },
      "source": [
        "import nltk"
      ],
      "execution_count": 1,
      "outputs": []
    },
    {
      "cell_type": "code",
      "metadata": {
        "colab": {
          "base_uri": "https://localhost:8080/"
        },
        "id": "me95wxS7OWoI",
        "outputId": "416e2211-5c1a-488c-e76f-3a77f13c4110"
      },
      "source": [
        "nltk.download('stopwords')"
      ],
      "execution_count": 2,
      "outputs": [
        {
          "output_type": "stream",
          "name": "stdout",
          "text": [
            "[nltk_data] Downloading package stopwords to /root/nltk_data...\n",
            "[nltk_data]   Unzipping corpora/stopwords.zip.\n"
          ]
        },
        {
          "output_type": "execute_result",
          "data": {
            "text/plain": [
              "True"
            ]
          },
          "metadata": {},
          "execution_count": 2
        }
      ]
    },
    {
      "cell_type": "code",
      "metadata": {
        "id": "_rwjleNMOa2h"
      },
      "source": [
        "import gensim\n",
        "import gensim.corpora as corpora\n",
        "from gensim.utils import simple_preprocess\n",
        "from gensim.models import CoherenceModel"
      ],
      "execution_count": 3,
      "outputs": []
    },
    {
      "cell_type": "code",
      "metadata": {
        "id": "Fq7QZKbiOoRP"
      },
      "source": [
        "data = [\n",
        "        \"Rahul Sharad Dravid born 11 January 1973) is a former Indian cricketer and captain of the Indian national team, currently serving as its head coach. Prior to his appointment to the senior men's national team, Dravid was the Head of Cricket at the National Cricket Academy (NCA)\",\n",
        "        \"Under his tutelage, the under-19 team finished runners up at the 2016 U-19 Cricket World Cup and won the 2018 U-19 Cricket World Cup. Known for his sound batting technique\",\n",
        "        \"Born in a Marathi family and raised in Bangalore, he started playing cricket at the age of 12 and later represented Karnataka at the under-15, under-17 and under-19 levels\",\n",
        "        \"Hailed as The Wall, Dravid was named one of the best five cricketers of the year by Wisden Cricketers' Almanack in 2000 and received the Player of the Year and the Test Player of the Year awards at the inaugural ICC awards ceremony in 2004\",\n",
        "        \"As of December 2016, Dravid is the fourth-highest run scorer in Test cricket, after Sachin Tendulkar, Ricky Ponting and Jacques Kallis\"\n",
        "]"
      ],
      "execution_count": 5,
      "outputs": []
    },
    {
      "cell_type": "code",
      "metadata": {
        "id": "nprFCXbgO5ga"
      },
      "source": [
        "from nltk.corpus import stopwords"
      ],
      "execution_count": 6,
      "outputs": []
    },
    {
      "cell_type": "code",
      "metadata": {
        "id": "CUq3lGOIPLyG"
      },
      "source": [
        "import spacy"
      ],
      "execution_count": 7,
      "outputs": []
    },
    {
      "cell_type": "code",
      "metadata": {
        "id": "9a0btGhePM-g"
      },
      "source": [
        "stop_words = stopwords.words('english')"
      ],
      "execution_count": 8,
      "outputs": []
    },
    {
      "cell_type": "code",
      "metadata": {
        "id": "B4shExtbPSK1"
      },
      "source": [
        "import re"
      ],
      "execution_count": 9,
      "outputs": []
    },
    {
      "cell_type": "code",
      "metadata": {
        "id": "uSXKKZatPdn2"
      },
      "source": [
        "data = [re.sub(\"\\'\", \"\", sent) for sent in data]"
      ],
      "execution_count": 10,
      "outputs": []
    },
    {
      "cell_type": "code",
      "metadata": {
        "id": "-elWqnIVPkrj"
      },
      "source": [
        "def sent_to_words(texts):\n",
        "  for sentence in texts:\n",
        "    yield(gensim.utils.simple_preprocess(str(sentence), deacc=True))"
      ],
      "execution_count": 11,
      "outputs": []
    },
    {
      "cell_type": "code",
      "metadata": {
        "id": "nauBzZc2PyDL"
      },
      "source": [
        "data_words = list(sent_to_words(data))"
      ],
      "execution_count": 12,
      "outputs": []
    },
    {
      "cell_type": "code",
      "metadata": {
        "colab": {
          "base_uri": "https://localhost:8080/"
        },
        "id": "RAVwDnhUP2RQ",
        "outputId": "c03ac1c9-1c65-4317-c758-a6feeae16795"
      },
      "source": [
        "data_words[:1]"
      ],
      "execution_count": 14,
      "outputs": [
        {
          "output_type": "execute_result",
          "data": {
            "text/plain": [
              "[['rahul',\n",
              "  'sharad',\n",
              "  'dravid',\n",
              "  'born',\n",
              "  'january',\n",
              "  'is',\n",
              "  'former',\n",
              "  'indian',\n",
              "  'cricketer',\n",
              "  'and',\n",
              "  'captain',\n",
              "  'of',\n",
              "  'the',\n",
              "  'indian',\n",
              "  'national',\n",
              "  'team',\n",
              "  'currently',\n",
              "  'serving',\n",
              "  'as',\n",
              "  'its',\n",
              "  'head',\n",
              "  'coach',\n",
              "  'prior',\n",
              "  'to',\n",
              "  'his',\n",
              "  'appointment',\n",
              "  'to',\n",
              "  'the',\n",
              "  'senior',\n",
              "  'mens',\n",
              "  'national',\n",
              "  'team',\n",
              "  'dravid',\n",
              "  'was',\n",
              "  'the',\n",
              "  'head',\n",
              "  'of',\n",
              "  'cricket',\n",
              "  'at',\n",
              "  'the',\n",
              "  'national',\n",
              "  'cricket',\n",
              "  'academy',\n",
              "  'nca']]"
            ]
          },
          "metadata": {},
          "execution_count": 14
        }
      ]
    },
    {
      "cell_type": "code",
      "metadata": {
        "colab": {
          "base_uri": "https://localhost:8080/"
        },
        "id": "5_x-WLoiP3ge",
        "outputId": "6b9538a6-5e0f-4177-b5bf-361dc3141286"
      },
      "source": [
        "bigram = gensim.models.Phrases(data_words, min_count=5, threshold=100)\n",
        "trigram = gensim.models.Phrases(bigram[data_words], threshold=100)"
      ],
      "execution_count": 15,
      "outputs": [
        {
          "output_type": "stream",
          "name": "stderr",
          "text": [
            "/usr/local/lib/python3.7/dist-packages/gensim/models/phrases.py:598: UserWarning: For a faster implementation, use the gensim.models.phrases.Phraser class\n",
            "  warnings.warn(\"For a faster implementation, use the gensim.models.phrases.Phraser class\")\n"
          ]
        }
      ]
    },
    {
      "cell_type": "code",
      "metadata": {
        "id": "bFu-NOy7QGgQ"
      },
      "source": [
        "bigram_mod = gensim.models.phrases.Phraser(bigram)\n",
        "trigram_mod = gensim.models.phrases.Phraser(trigram)"
      ],
      "execution_count": 16,
      "outputs": []
    },
    {
      "cell_type": "code",
      "metadata": {
        "id": "mDDthA_SQRC3"
      },
      "source": [
        "def remove_stop_words(texts):\n",
        "  return [[word for word in simple_preprocess(str(doc)) if word not in stop_words]for doc in texts]"
      ],
      "execution_count": 23,
      "outputs": []
    },
    {
      "cell_type": "code",
      "metadata": {
        "id": "ghIqi6yCQk1Y"
      },
      "source": [
        "def make_bigrams(texts):\n",
        "  return [bigram[doc] for doc in texts]"
      ],
      "execution_count": 18,
      "outputs": []
    },
    {
      "cell_type": "code",
      "metadata": {
        "id": "XLT2M035QqtK"
      },
      "source": [
        "def make_trigrams(texts):\n",
        "  return [trigram[bigram[doc]] for doc in texts]"
      ],
      "execution_count": 19,
      "outputs": []
    },
    {
      "cell_type": "code",
      "metadata": {
        "id": "zhiJNMvoQxQy"
      },
      "source": [
        "def lemmatization(texts, allowed_postags=['NOUN', 'ADJ']):\n",
        "  texts_out = []\n",
        "  for sentence in texts:\n",
        "    doc = nlp(\" \".join(sentence))\n",
        "    texts_out.append([token.lemma_ for token in doc if token.pos_ in allowed_postags])\n",
        "  return texts_out"
      ],
      "execution_count": 20,
      "outputs": []
    },
    {
      "cell_type": "code",
      "metadata": {
        "colab": {
          "base_uri": "https://localhost:8080/"
        },
        "id": "hc5q7m47RLcS",
        "outputId": "75ec14ed-817b-43dc-f065-49aa7ebf6b33"
      },
      "source": [
        "print(trigram_mod[bigram[data_words[0]]])"
      ],
      "execution_count": 21,
      "outputs": [
        {
          "output_type": "stream",
          "name": "stdout",
          "text": [
            "['rahul', 'sharad', 'dravid', 'born', 'january', 'is', 'former', 'indian', 'cricketer', 'and', 'captain', 'of', 'the', 'indian', 'national', 'team', 'currently', 'serving', 'as', 'its', 'head', 'coach', 'prior', 'to', 'his', 'appointment', 'to', 'the', 'senior', 'mens', 'national', 'team', 'dravid', 'was', 'the', 'head', 'of', 'cricket', 'at', 'the', 'national', 'cricket', 'academy', 'nca']\n"
          ]
        },
        {
          "output_type": "stream",
          "name": "stderr",
          "text": [
            "/usr/local/lib/python3.7/dist-packages/gensim/models/phrases.py:598: UserWarning: For a faster implementation, use the gensim.models.phrases.Phraser class\n",
            "  warnings.warn(\"For a faster implementation, use the gensim.models.phrases.Phraser class\")\n"
          ]
        }
      ]
    },
    {
      "cell_type": "code",
      "metadata": {
        "id": "CPYnZZkORRoi"
      },
      "source": [
        "data_words_no_stop_words = remove_stop_words(data_words)"
      ],
      "execution_count": 24,
      "outputs": []
    },
    {
      "cell_type": "code",
      "metadata": {
        "colab": {
          "base_uri": "https://localhost:8080/"
        },
        "id": "i05nd2DkRYmd",
        "outputId": "c6d1c2b8-f7b7-42da-ca6c-e96d9e097f00"
      },
      "source": [
        "data_words_bigrams = make_bigrams(data_words_no_stop_words)"
      ],
      "execution_count": 25,
      "outputs": [
        {
          "output_type": "stream",
          "name": "stderr",
          "text": [
            "/usr/local/lib/python3.7/dist-packages/gensim/models/phrases.py:598: UserWarning: For a faster implementation, use the gensim.models.phrases.Phraser class\n",
            "  warnings.warn(\"For a faster implementation, use the gensim.models.phrases.Phraser class\")\n"
          ]
        }
      ]
    },
    {
      "cell_type": "code",
      "metadata": {
        "id": "Sc1P-WsKRmGY"
      },
      "source": [
        "nlp = spacy.load('en', disable=['parser', 'ner'])"
      ],
      "execution_count": 26,
      "outputs": []
    },
    {
      "cell_type": "code",
      "metadata": {
        "id": "fyg3wcfTRsA8"
      },
      "source": [
        "data_lemmatized = lemmatization(data_words_bigrams, allowed_postags=['NOUN', 'ADJ'])"
      ],
      "execution_count": 27,
      "outputs": []
    },
    {
      "cell_type": "code",
      "metadata": {
        "id": "RkMOjzDoRyNA"
      },
      "source": [
        "id2word = corpora.Dictionary(data_lemmatized)"
      ],
      "execution_count": 28,
      "outputs": []
    },
    {
      "cell_type": "code",
      "metadata": {
        "id": "KAJxOxxCR2Yp"
      },
      "source": [
        "texts = data_lemmatized"
      ],
      "execution_count": 29,
      "outputs": []
    },
    {
      "cell_type": "code",
      "metadata": {
        "id": "muN-jvirR3ji"
      },
      "source": [
        "corpus = [id2word.doc2bow(doc) for doc in data_lemmatized]"
      ],
      "execution_count": 30,
      "outputs": []
    },
    {
      "cell_type": "code",
      "metadata": {
        "id": "m_qHkriaSChf"
      },
      "source": [
        "lda_model = gensim.models.ldamodel.LdaModel(corpus=corpus, num_topics=10, id2word=id2word, chunksize=100, passes=10, alpha='auto', per_word_topics=True, update_every=1)"
      ],
      "execution_count": 31,
      "outputs": []
    },
    {
      "cell_type": "code",
      "metadata": {
        "colab": {
          "base_uri": "https://localhost:8080/"
        },
        "id": "3plNHrCnSUOw",
        "outputId": "4e375280-1683-47c5-bb98-82f45981592b"
      },
      "source": [
        "lda_model.print_topics()"
      ],
      "execution_count": 32,
      "outputs": [
        {
          "output_type": "execute_result",
          "data": {
            "text/plain": [
              "[(0,\n",
              "  '0.134*\"run\" + 0.134*\"high\" + 0.134*\"fourth\" + 0.134*\"scorer\" + 0.134*\"test\" + 0.012*\"team\" + 0.012*\"year\" + 0.012*\"sound\" + 0.012*\"award\" + 0.012*\"marathi\"'),\n",
              " (1,\n",
              "  '0.031*\"team\" + 0.031*\"test\" + 0.031*\"tutelage\" + 0.031*\"family\" + 0.031*\"level\" + 0.031*\"award\" + 0.031*\"year\" + 0.031*\"run\" + 0.031*\"high\" + 0.031*\"cricket\"'),\n",
              " (2,\n",
              "  '0.031*\"team\" + 0.031*\"level\" + 0.031*\"test\" + 0.031*\"marathi\" + 0.031*\"age\" + 0.031*\"cricket\" + 0.031*\"family\" + 0.031*\"tutelage\" + 0.031*\"high\" + 0.031*\"fourth\"'),\n",
              " (3,\n",
              "  '0.031*\"team\" + 0.031*\"test\" + 0.031*\"runner\" + 0.031*\"cricket\" + 0.031*\"marathi\" + 0.031*\"level\" + 0.031*\"age\" + 0.031*\"run\" + 0.031*\"fourth\" + 0.031*\"award\"'),\n",
              " (4,\n",
              "  '0.134*\"age\" + 0.134*\"cricket\" + 0.134*\"marathi\" + 0.134*\"level\" + 0.134*\"family\" + 0.012*\"team\" + 0.012*\"test\" + 0.012*\"cricketer\" + 0.012*\"runner\" + 0.012*\"scorer\"'),\n",
              " (5,\n",
              "  '0.159*\"team\" + 0.083*\"coach\" + 0.083*\"appointment\" + 0.083*\"former\" + 0.083*\"head\" + 0.083*\"indian\" + 0.083*\"men\" + 0.083*\"national\" + 0.083*\"senior\" + 0.008*\"test\"'),\n",
              " (6,\n",
              "  '0.180*\"year\" + 0.122*\"player\" + 0.122*\"award\" + 0.122*\"cricketer\" + 0.064*\"test\" + 0.064*\"good\" + 0.064*\"almanack\" + 0.064*\"inaugural\" + 0.064*\"wisden\" + 0.006*\"team\"'),\n",
              " (7,\n",
              "  '0.120*\"batting\" + 0.120*\"technique\" + 0.120*\"sound\" + 0.120*\"runner\" + 0.120*\"tutelage\" + 0.120*\"team\" + 0.011*\"fourth\" + 0.011*\"marathi\" + 0.011*\"scorer\" + 0.011*\"level\"'),\n",
              " (8,\n",
              "  '0.031*\"team\" + 0.031*\"test\" + 0.031*\"level\" + 0.031*\"marathi\" + 0.031*\"family\" + 0.031*\"tutelage\" + 0.031*\"cricketer\" + 0.031*\"run\" + 0.031*\"high\" + 0.031*\"cricket\"'),\n",
              " (9,\n",
              "  '0.031*\"team\" + 0.031*\"test\" + 0.031*\"scorer\" + 0.031*\"family\" + 0.031*\"tutelage\" + 0.031*\"level\" + 0.031*\"marathi\" + 0.031*\"fourth\" + 0.031*\"run\" + 0.031*\"high\"')]"
            ]
          },
          "metadata": {},
          "execution_count": 32
        }
      ]
    },
    {
      "cell_type": "code",
      "metadata": {
        "colab": {
          "base_uri": "https://localhost:8080/"
        },
        "id": "7sArX7BWSWa0",
        "outputId": "11404323-2f7d-41dc-d176-26aeee2b5488"
      },
      "source": [
        "lda_model.log_perplexity(corpus)"
      ],
      "execution_count": 34,
      "outputs": [
        {
          "output_type": "execute_result",
          "data": {
            "text/plain": [
              "-4.210741095989943"
            ]
          },
          "metadata": {},
          "execution_count": 34
        }
      ]
    },
    {
      "cell_type": "code",
      "metadata": {
        "id": "mrjEG7koSZok"
      },
      "source": [
        "coherence_model = CoherenceModel(model=lda_model, texts=data_lemmatized, dictionary=id2word, coherence='c_v')"
      ],
      "execution_count": 35,
      "outputs": []
    },
    {
      "cell_type": "code",
      "metadata": {
        "colab": {
          "base_uri": "https://localhost:8080/"
        },
        "id": "BbBFCLPLSjvF",
        "outputId": "8d008061-c685-4944-800e-268dab4a0650"
      },
      "source": [
        "coherence_model.get_coherence()"
      ],
      "execution_count": 36,
      "outputs": [
        {
          "output_type": "execute_result",
          "data": {
            "text/plain": [
              "0.4847760273631875"
            ]
          },
          "metadata": {},
          "execution_count": 36
        }
      ]
    },
    {
      "cell_type": "code",
      "metadata": {
        "id": "8Orzx3ULSlm8"
      },
      "source": [
        "mallet_path = \"mallet\""
      ],
      "execution_count": 41,
      "outputs": []
    },
    {
      "cell_type": "code",
      "metadata": {
        "id": "vy3mqdxNURt8"
      },
      "source": [
        "def compute_coherence(dictionary, corpus, texts, limit, start=2, step=3):\n",
        "  coherence_values = []\n",
        "  model_list = []\n",
        "  for num_topics in range(start, limit, step):\n",
        "    model = gensim.models.ldamodel.LdaModel(corpus=corpus, num_topics=num_topics, id2word=id2word)\n",
        "    model_list.append(model)\n",
        "    coherence_model = CoherenceModel(model=model, texts=texts, dictionary=dictionary, coherence='c_v')\n",
        "    coherence_values.append(coherence_model.get_coherence())\n",
        "\n",
        "  return model_list, coherence_values"
      ],
      "execution_count": 44,
      "outputs": []
    },
    {
      "cell_type": "code",
      "metadata": {
        "id": "e_gdnR0pWJRx"
      },
      "source": [
        "model_list, coherence_values = compute_coherence(dictionary=id2word, corpus=corpus, texts=data_lemmatized, start=2, limit=40, step=6)"
      ],
      "execution_count": 46,
      "outputs": []
    },
    {
      "cell_type": "code",
      "metadata": {
        "colab": {
          "base_uri": "https://localhost:8080/"
        },
        "id": "RA4t30PqWXxL",
        "outputId": "8085e961-1228-46d8-ed77-98203ee77301"
      },
      "source": [
        "coherence_values"
      ],
      "execution_count": 47,
      "outputs": [
        {
          "output_type": "execute_result",
          "data": {
            "text/plain": [
              "[0.40925728895845725,\n",
              " 0.48129684642084186,\n",
              " 0.49780220405308945,\n",
              " 0.4194268993408129,\n",
              " 0.4191061264721526,\n",
              " 0.4198493576617343,\n",
              " 0.42035788426513243]"
            ]
          },
          "metadata": {},
          "execution_count": 47
        }
      ]
    },
    {
      "cell_type": "code",
      "metadata": {
        "id": "-tBK3NeRWfDR"
      },
      "source": [
        ""
      ],
      "execution_count": null,
      "outputs": []
    }
  ]
}