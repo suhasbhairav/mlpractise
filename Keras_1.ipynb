{
  "nbformat": 4,
  "nbformat_minor": 0,
  "metadata": {
    "colab": {
      "name": "Keras_1.ipynb",
      "provenance": [],
      "authorship_tag": "ABX9TyMeIw0tkJq3HGxTBkPwY1ao"
    },
    "kernelspec": {
      "name": "python3",
      "display_name": "Python 3"
    },
    "language_info": {
      "name": "python"
    }
  },
  "cells": [
    {
      "cell_type": "code",
      "metadata": {
        "id": "sh9gSafJtdCj"
      },
      "source": [
        "from keras.layers import Dense\n",
        "from keras.models import Sequential\n",
        "from keras.datasets import boston_housing"
      ],
      "execution_count": 1,
      "outputs": []
    },
    {
      "cell_type": "code",
      "metadata": {
        "id": "cG006HEpt35E"
      },
      "source": [
        "from keras.wrappers.scikit_learn import KerasRegressor"
      ],
      "execution_count": 2,
      "outputs": []
    },
    {
      "cell_type": "code",
      "metadata": {
        "id": "NsN1UsNwt_oZ"
      },
      "source": [
        "from sklearn.model_selection import KFold, cross_val_score"
      ],
      "execution_count": 3,
      "outputs": []
    },
    {
      "cell_type": "code",
      "metadata": {
        "id": "8EcviWYbuGKv"
      },
      "source": [
        "import numpy as np"
      ],
      "execution_count": 4,
      "outputs": []
    },
    {
      "cell_type": "code",
      "metadata": {
        "colab": {
          "base_uri": "https://localhost:8080/"
        },
        "id": "-cXBHxwcuIH_",
        "outputId": "53ee9307-f97e-43a7-8591-cea16239e68d"
      },
      "source": [
        "dataset = boston_housing.load_data()"
      ],
      "execution_count": 5,
      "outputs": [
        {
          "output_type": "stream",
          "name": "stdout",
          "text": [
            "Downloading data from https://storage.googleapis.com/tensorflow/tf-keras-datasets/boston_housing.npz\n",
            "57344/57026 [==============================] - 0s 1us/step\n",
            "65536/57026 [==================================] - 0s 0us/step\n"
          ]
        }
      ]
    },
    {
      "cell_type": "code",
      "metadata": {
        "id": "V46E99QYuPjU"
      },
      "source": [
        "(X_train, y_train), (X_test, y_test) = dataset"
      ],
      "execution_count": 6,
      "outputs": []
    },
    {
      "cell_type": "code",
      "metadata": {
        "colab": {
          "base_uri": "https://localhost:8080/"
        },
        "id": "70VQCJN3uaFn",
        "outputId": "5b7a531a-5d54-4a6d-bf61-e7aa596efabf"
      },
      "source": [
        "X_train.shape"
      ],
      "execution_count": 7,
      "outputs": [
        {
          "output_type": "execute_result",
          "data": {
            "text/plain": [
              "(404, 13)"
            ]
          },
          "metadata": {},
          "execution_count": 7
        }
      ]
    },
    {
      "cell_type": "code",
      "metadata": {
        "colab": {
          "base_uri": "https://localhost:8080/"
        },
        "id": "KnH8vYliucse",
        "outputId": "ce36ac10-f511-48cf-b277-55767b39636d"
      },
      "source": [
        "y_train.shape"
      ],
      "execution_count": 8,
      "outputs": [
        {
          "output_type": "execute_result",
          "data": {
            "text/plain": [
              "(404,)"
            ]
          },
          "metadata": {},
          "execution_count": 8
        }
      ]
    },
    {
      "cell_type": "code",
      "metadata": {
        "colab": {
          "base_uri": "https://localhost:8080/"
        },
        "id": "4wxJytRGufFb",
        "outputId": "457406dc-8e58-471f-c41f-4036c94e4212"
      },
      "source": [
        "X_train"
      ],
      "execution_count": 10,
      "outputs": [
        {
          "output_type": "execute_result",
          "data": {
            "text/plain": [
              "array([[1.23247e+00, 0.00000e+00, 8.14000e+00, ..., 2.10000e+01,\n",
              "        3.96900e+02, 1.87200e+01],\n",
              "       [2.17700e-02, 8.25000e+01, 2.03000e+00, ..., 1.47000e+01,\n",
              "        3.95380e+02, 3.11000e+00],\n",
              "       [4.89822e+00, 0.00000e+00, 1.81000e+01, ..., 2.02000e+01,\n",
              "        3.75520e+02, 3.26000e+00],\n",
              "       ...,\n",
              "       [3.46600e-02, 3.50000e+01, 6.06000e+00, ..., 1.69000e+01,\n",
              "        3.62250e+02, 7.83000e+00],\n",
              "       [2.14918e+00, 0.00000e+00, 1.95800e+01, ..., 1.47000e+01,\n",
              "        2.61950e+02, 1.57900e+01],\n",
              "       [1.43900e-02, 6.00000e+01, 2.93000e+00, ..., 1.56000e+01,\n",
              "        3.76700e+02, 4.38000e+00]])"
            ]
          },
          "metadata": {},
          "execution_count": 10
        }
      ]
    },
    {
      "cell_type": "code",
      "metadata": {
        "id": "ZZk_YyoauhMM"
      },
      "source": [
        "n_cols = X_train.shape[1]"
      ],
      "execution_count": 11,
      "outputs": []
    },
    {
      "cell_type": "code",
      "metadata": {
        "id": "WaWu1xpouoIy"
      },
      "source": [
        "model = Sequential()"
      ],
      "execution_count": 12,
      "outputs": []
    },
    {
      "cell_type": "code",
      "metadata": {
        "id": "rAJLLtcDuqdX"
      },
      "source": [
        "model.add(Dense(13, activation='relu', input_shape=(n_cols,), kernel_initializer='normal'))"
      ],
      "execution_count": 13,
      "outputs": []
    },
    {
      "cell_type": "code",
      "metadata": {
        "id": "Q9v1JtNbu19i"
      },
      "source": [
        "model.add(Dense(1, kernel_initializer='normal'))"
      ],
      "execution_count": 14,
      "outputs": []
    },
    {
      "cell_type": "code",
      "metadata": {
        "id": "xJ4A66_bu8F7"
      },
      "source": [
        "model.compile(optimizer='adam', loss='mean_squared_error')"
      ],
      "execution_count": 15,
      "outputs": []
    },
    {
      "cell_type": "code",
      "metadata": {
        "colab": {
          "base_uri": "https://localhost:8080/"
        },
        "id": "1aqsWYOxvELQ",
        "outputId": "6334dc97-061f-476e-b2c0-07a305582ced"
      },
      "source": [
        "model.summary()"
      ],
      "execution_count": 16,
      "outputs": [
        {
          "output_type": "stream",
          "name": "stdout",
          "text": [
            "Model: \"sequential\"\n",
            "_________________________________________________________________\n",
            "Layer (type)                 Output Shape              Param #   \n",
            "=================================================================\n",
            "dense (Dense)                (None, 13)                182       \n",
            "_________________________________________________________________\n",
            "dense_1 (Dense)              (None, 1)                 14        \n",
            "=================================================================\n",
            "Total params: 196\n",
            "Trainable params: 196\n",
            "Non-trainable params: 0\n",
            "_________________________________________________________________\n"
          ]
        }
      ]
    },
    {
      "cell_type": "code",
      "metadata": {
        "colab": {
          "base_uri": "https://localhost:8080/"
        },
        "id": "emZYu7SivG_Q",
        "outputId": "093323c8-0e65-4c39-cbf7-7a46a72b8a2d"
      },
      "source": [
        "history = model.fit(X_train, y_train, epochs=100)"
      ],
      "execution_count": 17,
      "outputs": [
        {
          "output_type": "stream",
          "name": "stdout",
          "text": [
            "Epoch 1/100\n",
            "13/13 [==============================] - 1s 2ms/step - loss: 476.1720\n",
            "Epoch 2/100\n",
            "13/13 [==============================] - 0s 2ms/step - loss: 330.6901\n",
            "Epoch 3/100\n",
            "13/13 [==============================] - 0s 2ms/step - loss: 228.2102\n",
            "Epoch 4/100\n",
            "13/13 [==============================] - 0s 2ms/step - loss: 150.9905\n",
            "Epoch 5/100\n",
            "13/13 [==============================] - 0s 2ms/step - loss: 120.9985\n",
            "Epoch 6/100\n",
            "13/13 [==============================] - 0s 2ms/step - loss: 114.0608\n",
            "Epoch 7/100\n",
            "13/13 [==============================] - 0s 2ms/step - loss: 107.4315\n",
            "Epoch 8/100\n",
            "13/13 [==============================] - 0s 2ms/step - loss: 100.9483\n",
            "Epoch 9/100\n",
            "13/13 [==============================] - 0s 2ms/step - loss: 95.3317\n",
            "Epoch 10/100\n",
            "13/13 [==============================] - 0s 1ms/step - loss: 88.2720\n",
            "Epoch 11/100\n",
            "13/13 [==============================] - 0s 1ms/step - loss: 82.7079\n",
            "Epoch 12/100\n",
            "13/13 [==============================] - 0s 2ms/step - loss: 77.7982\n",
            "Epoch 13/100\n",
            "13/13 [==============================] - 0s 2ms/step - loss: 73.8554\n",
            "Epoch 14/100\n",
            "13/13 [==============================] - 0s 1ms/step - loss: 71.2796\n",
            "Epoch 15/100\n",
            "13/13 [==============================] - 0s 1ms/step - loss: 68.2327\n",
            "Epoch 16/100\n",
            "13/13 [==============================] - 0s 1ms/step - loss: 66.2766\n",
            "Epoch 17/100\n",
            "13/13 [==============================] - 0s 2ms/step - loss: 64.8687\n",
            "Epoch 18/100\n",
            "13/13 [==============================] - 0s 1ms/step - loss: 63.3724\n",
            "Epoch 19/100\n",
            "13/13 [==============================] - 0s 2ms/step - loss: 62.6019\n",
            "Epoch 20/100\n",
            "13/13 [==============================] - 0s 1ms/step - loss: 61.3746\n",
            "Epoch 21/100\n",
            "13/13 [==============================] - 0s 1ms/step - loss: 60.3021\n",
            "Epoch 22/100\n",
            "13/13 [==============================] - 0s 2ms/step - loss: 59.2406\n",
            "Epoch 23/100\n",
            "13/13 [==============================] - 0s 2ms/step - loss: 58.7903\n",
            "Epoch 24/100\n",
            "13/13 [==============================] - 0s 2ms/step - loss: 57.7947\n",
            "Epoch 25/100\n",
            "13/13 [==============================] - 0s 1ms/step - loss: 57.0004\n",
            "Epoch 26/100\n",
            "13/13 [==============================] - 0s 1ms/step - loss: 56.9782\n",
            "Epoch 27/100\n",
            "13/13 [==============================] - 0s 2ms/step - loss: 55.9033\n",
            "Epoch 28/100\n",
            "13/13 [==============================] - 0s 2ms/step - loss: 55.8212\n",
            "Epoch 29/100\n",
            "13/13 [==============================] - 0s 1ms/step - loss: 55.1763\n",
            "Epoch 30/100\n",
            "13/13 [==============================] - 0s 2ms/step - loss: 54.6984\n",
            "Epoch 31/100\n",
            "13/13 [==============================] - 0s 2ms/step - loss: 54.1327\n",
            "Epoch 32/100\n",
            "13/13 [==============================] - 0s 2ms/step - loss: 53.5995\n",
            "Epoch 33/100\n",
            "13/13 [==============================] - 0s 2ms/step - loss: 53.2423\n",
            "Epoch 34/100\n",
            "13/13 [==============================] - 0s 1ms/step - loss: 52.5016\n",
            "Epoch 35/100\n",
            "13/13 [==============================] - 0s 2ms/step - loss: 52.3506\n",
            "Epoch 36/100\n",
            "13/13 [==============================] - 0s 2ms/step - loss: 52.0802\n",
            "Epoch 37/100\n",
            "13/13 [==============================] - 0s 2ms/step - loss: 51.4486\n",
            "Epoch 38/100\n",
            "13/13 [==============================] - 0s 2ms/step - loss: 50.8333\n",
            "Epoch 39/100\n",
            "13/13 [==============================] - 0s 1ms/step - loss: 50.3047\n",
            "Epoch 40/100\n",
            "13/13 [==============================] - 0s 2ms/step - loss: 50.1740\n",
            "Epoch 41/100\n",
            "13/13 [==============================] - 0s 2ms/step - loss: 49.7652\n",
            "Epoch 42/100\n",
            "13/13 [==============================] - 0s 2ms/step - loss: 49.0181\n",
            "Epoch 43/100\n",
            "13/13 [==============================] - 0s 1ms/step - loss: 48.3391\n",
            "Epoch 44/100\n",
            "13/13 [==============================] - 0s 2ms/step - loss: 47.5837\n",
            "Epoch 45/100\n",
            "13/13 [==============================] - 0s 2ms/step - loss: 47.5630\n",
            "Epoch 46/100\n",
            "13/13 [==============================] - 0s 1ms/step - loss: 47.2904\n",
            "Epoch 47/100\n",
            "13/13 [==============================] - 0s 2ms/step - loss: 46.3871\n",
            "Epoch 48/100\n",
            "13/13 [==============================] - 0s 2ms/step - loss: 45.7607\n",
            "Epoch 49/100\n",
            "13/13 [==============================] - 0s 2ms/step - loss: 45.1202\n",
            "Epoch 50/100\n",
            "13/13 [==============================] - 0s 1ms/step - loss: 44.8936\n",
            "Epoch 51/100\n",
            "13/13 [==============================] - 0s 2ms/step - loss: 44.9603\n",
            "Epoch 52/100\n",
            "13/13 [==============================] - 0s 1ms/step - loss: 43.7867\n",
            "Epoch 53/100\n",
            "13/13 [==============================] - 0s 2ms/step - loss: 43.7611\n",
            "Epoch 54/100\n",
            "13/13 [==============================] - 0s 1ms/step - loss: 42.5975\n",
            "Epoch 55/100\n",
            "13/13 [==============================] - 0s 1ms/step - loss: 42.2306\n",
            "Epoch 56/100\n",
            "13/13 [==============================] - 0s 2ms/step - loss: 41.4543\n",
            "Epoch 57/100\n",
            "13/13 [==============================] - 0s 2ms/step - loss: 41.3382\n",
            "Epoch 58/100\n",
            "13/13 [==============================] - 0s 2ms/step - loss: 41.0950\n",
            "Epoch 59/100\n",
            "13/13 [==============================] - 0s 2ms/step - loss: 40.4868\n",
            "Epoch 60/100\n",
            "13/13 [==============================] - 0s 2ms/step - loss: 39.7194\n",
            "Epoch 61/100\n",
            "13/13 [==============================] - 0s 2ms/step - loss: 39.7413\n",
            "Epoch 62/100\n",
            "13/13 [==============================] - 0s 2ms/step - loss: 39.1736\n",
            "Epoch 63/100\n",
            "13/13 [==============================] - 0s 2ms/step - loss: 39.6523\n",
            "Epoch 64/100\n",
            "13/13 [==============================] - 0s 2ms/step - loss: 41.2030\n",
            "Epoch 65/100\n",
            "13/13 [==============================] - 0s 2ms/step - loss: 39.0554\n",
            "Epoch 66/100\n",
            "13/13 [==============================] - 0s 2ms/step - loss: 37.8931\n",
            "Epoch 67/100\n",
            "13/13 [==============================] - 0s 2ms/step - loss: 37.7519\n",
            "Epoch 68/100\n",
            "13/13 [==============================] - 0s 2ms/step - loss: 37.2608\n",
            "Epoch 69/100\n",
            "13/13 [==============================] - 0s 2ms/step - loss: 36.8811\n",
            "Epoch 70/100\n",
            "13/13 [==============================] - 0s 2ms/step - loss: 37.0183\n",
            "Epoch 71/100\n",
            "13/13 [==============================] - 0s 1ms/step - loss: 36.4960\n",
            "Epoch 72/100\n",
            "13/13 [==============================] - 0s 1ms/step - loss: 35.9603\n",
            "Epoch 73/100\n",
            "13/13 [==============================] - 0s 2ms/step - loss: 36.3125\n",
            "Epoch 74/100\n",
            "13/13 [==============================] - 0s 2ms/step - loss: 35.8244\n",
            "Epoch 75/100\n",
            "13/13 [==============================] - 0s 2ms/step - loss: 35.6376\n",
            "Epoch 76/100\n",
            "13/13 [==============================] - 0s 2ms/step - loss: 36.6253\n",
            "Epoch 77/100\n",
            "13/13 [==============================] - 0s 2ms/step - loss: 34.9918\n",
            "Epoch 78/100\n",
            "13/13 [==============================] - 0s 2ms/step - loss: 35.4856\n",
            "Epoch 79/100\n",
            "13/13 [==============================] - 0s 2ms/step - loss: 34.6035\n",
            "Epoch 80/100\n",
            "13/13 [==============================] - 0s 2ms/step - loss: 34.5228\n",
            "Epoch 81/100\n",
            "13/13 [==============================] - 0s 2ms/step - loss: 34.0493\n",
            "Epoch 82/100\n",
            "13/13 [==============================] - 0s 2ms/step - loss: 34.1024\n",
            "Epoch 83/100\n",
            "13/13 [==============================] - 0s 1ms/step - loss: 33.7054\n",
            "Epoch 84/100\n",
            "13/13 [==============================] - 0s 2ms/step - loss: 34.0158\n",
            "Epoch 85/100\n",
            "13/13 [==============================] - 0s 2ms/step - loss: 34.2332\n",
            "Epoch 86/100\n",
            "13/13 [==============================] - 0s 2ms/step - loss: 36.4788\n",
            "Epoch 87/100\n",
            "13/13 [==============================] - 0s 1ms/step - loss: 33.1791\n",
            "Epoch 88/100\n",
            "13/13 [==============================] - 0s 1ms/step - loss: 33.0289\n",
            "Epoch 89/100\n",
            "13/13 [==============================] - 0s 2ms/step - loss: 33.0998\n",
            "Epoch 90/100\n",
            "13/13 [==============================] - 0s 1ms/step - loss: 32.7258\n",
            "Epoch 91/100\n",
            "13/13 [==============================] - 0s 2ms/step - loss: 32.9701\n",
            "Epoch 92/100\n",
            "13/13 [==============================] - 0s 2ms/step - loss: 32.3201\n",
            "Epoch 93/100\n",
            "13/13 [==============================] - 0s 2ms/step - loss: 32.3564\n",
            "Epoch 94/100\n",
            "13/13 [==============================] - 0s 2ms/step - loss: 32.1507\n",
            "Epoch 95/100\n",
            "13/13 [==============================] - 0s 1ms/step - loss: 32.2162\n",
            "Epoch 96/100\n",
            "13/13 [==============================] - 0s 2ms/step - loss: 33.7417\n",
            "Epoch 97/100\n",
            "13/13 [==============================] - 0s 1ms/step - loss: 33.2126\n",
            "Epoch 98/100\n",
            "13/13 [==============================] - 0s 2ms/step - loss: 31.6225\n",
            "Epoch 99/100\n",
            "13/13 [==============================] - 0s 1ms/step - loss: 31.3152\n",
            "Epoch 100/100\n",
            "13/13 [==============================] - 0s 1ms/step - loss: 31.6315\n"
          ]
        }
      ]
    },
    {
      "cell_type": "code",
      "metadata": {
        "colab": {
          "base_uri": "https://localhost:8080/"
        },
        "id": "0t_ObTPJvOVw",
        "outputId": "b322dd17-b3ae-4fc3-fbf3-75144b30e9f3"
      },
      "source": [
        "score = model.evaluate(X_test, y_test)"
      ],
      "execution_count": 18,
      "outputs": [
        {
          "output_type": "stream",
          "name": "stdout",
          "text": [
            "4/4 [==============================] - 0s 2ms/step - loss: 36.3460\n"
          ]
        }
      ]
    },
    {
      "cell_type": "code",
      "metadata": {
        "id": "lQR_oHtHvU8h"
      },
      "source": [
        ""
      ],
      "execution_count": null,
      "outputs": []
    }
  ]
}